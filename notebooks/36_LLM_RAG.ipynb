{
 "cells": [
  {
   "cell_type": "code",
   "execution_count": null,
   "id": "b4d15da2",
   "metadata": {},
   "outputs": [],
   "source": [
    "pip install transformers torch langchain-community\n"
   ]
  },
  {
   "cell_type": "code",
   "execution_count": 2,
   "id": "5e87dc22",
   "metadata": {},
   "outputs": [],
   "source": [
    "import os\n",
    "import warnings\n",
    "warnings.filterwarnings(\"ignore\")\n",
    "\n",
    "import torch\n",
    "\n",
    "from transformers import AutoModelForCausalLM, AutoTokenizer, pipeline\n",
    "from langchain_community.document_loaders import PyPDFDirectoryLoader\n",
    "from langchain.prompts.prompt import PromptTemplate\n",
    "from langchain.chains import LLMChain\n",
    "from langchain.llms import HuggingFacePipeline\n",
    "\n",
    "from huggingface_hub import login\n",
    "\n"
   ]
  },
  {
   "cell_type": "code",
   "execution_count": 3,
   "id": "da635a3f",
   "metadata": {},
   "outputs": [
    {
     "data": {
      "text/plain": [
       "True"
      ]
     },
     "execution_count": 3,
     "metadata": {},
     "output_type": "execute_result"
    }
   ],
   "source": [
    "# Load credentials\n",
    "from dotenv import load_dotenv\n",
    "load_dotenv(dotenv_path='../.env', verbose=True)\n",
    "\n",
    "\n"
   ]
  },
  {
   "cell_type": "code",
   "execution_count": 4,
   "id": "4d6e4257",
   "metadata": {},
   "outputs": [],
   "source": [
    "# Retrieve the Hugging Face token from environment variables\n",
    "hf_token = os.getenv('HF_TOKEN')"
   ]
  },
  {
   "cell_type": "code",
   "execution_count": 5,
   "id": "5feade85",
   "metadata": {},
   "outputs": [
    {
     "name": "stderr",
     "output_type": "stream",
     "text": [
      "Note: Environment variable`HF_TOKEN` is set and is the current active token independently from the token you've just configured.\n"
     ]
    }
   ],
   "source": [
    "# Log in to Hugging Face\n",
    "login(token=hf_token)"
   ]
  },
  {
   "cell_type": "code",
   "execution_count": 6,
   "id": "2224a94b",
   "metadata": {},
   "outputs": [],
   "source": [
    "# Define the directory containing PDF documents\n",
    "directory_path = \"../data/Training_docs/\"\n",
    "\n"
   ]
  },
  {
   "cell_type": "code",
   "execution_count": 7,
   "id": "c2ceb1b5",
   "metadata": {},
   "outputs": [],
   "source": [
    "# Initialize the directory loader\n",
    "directory_loader = PyPDFDirectoryLoader(directory_path)\n",
    "\n"
   ]
  },
  {
   "cell_type": "code",
   "execution_count": 8,
   "id": "312cb9c1",
   "metadata": {},
   "outputs": [],
   "source": [
    "# Load all documents from the directory\n",
    "documents = directory_loader.load()\n",
    "\n"
   ]
  },
  {
   "cell_type": "code",
   "execution_count": 9,
   "id": "65b459e0",
   "metadata": {},
   "outputs": [],
   "source": [
    "# Combine the content of all documents into a single string\n",
    "text_data = \"\\n\".join([doc.page_content for doc in documents])\n",
    "\n"
   ]
  },
  {
   "cell_type": "code",
   "execution_count": 10,
   "id": "2fd82019",
   "metadata": {},
   "outputs": [],
   "source": [
    "# Define the query\n",
    "query = \"\"\"\n",
    "    Given the information {information}, please tell me the most important points in the text.\n",
    "    Provide a summary of the text in 5 bullet points.\n",
    "    \"\"\"\n",
    "\n"
   ]
  },
  {
   "cell_type": "code",
   "execution_count": 11,
   "id": "2a6e9ea8",
   "metadata": {},
   "outputs": [],
   "source": [
    "# Define the prompt template\n",
    "prompt_template = PromptTemplate(\n",
    "    input_variables=[\"information\"],\n",
    "    template=query\n",
    ")\n",
    "\n",
    "\n"
   ]
  },
  {
   "cell_type": "code",
   "execution_count": null,
   "id": "ef3c65e6",
   "metadata": {},
   "outputs": [
    {
     "name": "stderr",
     "output_type": "stream",
     "text": [
      "Fetching 4 files:   0%|          | 0/4 [00:00<?, ?it/s]Error while downloading from https://cdn-lfs-us-1.hf.co/repos/55/ac/55acddbb5c2ac2041b89a858eeba82e6130c6160294d75fe51bfa8bd7a4e4518/d8cf9c4d0dd972e1a2131bfe656235ee98221679711a3beef6d46dadf0f20b5c?response-content-disposition=inline%3B+filename*%3DUTF-8%27%27model-00001-of-00004.safetensors%3B+filename%3D%22model-00001-of-00004.safetensors%22%3B&Expires=1743971357&Policy=eyJTdGF0ZW1lbnQiOlt7IkNvbmRpdGlvbiI6eyJEYXRlTGVzc1RoYW4iOnsiQVdTOkVwb2NoVGltZSI6MTc0Mzk3MTM1N319LCJSZXNvdXJjZSI6Imh0dHBzOi8vY2RuLWxmcy11cy0xLmhmLmNvL3JlcG9zLzU1L2FjLzU1YWNkZGJiNWMyYWMyMDQxYjg5YTg1OGVlYmE4MmU2MTMwYzYxNjAyOTRkNzVmZTUxYmZhOGJkN2E0ZTQ1MTgvZDhjZjljNGQwZGQ5NzJlMWEyMTMxYmZlNjU2MjM1ZWU5ODIyMTY3OTcxMWEzYmVlZjZkNDZkYWRmMGYyMGI1Yz9yZXNwb25zZS1jb250ZW50LWRpc3Bvc2l0aW9uPSoifV19&Signature=FBrwHNOkBx7l99GXKwVtOjeSdD6x3NOxhVv5c%7E-ELsX7oYkcq3j67FTU0Qi21dsla-txeTkySPgC42y1kRUjIgkUfjiy6hj04aBgLSEvWv6bfNsqgSsDrHD0fyaz5sju9VaCbrIMVnhlkDwuENgZj8cJEsky%7E4SIUC4B6E8%7EXTYMJGD3kEU7PTwK5-dVi%7E8aMjGKJurpQJs9nmfeJK5hzFc-ot3u4ZLpCnQ6ciEBIBer4ZEKVZXsLd3NtcZJO2TxoG4zwSckIOGrT8QgFRgFRBpG9i1%7EkLcukx99NtI7Jmrqp9PONA%7EwldmxXFqvwZq3HHy1BmoKFAZaXaouOfJ7Tw__&Key-Pair-Id=K24J24Z295AEI9: HTTPSConnectionPool(host='cdn-lfs-us-1.hf.co', port=443): Read timed out.\n",
      "Trying to resume download...\n",
      "Error while downloading from https://cdn-lfs-us-1.hf.co/repos/55/ac/55acddbb5c2ac2041b89a858eeba82e6130c6160294d75fe51bfa8bd7a4e4518/3acdd690e65c24f42a24581b8467af98bd3ca357444580f8012aacd2bd607921?response-content-disposition=inline%3B+filename*%3DUTF-8%27%27model-00003-of-00004.safetensors%3B+filename%3D%22model-00003-of-00004.safetensors%22%3B&Expires=1743971972&Policy=eyJTdGF0ZW1lbnQiOlt7IkNvbmRpdGlvbiI6eyJEYXRlTGVzc1RoYW4iOnsiQVdTOkVwb2NoVGltZSI6MTc0Mzk3MTk3Mn19LCJSZXNvdXJjZSI6Imh0dHBzOi8vY2RuLWxmcy11cy0xLmhmLmNvL3JlcG9zLzU1L2FjLzU1YWNkZGJiNWMyYWMyMDQxYjg5YTg1OGVlYmE4MmU2MTMwYzYxNjAyOTRkNzVmZTUxYmZhOGJkN2E0ZTQ1MTgvM2FjZGQ2OTBlNjVjMjRmNDJhMjQ1ODFiODQ2N2FmOThiZDNjYTM1NzQ0NDU4MGY4MDEyYWFjZDJiZDYwNzkyMT9yZXNwb25zZS1jb250ZW50LWRpc3Bvc2l0aW9uPSoifV19&Signature=ojxJOeC5IU731O6Nv9E4rPOqDFZJd8xPS6wdrXxfid4g%7E1X5Y7gcldYerb9PtSfw7lG0Z47YPECUjNjnvOBUehARucB5URug-5OeF2Uol4crqb%7El6jghZX3O-Fi3S6hJ2hCviapZHneSXqy-4BkckNMxzeg7qAnxov7MTqfA7M6U57E5tq6JwnIG3dXVO6Gs5eLTIoWpc5k3I9pWeHgXJZvHvg3GuxiJDfdYEJ8F0kz5IrnfPvP-I2jyeG5cC2oOKDea84tAlmYQqg0MlbJ4I71Vi7k5fSQwLaIY-rkrF9DF6P3JeClMZWnwW-yv7HpFMxyuvu4HyKcWHxKnFIiB0A__&Key-Pair-Id=K24J24Z295AEI9: HTTPSConnectionPool(host='cdn-lfs-us-1.hf.co', port=443): Read timed out.\n",
      "Trying to resume download...\n",
      "Error while downloading from https://cdn-lfs-us-1.hf.co/repos/55/ac/55acddbb5c2ac2041b89a858eeba82e6130c6160294d75fe51bfa8bd7a4e4518/8d4782b4a69ef03845159ce1a15e272aadaaf134dc138d68f616098e8531729c?response-content-disposition=inline%3B+filename*%3DUTF-8%27%27model-00002-of-00004.safetensors%3B+filename%3D%22model-00002-of-00004.safetensors%22%3B&Expires=1743970302&Policy=eyJTdGF0ZW1lbnQiOlt7IkNvbmRpdGlvbiI6eyJEYXRlTGVzc1RoYW4iOnsiQVdTOkVwb2NoVGltZSI6MTc0Mzk3MDMwMn19LCJSZXNvdXJjZSI6Imh0dHBzOi8vY2RuLWxmcy11cy0xLmhmLmNvL3JlcG9zLzU1L2FjLzU1YWNkZGJiNWMyYWMyMDQxYjg5YTg1OGVlYmE4MmU2MTMwYzYxNjAyOTRkNzVmZTUxYmZhOGJkN2E0ZTQ1MTgvOGQ0NzgyYjRhNjllZjAzODQ1MTU5Y2UxYTE1ZTI3MmFhZGFhZjEzNGRjMTM4ZDY4ZjYxNjA5OGU4NTMxNzI5Yz9yZXNwb25zZS1jb250ZW50LWRpc3Bvc2l0aW9uPSoifV19&Signature=MYjn0RaSHggu1XUC7pqtUmS754W7dKjIQQevSJoIgErOLBkOmXDnJpwD3SErrGEEHpZj5jdX3c0AK8T6pjUVMdzrh32CTWqat66aXV7D2ytCX8owIxD4sy7d2VJgs3IbO7JalgZMfQvzHtn60npTV9K7po%7EzFhnlPtEBcDcHKIfxfL86-YHZFSCLjpASTfsXDm4JxvkmtDjh9fJcalYKYx2dxGeTjyD%7E17XWYTZlzCf06sHbCP867EICpidiKHhvRWYYQvwZJJ4q0ipjrXA4lnp4WPdyOtcu1mc62-4gOi7oUN5ZfXco%7E%7EuLwJooQF6z7RIbS%7E%7EWdzGdPzWDITeV5Q__&Key-Pair-Id=K24J24Z295AEI9: HTTPSConnectionPool(host='cdn-lfs-us-1.hf.co', port=443): Read timed out.\n",
      "Trying to resume download...\n",
      "Error while downloading from https://cdn-lfs-us-1.hf.co/repos/55/ac/55acddbb5c2ac2041b89a858eeba82e6130c6160294d75fe51bfa8bd7a4e4518/3acdd690e65c24f42a24581b8467af98bd3ca357444580f8012aacd2bd607921?response-content-disposition=inline%3B+filename*%3DUTF-8%27%27model-00003-of-00004.safetensors%3B+filename%3D%22model-00003-of-00004.safetensors%22%3B&Expires=1743971972&Policy=eyJTdGF0ZW1lbnQiOlt7IkNvbmRpdGlvbiI6eyJEYXRlTGVzc1RoYW4iOnsiQVdTOkVwb2NoVGltZSI6MTc0Mzk3MTk3Mn19LCJSZXNvdXJjZSI6Imh0dHBzOi8vY2RuLWxmcy11cy0xLmhmLmNvL3JlcG9zLzU1L2FjLzU1YWNkZGJiNWMyYWMyMDQxYjg5YTg1OGVlYmE4MmU2MTMwYzYxNjAyOTRkNzVmZTUxYmZhOGJkN2E0ZTQ1MTgvM2FjZGQ2OTBlNjVjMjRmNDJhMjQ1ODFiODQ2N2FmOThiZDNjYTM1NzQ0NDU4MGY4MDEyYWFjZDJiZDYwNzkyMT9yZXNwb25zZS1jb250ZW50LWRpc3Bvc2l0aW9uPSoifV19&Signature=ojxJOeC5IU731O6Nv9E4rPOqDFZJd8xPS6wdrXxfid4g%7E1X5Y7gcldYerb9PtSfw7lG0Z47YPECUjNjnvOBUehARucB5URug-5OeF2Uol4crqb%7El6jghZX3O-Fi3S6hJ2hCviapZHneSXqy-4BkckNMxzeg7qAnxov7MTqfA7M6U57E5tq6JwnIG3dXVO6Gs5eLTIoWpc5k3I9pWeHgXJZvHvg3GuxiJDfdYEJ8F0kz5IrnfPvP-I2jyeG5cC2oOKDea84tAlmYQqg0MlbJ4I71Vi7k5fSQwLaIY-rkrF9DF6P3JeClMZWnwW-yv7HpFMxyuvu4HyKcWHxKnFIiB0A__&Key-Pair-Id=K24J24Z295AEI9: HTTPSConnectionPool(host='cdn-lfs-us-1.hf.co', port=443): Read timed out.\n",
      "Trying to resume download...\n"
     ]
    }
   ],
   "source": [
    "# Load the Llama 3 model and tokenizer\n",
    "model_id = \"meta-llama/Meta-Llama-3-8B-Instruct\"\n",
    "tokenizer = AutoTokenizer.from_pretrained(model_id, use_auth_token=hf_token)\n",
    "model = AutoModelForCausalLM.from_pretrained(\n",
    "    model_id,\n",
    "    use_auth_token=hf_token,\n",
    "    torch_dtype=torch.float16,\n",
    "    device_map=\"auto\"\n",
    ")\n",
    "\n"
   ]
  },
  {
   "cell_type": "code",
   "execution_count": null,
   "id": "6450992e",
   "metadata": {},
   "outputs": [],
   "source": [
    "# Create a text generation pipeline\n",
    "text_generation_pipeline = pipeline(\n",
    "    \"text-generation\",\n",
    "    model=model,\n",
    "    tokenizer=tokenizer,\n",
    "    max_length=1024,\n",
    "    temperature=0.7,\n",
    "    top_p=0.9,\n",
    "    repetition_penalty=1.1\n",
    ")\n",
    "\n"
   ]
  },
  {
   "cell_type": "code",
   "execution_count": null,
   "id": "b31a1bfd",
   "metadata": {},
   "outputs": [],
   "source": [
    "# Wrap the pipeline in a LangChain LLM\n",
    "llm = HuggingFacePipeline(pipeline=text_generation_pipeline)\n",
    "\n"
   ]
  },
  {
   "cell_type": "code",
   "execution_count": null,
   "id": "5d0887b7",
   "metadata": {},
   "outputs": [],
   "source": [
    "# Create the LLM chain\n",
    "chain = LLMChain(llm=llm, prompt=prompt_template)\n",
    "\n"
   ]
  },
  {
   "cell_type": "code",
   "execution_count": null,
   "id": "4f70eab7",
   "metadata": {},
   "outputs": [],
   "source": [
    "# Invoke the chain with the text data\n",
    "output = chain.invoke(input={\"information\": text_data})\n",
    "\n"
   ]
  },
  {
   "cell_type": "code",
   "execution_count": null,
   "id": "860e4ab6",
   "metadata": {},
   "outputs": [],
   "source": [
    "# Print the output\n",
    "print(output)"
   ]
  }
 ],
 "metadata": {
  "kernelspec": {
   "display_name": ".venv",
   "language": "python",
   "name": "python3"
  },
  "language_info": {
   "codemirror_mode": {
    "name": "ipython",
    "version": 3
   },
   "file_extension": ".py",
   "mimetype": "text/x-python",
   "name": "python",
   "nbconvert_exporter": "python",
   "pygments_lexer": "ipython3",
   "version": "3.11.3"
  }
 },
 "nbformat": 4,
 "nbformat_minor": 5
}
