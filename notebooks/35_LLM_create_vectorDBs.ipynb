{
 "cells": [
  {
   "cell_type": "code",
   "execution_count": 1,
   "id": "63431aaf",
   "metadata": {},
   "outputs": [],
   "source": [
    "import os\n",
    "import warnings\n",
    "from langchain_text_splitters import RecursiveCharacterTextSplitter\n",
    "from langchain_huggingface import HuggingFaceEmbeddings\n",
    "from langchain_community.vectorstores import FAISS\n",
    "from langchain_community.document_loaders import PyPDFLoader\n",
    "from dotenv import load_dotenv"
   ]
  },
  {
   "cell_type": "code",
   "execution_count": 2,
   "id": "3324e939",
   "metadata": {},
   "outputs": [
    {
     "data": {
      "text/plain": [
       "True"
      ]
     },
     "execution_count": 2,
     "metadata": {},
     "output_type": "execute_result"
    }
   ],
   "source": [
    "warnings.filterwarnings(\"ignore\")\n",
    "load_dotenv()"
   ]
  },
  {
   "cell_type": "code",
   "execution_count": 3,
   "id": "875ae2cd",
   "metadata": {},
   "outputs": [],
   "source": [
    "# Define paths\n",
    "doc_path = \"../data/Training_docs/\"\n",
    "db_path = \"../data/vector_databases/\""
   ]
  },
  {
   "cell_type": "code",
   "execution_count": 4,
   "id": "7618ec26",
   "metadata": {},
   "outputs": [],
   "source": [
    "# Ensure the vector database directory exists\n",
    "os.makedirs(db_path, exist_ok=True)"
   ]
  },
  {
   "cell_type": "code",
   "execution_count": 5,
   "id": "695637ac",
   "metadata": {},
   "outputs": [],
   "source": [
    "# Initialize the embedding model once\n",
    "embedding_model = HuggingFaceEmbeddings(model_name='sentence-transformers/all-mpnet-base-v2')"
   ]
  },
  {
   "cell_type": "code",
   "execution_count": 6,
   "id": "8eda4444",
   "metadata": {},
   "outputs": [],
   "source": [
    "# Function to process a single PDF file\n",
    "def process_pdf(file_path, file_name):\n",
    "    try:\n",
    "        # Load PDF\n",
    "        loader = PyPDFLoader(file_path=file_path)\n",
    "        documents = loader.load()\n",
    "\n",
    "        # Split into chunks\n",
    "        text_splitter = RecursiveCharacterTextSplitter(chunk_size=800, chunk_overlap=80)\n",
    "        chunks = text_splitter.split_documents(documents=documents)\n",
    "\n",
    "        # Create vector store\n",
    "        vectorstore = FAISS.from_documents(documents=chunks, embedding=embedding_model)\n",
    "\n",
    "        # Save vector store\n",
    "        vectorstore.save_local(os.path.join(db_path, f\"{file_name}_vector_db\"))\n",
    "        print(f\"Processed and saved vector store for {file_name}\")\n",
    "    except Exception as e:\n",
    "        print(f\"Error processing {file_name}: {e}\")"
   ]
  },
  {
   "cell_type": "code",
   "execution_count": 7,
   "id": "f9d1b7dd",
   "metadata": {},
   "outputs": [
    {
     "name": "stdout",
     "output_type": "stream",
     "text": [
      "Processed and saved vector store for How_Die_Young_at_Very_Old_Age_Dr_Nir_Barzilai_2024_Longevity_Summit_Aviv\n",
      "Processed and saved vector store for Is_90_the_New 40_Dr_Michael_Roizen_2024_Longevity_Summit_Aviv_Clinics\n",
      "Processed and saved vector store for LifespanPodcast_Episode_1\n",
      "Processed and saved vector store for LifespanPodcast_Episode_2\n",
      "Processed and saved vector store for LifespanPodcast_Episode_3\n",
      "Processed and saved vector store for LifespanPodcast_Episode_4\n",
      "Processed and saved vector store for LifespanPodcast_Episode_5\n",
      "Processed and saved vector store for LifespanPodcast_Episode_6\n",
      "Processed and saved vector store for LifespanPodcast_Episode_7\n",
      "Processed and saved vector store for LifespanPodcast_Episode_8\n",
      "Processed and saved vector store for Lifespan_section_1\n",
      "Processed and saved vector store for Lifespan_section_10\n",
      "Processed and saved vector store for Lifespan_section_11\n",
      "Processed and saved vector store for Lifespan_section_12\n",
      "Processed and saved vector store for Lifespan_section_13\n",
      "Processed and saved vector store for Lifespan_section_14\n",
      "Processed and saved vector store for Lifespan_section_15\n",
      "Processed and saved vector store for Lifespan_section_16\n",
      "Processed and saved vector store for Lifespan_section_17\n",
      "Processed and saved vector store for Lifespan_section_18\n",
      "Processed and saved vector store for Lifespan_section_19\n",
      "Processed and saved vector store for Lifespan_section_2\n",
      "Processed and saved vector store for Lifespan_section_20\n",
      "Processed and saved vector store for Lifespan_section_3\n",
      "Processed and saved vector store for Lifespan_section_4\n",
      "Processed and saved vector store for Lifespan_section_5\n",
      "Processed and saved vector store for Lifespan_section_6\n",
      "Processed and saved vector store for Lifespan_section_7\n",
      "Processed and saved vector store for Lifespan_section_8\n",
      "Processed and saved vector store for Lifespan_section_9\n"
     ]
    }
   ],
   "source": [
    "# Iterate over all PDF files in the directory\n",
    "for file in os.listdir(doc_path):\n",
    "    if file.endswith(\".pdf\"):\n",
    "        file_name = os.path.splitext(file)[0]\n",
    "        file_path = os.path.join(doc_path, file)\n",
    "        process_pdf(file_path, file_name)"
   ]
  },
  {
   "cell_type": "code",
   "execution_count": 8,
   "id": "b379fb59",
   "metadata": {},
   "outputs": [],
   "source": [
    "# Define paths\n",
    "doc_path = \"../data/AWS/\"\n",
    "db_path = \"../data/vector_databases/AWS/\""
   ]
  },
  {
   "cell_type": "code",
   "execution_count": null,
   "id": "b7f16cda",
   "metadata": {},
   "outputs": [
    {
     "name": "stdout",
     "output_type": "stream",
     "text": [
      "Processed and saved vector store for 0706.1996\n"
     ]
    },
    {
     "name": "stderr",
     "output_type": "stream",
     "text": [
      "Ignoring wrong pointing object 9 0 (offset 0)\n",
      "Ignoring wrong pointing object 11 0 (offset 0)\n",
      "Ignoring wrong pointing object 13 0 (offset 0)\n",
      "Ignoring wrong pointing object 15 0 (offset 0)\n",
      "Ignoring wrong pointing object 25 0 (offset 0)\n"
     ]
    },
    {
     "name": "stdout",
     "output_type": "stream",
     "text": [
      "Processed and saved vector store for 1102.0933\n",
      "Processed and saved vector store for 1102.3369\n",
      "Processed and saved vector store for 1109.1296\n",
      "Processed and saved vector store for 1201.2900\n",
      "Processed and saved vector store for 1207.1891\n",
      "Processed and saved vector store for 1209.5046\n",
      "Processed and saved vector store for 1209.5754\n",
      "Processed and saved vector store for 1210.0037\n",
      "Processed and saved vector store for 1210.7480\n",
      "Processed and saved vector store for 1211.4911\n",
      "Processed and saved vector store for 1301.1077\n",
      "Processed and saved vector store for 1302.3861\n"
     ]
    },
    {
     "name": "stderr",
     "output_type": "stream",
     "text": [
      "Ignoring wrong pointing object 8 0 (offset 0)\n"
     ]
    },
    {
     "name": "stdout",
     "output_type": "stream",
     "text": [
      "Processed and saved vector store for 1302.6197\n",
      "Processed and saved vector store for 1304.0479\n"
     ]
    },
    {
     "name": "stderr",
     "output_type": "stream",
     "text": [
      "Ignoring wrong pointing object 50 0 (offset 0)\n",
      "Ignoring wrong pointing object 158 0 (offset 0)\n",
      "Ignoring wrong pointing object 161 0 (offset 0)\n",
      "Ignoring wrong pointing object 207 0 (offset 0)\n",
      "Ignoring wrong pointing object 216 0 (offset 0)\n",
      "Ignoring wrong pointing object 226 0 (offset 0)\n",
      "Ignoring wrong pointing object 255 0 (offset 0)\n",
      "Ignoring wrong pointing object 291 0 (offset 0)\n",
      "Ignoring wrong pointing object 298 0 (offset 0)\n"
     ]
    },
    {
     "name": "stdout",
     "output_type": "stream",
     "text": [
      "Processed and saved vector store for 1304.3546\n",
      "Processed and saved vector store for 1305.0113\n",
      "Processed and saved vector store for 1305.3634\n",
      "Processed and saved vector store for 1306.5104\n",
      "Processed and saved vector store for 1307.6583\n",
      "Processed and saved vector store for 1308.3690\n"
     ]
    },
    {
     "name": "stderr",
     "output_type": "stream",
     "text": [
      "Ignoring wrong pointing object 8 0 (offset 0)\n",
      "Ignoring wrong pointing object 10 0 (offset 0)\n",
      "Ignoring wrong pointing object 22 0 (offset 0)\n",
      "Ignoring wrong pointing object 25 0 (offset 0)\n",
      "Ignoring wrong pointing object 28 0 (offset 0)\n",
      "Ignoring wrong pointing object 56 0 (offset 0)\n",
      "Ignoring wrong pointing object 92 0 (offset 0)\n",
      "Ignoring wrong pointing object 98 0 (offset 0)\n",
      "Ignoring wrong pointing object 100 0 (offset 0)\n",
      "Ignoring wrong pointing object 160 0 (offset 0)\n",
      "Ignoring wrong pointing object 165 0 (offset 0)\n",
      "Ignoring wrong pointing object 248 0 (offset 0)\n",
      "Ignoring wrong pointing object 250 0 (offset 0)\n",
      "Ignoring wrong pointing object 252 0 (offset 0)\n",
      "Ignoring wrong pointing object 254 0 (offset 0)\n",
      "Ignoring wrong pointing object 261 0 (offset 0)\n",
      "Ignoring wrong pointing object 263 0 (offset 0)\n",
      "Ignoring wrong pointing object 270 0 (offset 0)\n",
      "Ignoring wrong pointing object 272 0 (offset 0)\n",
      "Ignoring wrong pointing object 274 0 (offset 0)\n",
      "Ignoring wrong pointing object 280 0 (offset 0)\n",
      "Ignoring wrong pointing object 282 0 (offset 0)\n",
      "Ignoring wrong pointing object 289 0 (offset 0)\n",
      "Ignoring wrong pointing object 291 0 (offset 0)\n",
      "Ignoring wrong pointing object 293 0 (offset 0)\n",
      "Ignoring wrong pointing object 299 0 (offset 0)\n",
      "Ignoring wrong pointing object 305 0 (offset 0)\n",
      "Ignoring wrong pointing object 311 0 (offset 0)\n",
      "Ignoring wrong pointing object 317 0 (offset 0)\n",
      "Ignoring wrong pointing object 319 0 (offset 0)\n",
      "Ignoring wrong pointing object 325 0 (offset 0)\n",
      "Ignoring wrong pointing object 331 0 (offset 0)\n",
      "Ignoring wrong pointing object 340 0 (offset 0)\n",
      "Ignoring wrong pointing object 342 0 (offset 0)\n",
      "Ignoring wrong pointing object 349 0 (offset 0)\n",
      "Ignoring wrong pointing object 351 0 (offset 0)\n",
      "Ignoring wrong pointing object 357 0 (offset 0)\n",
      "Ignoring wrong pointing object 359 0 (offset 0)\n"
     ]
    },
    {
     "name": "stdout",
     "output_type": "stream",
     "text": [
      "Processed and saved vector store for 1311.4276\n"
     ]
    },
    {
     "name": "stderr",
     "output_type": "stream",
     "text": [
      "Ignoring wrong pointing object 388 0 (offset 0)\n"
     ]
    },
    {
     "name": "stdout",
     "output_type": "stream",
     "text": [
      "Processed and saved vector store for 1311.4706\n",
      "Processed and saved vector store for 1312.6356\n",
      "Processed and saved vector store for 1401.2413\n",
      "Processed and saved vector store for 1401.5901\n",
      "Processed and saved vector store for 1401.7497\n"
     ]
    },
    {
     "name": "stderr",
     "output_type": "stream",
     "text": [
      "Ignoring wrong pointing object 8 0 (offset 0)\n",
      "Ignoring wrong pointing object 10 0 (offset 0)\n",
      "Ignoring wrong pointing object 32 0 (offset 0)\n",
      "Ignoring wrong pointing object 34 0 (offset 0)\n",
      "Ignoring wrong pointing object 36 0 (offset 0)\n",
      "Ignoring wrong pointing object 38 0 (offset 0)\n",
      "Ignoring wrong pointing object 40 0 (offset 0)\n",
      "Ignoring wrong pointing object 42 0 (offset 0)\n",
      "Ignoring wrong pointing object 44 0 (offset 0)\n",
      "Ignoring wrong pointing object 46 0 (offset 0)\n",
      "Ignoring wrong pointing object 48 0 (offset 0)\n",
      "Ignoring wrong pointing object 50 0 (offset 0)\n",
      "Ignoring wrong pointing object 52 0 (offset 0)\n",
      "Ignoring wrong pointing object 54 0 (offset 0)\n",
      "Ignoring wrong pointing object 56 0 (offset 0)\n",
      "Ignoring wrong pointing object 58 0 (offset 0)\n",
      "Ignoring wrong pointing object 60 0 (offset 0)\n",
      "Ignoring wrong pointing object 62 0 (offset 0)\n",
      "Ignoring wrong pointing object 64 0 (offset 0)\n",
      "Ignoring wrong pointing object 66 0 (offset 0)\n",
      "Ignoring wrong pointing object 68 0 (offset 0)\n",
      "Ignoring wrong pointing object 70 0 (offset 0)\n",
      "Ignoring wrong pointing object 72 0 (offset 0)\n",
      "Ignoring wrong pointing object 74 0 (offset 0)\n",
      "Ignoring wrong pointing object 76 0 (offset 0)\n",
      "Ignoring wrong pointing object 78 0 (offset 0)\n",
      "Ignoring wrong pointing object 80 0 (offset 0)\n",
      "Ignoring wrong pointing object 82 0 (offset 0)\n",
      "Ignoring wrong pointing object 84 0 (offset 0)\n",
      "Ignoring wrong pointing object 86 0 (offset 0)\n",
      "Ignoring wrong pointing object 88 0 (offset 0)\n",
      "Ignoring wrong pointing object 90 0 (offset 0)\n",
      "Ignoring wrong pointing object 92 0 (offset 0)\n",
      "Ignoring wrong pointing object 94 0 (offset 0)\n",
      "Ignoring wrong pointing object 96 0 (offset 0)\n",
      "Ignoring wrong pointing object 98 0 (offset 0)\n",
      "Ignoring wrong pointing object 100 0 (offset 0)\n",
      "Ignoring wrong pointing object 102 0 (offset 0)\n",
      "Ignoring wrong pointing object 104 0 (offset 0)\n",
      "Ignoring wrong pointing object 106 0 (offset 0)\n",
      "Ignoring wrong pointing object 108 0 (offset 0)\n",
      "Ignoring wrong pointing object 110 0 (offset 0)\n",
      "Ignoring wrong pointing object 112 0 (offset 0)\n",
      "Ignoring wrong pointing object 114 0 (offset 0)\n",
      "Ignoring wrong pointing object 116 0 (offset 0)\n"
     ]
    },
    {
     "name": "stdout",
     "output_type": "stream",
     "text": [
      "Processed and saved vector store for 1402.0836\n"
     ]
    },
    {
     "name": "stderr",
     "output_type": "stream",
     "text": [
      "Ignoring wrong pointing object 118 0 (offset 0)\n",
      "Ignoring wrong pointing object 120 0 (offset 0)\n",
      "Ignoring wrong pointing object 122 0 (offset 0)\n",
      "Ignoring wrong pointing object 124 0 (offset 0)\n",
      "Ignoring wrong pointing object 126 0 (offset 0)\n",
      "Ignoring wrong pointing object 128 0 (offset 0)\n",
      "Ignoring wrong pointing object 130 0 (offset 0)\n",
      "Ignoring wrong pointing object 136 0 (offset 0)\n",
      "Ignoring wrong pointing object 138 0 (offset 0)\n",
      "Ignoring wrong pointing object 140 0 (offset 0)\n",
      "Ignoring wrong pointing object 142 0 (offset 0)\n",
      "Ignoring wrong pointing object 144 0 (offset 0)\n",
      "Ignoring wrong pointing object 146 0 (offset 0)\n",
      "Ignoring wrong pointing object 148 0 (offset 0)\n",
      "Ignoring wrong pointing object 150 0 (offset 0)\n",
      "Ignoring wrong pointing object 162 0 (offset 0)\n",
      "Ignoring wrong pointing object 164 0 (offset 0)\n",
      "Ignoring wrong pointing object 166 0 (offset 0)\n",
      "Ignoring wrong pointing object 168 0 (offset 0)\n",
      "Ignoring wrong pointing object 170 0 (offset 0)\n",
      "Ignoring wrong pointing object 172 0 (offset 0)\n",
      "Ignoring wrong pointing object 174 0 (offset 0)\n",
      "Ignoring wrong pointing object 181 0 (offset 0)\n",
      "Ignoring wrong pointing object 183 0 (offset 0)\n",
      "Ignoring wrong pointing object 186 0 (offset 0)\n",
      "Ignoring wrong pointing object 188 0 (offset 0)\n"
     ]
    },
    {
     "name": "stdout",
     "output_type": "stream",
     "text": [
      "Processed and saved vector store for 1402.2272\n",
      "Processed and saved vector store for 1402.6367\n",
      "Processed and saved vector store for 1402.6465\n",
      "Processed and saved vector store for 1402.6910\n",
      "Processed and saved vector store for 1403.0638\n",
      "Processed and saved vector store for 1403.1034\n",
      "Processed and saved vector store for 1403.1876\n",
      "Processed and saved vector store for 1404.3604\n",
      "Processed and saved vector store for 1404.4804\n",
      "Processed and saved vector store for 1404.5111\n",
      "Processed and saved vector store for 1406.1976\n",
      "Processed and saved vector store for 1406.6612\n",
      "Processed and saved vector store for 1407.6030\n",
      "Processed and saved vector store for 1407.7622\n",
      "Processed and saved vector store for 1408.0463\n",
      "Processed and saved vector store for 1408.1325\n",
      "Processed and saved vector store for 1408.4518\n",
      "Processed and saved vector store for 1408.4856\n",
      "Processed and saved vector store for 1409.1542\n",
      "Processed and saved vector store for 1409.5062\n",
      "Processed and saved vector store for 1409.7827\n",
      "Processed and saved vector store for 1412.5062\n",
      "Processed and saved vector store for 1502.00759\n",
      "Processed and saved vector store for 1502.04307\n",
      "Processed and saved vector store for 1503.06159\n",
      "Processed and saved vector store for 1503.07040\n",
      "Processed and saved vector store for 1503.07518\n",
      "Processed and saved vector store for 1504.03063\n",
      "Processed and saved vector store for 1504.03576\n",
      "Processed and saved vector store for 1504.03984\n",
      "Processed and saved vector store for 1505.02474\n",
      "Processed and saved vector store for 1505.03900\n",
      "Processed and saved vector store for 1505.03902\n",
      "Processed and saved vector store for 1505.05121\n",
      "Processed and saved vector store for 1506.03893\n",
      "Processed and saved vector store for 1506.06795\n",
      "Processed and saved vector store for 1508.02200\n",
      "Processed and saved vector store for 1510.00767\n",
      "Processed and saved vector store for 1510.05296\n",
      "Processed and saved vector store for 1510.08045\n",
      "Processed and saved vector store for 1511.01239\n",
      "Processed and saved vector store for 1511.04470\n",
      "Processed and saved vector store for 1512.05213\n",
      "Processed and saved vector store for 1512.05431\n",
      "Processed and saved vector store for 1512.07644\n",
      "Processed and saved vector store for 1601.03419\n",
      "Processed and saved vector store for 1602.00600\n"
     ]
    },
    {
     "name": "stderr",
     "output_type": "stream",
     "text": [
      "Ignoring wrong pointing object 8 0 (offset 0)\n",
      "Ignoring wrong pointing object 10 0 (offset 0)\n",
      "Ignoring wrong pointing object 12 0 (offset 0)\n",
      "Ignoring wrong pointing object 14 0 (offset 0)\n",
      "Ignoring wrong pointing object 26 0 (offset 0)\n",
      "Ignoring wrong pointing object 32 0 (offset 0)\n",
      "Ignoring wrong pointing object 49 0 (offset 0)\n"
     ]
    },
    {
     "name": "stdout",
     "output_type": "stream",
     "text": [
      "Processed and saved vector store for 1602.00723\n",
      "Processed and saved vector store for 1602.01815\n",
      "Processed and saved vector store for 1602.02569\n",
      "Processed and saved vector store for 1603.04007\n",
      "Processed and saved vector store for 1603.06941\n",
      "Processed and saved vector store for 1603.09076\n",
      "Processed and saved vector store for 1604.00976\n",
      "Processed and saved vector store for 1604.06358\n",
      "Processed and saved vector store for 1605.07488\n",
      "Processed and saved vector store for 1606.01788\n",
      "Processed and saved vector store for 1606.03910\n",
      "Processed and saved vector store for 1606.04519\n",
      "Processed and saved vector store for 1606.09545\n",
      "Processed and saved vector store for 1607.01449\n"
     ]
    },
    {
     "name": "stderr",
     "output_type": "stream",
     "text": [
      "Ignoring wrong pointing object 9 0 (offset 0)\n",
      "Ignoring wrong pointing object 104 0 (offset 0)\n",
      "Ignoring wrong pointing object 106 0 (offset 0)\n"
     ]
    },
    {
     "name": "stdout",
     "output_type": "stream",
     "text": [
      "Processed and saved vector store for 1607.07259\n",
      "Processed and saved vector store for 1607.07834\n",
      "Processed and saved vector store for 1608.04824\n",
      "Processed and saved vector store for 1609.01570\n"
     ]
    },
    {
     "name": "stderr",
     "output_type": "stream",
     "text": [
      "Ignoring wrong pointing object 9 0 (offset 0)\n",
      "Ignoring wrong pointing object 11 0 (offset 0)\n",
      "Ignoring wrong pointing object 24 0 (offset 0)\n",
      "Ignoring wrong pointing object 27 0 (offset 0)\n",
      "Ignoring wrong pointing object 51 0 (offset 0)\n"
     ]
    },
    {
     "name": "stdout",
     "output_type": "stream",
     "text": [
      "Processed and saved vector store for 1609.06052\n"
     ]
    },
    {
     "name": "stderr",
     "output_type": "stream",
     "text": [
      "Ignoring wrong pointing object 8 0 (offset 0)\n",
      "Ignoring wrong pointing object 10 0 (offset 0)\n",
      "Ignoring wrong pointing object 12 0 (offset 0)\n"
     ]
    },
    {
     "name": "stdout",
     "output_type": "stream",
     "text": [
      "Processed and saved vector store for 1609.07214\n",
      "Processed and saved vector store for 1610.03668\n",
      "Processed and saved vector store for 1610.05066\n",
      "Processed and saved vector store for 1610.07278\n",
      "Processed and saved vector store for 1611.03191\n",
      "Processed and saved vector store for 1611.06049\n",
      "Processed and saved vector store for 1612.00396\n",
      "Processed and saved vector store for 1612.01429\n",
      "Processed and saved vector store for 1612.03859\n",
      "Processed and saved vector store for 1612.03976\n",
      "Processed and saved vector store for 1612.06650\n",
      "Processed and saved vector store for 1704.00494\n",
      "Processed and saved vector store for 1705.03318\n",
      "Processed and saved vector store for 1705.08396\n",
      "Processed and saved vector store for 1706.03085\n",
      "Processed and saved vector store for 1706.09813\n",
      "Processed and saved vector store for 1707.02340\n",
      "Processed and saved vector store for 1707.06038\n",
      "Processed and saved vector store for 1708.02967\n",
      "Processed and saved vector store for 1709.06958\n",
      "Processed and saved vector store for 1709.07439\n",
      "Processed and saved vector store for 1709.09850\n",
      "Processed and saved vector store for 1710.00960\n"
     ]
    },
    {
     "name": "stderr",
     "output_type": "stream",
     "text": [
      "Ignoring wrong pointing object 26 0 (offset 0)\n",
      "Ignoring wrong pointing object 32 0 (offset 0)\n",
      "Ignoring wrong pointing object 95 0 (offset 0)\n",
      "Ignoring wrong pointing object 97 0 (offset 0)\n"
     ]
    },
    {
     "name": "stdout",
     "output_type": "stream",
     "text": [
      "Processed and saved vector store for 1710.02362\n",
      "Processed and saved vector store for 1710.03268\n",
      "Processed and saved vector store for 1710.04195\n",
      "Processed and saved vector store for 1710.05246\n"
     ]
    },
    {
     "name": "stderr",
     "output_type": "stream",
     "text": [
      "Ignoring wrong pointing object 8 0 (offset 0)\n",
      "Ignoring wrong pointing object 11 0 (offset 0)\n",
      "Ignoring wrong pointing object 13 0 (offset 0)\n",
      "Ignoring wrong pointing object 21 0 (offset 0)\n",
      "Ignoring wrong pointing object 113 0 (offset 0)\n"
     ]
    },
    {
     "name": "stdout",
     "output_type": "stream",
     "text": [
      "Processed and saved vector store for 1711.09489\n",
      "Processed and saved vector store for 1712.01481\n",
      "Processed and saved vector store for 1712.04377\n",
      "Processed and saved vector store for 1712.04680\n",
      "Processed and saved vector store for 1712.05372\n",
      "Processed and saved vector store for 1712.06042\n",
      "Processed and saved vector store for 1801.02645\n",
      "Processed and saved vector store for 1801.07113\n",
      "Processed and saved vector store for 1801.08073\n",
      "Processed and saved vector store for 1801.09257\n",
      "Processed and saved vector store for 1801.09528\n",
      "Processed and saved vector store for 1801.10195\n",
      "Processed and saved vector store for 1802.02378\n",
      "Processed and saved vector store for 1802.02516\n",
      "Processed and saved vector store for 1802.02937\n",
      "Processed and saved vector store for 1802.07488\n",
      "Processed and saved vector store for 1802.07569\n",
      "Processed and saved vector store for 1803.03475\n",
      "Processed and saved vector store for 1803.03571\n",
      "Processed and saved vector store for 1803.04024\n"
     ]
    },
    {
     "name": "stderr",
     "output_type": "stream",
     "text": [
      "Ignoring wrong pointing object 8 0 (offset 0)\n"
     ]
    },
    {
     "name": "stdout",
     "output_type": "stream",
     "text": [
      "Processed and saved vector store for 1803.04915\n",
      "Processed and saved vector store for 1803.10063\n",
      "Processed and saved vector store for 1804.01069\n",
      "Processed and saved vector store for 1805.01530\n",
      "Processed and saved vector store for 1805.01552\n",
      "Processed and saved vector store for 1805.06681\n",
      "Processed and saved vector store for 1805.07058\n",
      "Processed and saved vector store for 1806.01467\n",
      "Processed and saved vector store for 1806.06716\n",
      "Processed and saved vector store for 1806.11376\n",
      "Processed and saved vector store for 1807.02288\n",
      "Processed and saved vector store for 1807.05637\n",
      "Processed and saved vector store for 1809.01241\n",
      "Processed and saved vector store for 1809.03732\n",
      "Processed and saved vector store for 1809.05880\n",
      "Processed and saved vector store for 1809.08920\n",
      "Processed and saved vector store for 1810.10664\n",
      "Processed and saved vector store for 1810.11195\n",
      "Processed and saved vector store for 1811.00092\n",
      "Processed and saved vector store for 1811.00649\n",
      "Processed and saved vector store for 1811.03620\n",
      "Processed and saved vector store for 1811.03943\n",
      "Processed and saved vector store for 1811.03952\n",
      "Processed and saved vector store for 1811.06018\n",
      "Processed and saved vector store for 1811.07093\n",
      "Processed and saved vector store for 1811.09326\n"
     ]
    },
    {
     "name": "stderr",
     "output_type": "stream",
     "text": [
      "Ignoring wrong pointing object 7 0 (offset 0)\n"
     ]
    },
    {
     "name": "stdout",
     "output_type": "stream",
     "text": [
      "Processed and saved vector store for 1812.07839\n"
     ]
    },
    {
     "name": "stderr",
     "output_type": "stream",
     "text": [
      "Ignoring wrong pointing object 8 0 (offset 0)\n",
      "Ignoring wrong pointing object 10 0 (offset 0)\n",
      "Ignoring wrong pointing object 65 0 (offset 0)\n",
      "Ignoring wrong pointing object 80 0 (offset 0)\n"
     ]
    },
    {
     "name": "stdout",
     "output_type": "stream",
     "text": [
      "Processed and saved vector store for 1901.00099\n",
      "Processed and saved vector store for 1901.04053\n",
      "Processed and saved vector store for 1901.06932\n"
     ]
    },
    {
     "name": "stderr",
     "output_type": "stream",
     "text": [
      "Ignoring wrong pointing object 51 0 (offset 0)\n",
      "Ignoring wrong pointing object 53 0 (offset 0)\n",
      "Ignoring wrong pointing object 71 0 (offset 0)\n",
      "Ignoring wrong pointing object 94 0 (offset 0)\n",
      "Ignoring wrong pointing object 145 0 (offset 0)\n",
      "Ignoring wrong pointing object 158 0 (offset 0)\n"
     ]
    },
    {
     "name": "stdout",
     "output_type": "stream",
     "text": [
      "Processed and saved vector store for 1901.07963\n",
      "Processed and saved vector store for 1903.04987\n"
     ]
    },
    {
     "name": "stderr",
     "output_type": "stream",
     "text": [
      "Ignoring wrong pointing object 10 0 (offset 0)\n",
      "Ignoring wrong pointing object 12 0 (offset 0)\n",
      "Ignoring wrong pointing object 21 0 (offset 0)\n",
      "Ignoring wrong pointing object 31 0 (offset 0)\n",
      "Ignoring wrong pointing object 405 0 (offset 0)\n",
      "Ignoring wrong pointing object 616 0 (offset 0)\n"
     ]
    },
    {
     "name": "stdout",
     "output_type": "stream",
     "text": [
      "Processed and saved vector store for 1903.05144\n",
      "Processed and saved vector store for 1903.05449\n",
      "Processed and saved vector store for 1903.12138\n",
      "Processed and saved vector store for 1904.01235\n",
      "Processed and saved vector store for 1904.02243\n"
     ]
    },
    {
     "name": "stderr",
     "output_type": "stream",
     "text": [
      "Ignoring wrong pointing object 8 0 (offset 0)\n",
      "Ignoring wrong pointing object 18 0 (offset 0)\n",
      "Ignoring wrong pointing object 58 0 (offset 0)\n",
      "Ignoring wrong pointing object 82 0 (offset 0)\n",
      "Ignoring wrong pointing object 84 0 (offset 0)\n",
      "Ignoring wrong pointing object 104 0 (offset 0)\n",
      "Ignoring wrong pointing object 108 0 (offset 0)\n",
      "Ignoring wrong pointing object 118 0 (offset 0)\n",
      "Ignoring wrong pointing object 128 0 (offset 0)\n",
      "Ignoring wrong pointing object 142 0 (offset 0)\n",
      "Ignoring wrong pointing object 156 0 (offset 0)\n"
     ]
    },
    {
     "name": "stdout",
     "output_type": "stream",
     "text": [
      "Processed and saved vector store for 1904.03024\n"
     ]
    },
    {
     "name": "stderr",
     "output_type": "stream",
     "text": [
      "Ignoring wrong pointing object 16 0 (offset 0)\n",
      "Ignoring wrong pointing object 18 0 (offset 0)\n",
      "Ignoring wrong pointing object 131 0 (offset 0)\n",
      "Ignoring wrong pointing object 139 0 (offset 0)\n",
      "Ignoring wrong pointing object 148 0 (offset 0)\n"
     ]
    },
    {
     "name": "stdout",
     "output_type": "stream",
     "text": [
      "Processed and saved vector store for 1904.05026\n"
     ]
    },
    {
     "name": "stderr",
     "output_type": "stream",
     "text": [
      "Ignoring wrong pointing object 8 0 (offset 0)\n",
      "Ignoring wrong pointing object 33 0 (offset 0)\n",
      "Ignoring wrong pointing object 106 0 (offset 0)\n",
      "Ignoring wrong pointing object 111 0 (offset 0)\n"
     ]
    },
    {
     "name": "stdout",
     "output_type": "stream",
     "text": [
      "Processed and saved vector store for 1904.05036\n",
      "Processed and saved vector store for 1904.05043\n",
      "Processed and saved vector store for 1904.12652\n",
      "Processed and saved vector store for 1905.02621\n",
      "Processed and saved vector store for 1905.03004\n",
      "Processed and saved vector store for 1905.07774\n"
     ]
    },
    {
     "name": "stderr",
     "output_type": "stream",
     "text": [
      "Ignoring wrong pointing object 8 0 (offset 0)\n",
      "Ignoring wrong pointing object 10 0 (offset 0)\n",
      "Ignoring wrong pointing object 12 0 (offset 0)\n",
      "Ignoring wrong pointing object 36 0 (offset 0)\n",
      "Ignoring wrong pointing object 38 0 (offset 0)\n"
     ]
    },
    {
     "name": "stdout",
     "output_type": "stream",
     "text": [
      "Processed and saved vector store for 1905.08099\n",
      "Processed and saved vector store for 1905.08912\n",
      "Processed and saved vector store for 1905.12405\n",
      "Processed and saved vector store for 1906.00862\n",
      "Processed and saved vector store for 1906.00871\n",
      "Processed and saved vector store for 1906.05820\n",
      "Processed and saved vector store for 1906.08154\n",
      "Processed and saved vector store for 1906.12047\n",
      "Processed and saved vector store for 1906.12048\n",
      "Processed and saved vector store for 1907.00329\n",
      "Processed and saved vector store for 1907.01666\n",
      "Processed and saved vector store for 1907.08711\n",
      "Processed and saved vector store for 1907.12742\n",
      "Processed and saved vector store for 1908.01555\n",
      "Processed and saved vector store for 1908.05298\n"
     ]
    },
    {
     "name": "stderr",
     "output_type": "stream",
     "text": [
      "Ignoring wrong pointing object 8 0 (offset 0)\n",
      "Ignoring wrong pointing object 10 0 (offset 0)\n",
      "Ignoring wrong pointing object 12 0 (offset 0)\n",
      "Ignoring wrong pointing object 28 0 (offset 0)\n",
      "Ignoring wrong pointing object 30 0 (offset 0)\n",
      "Ignoring wrong pointing object 121 0 (offset 0)\n",
      "Ignoring wrong pointing object 160 0 (offset 0)\n",
      "Ignoring wrong pointing object 162 0 (offset 0)\n"
     ]
    },
    {
     "name": "stdout",
     "output_type": "stream",
     "text": [
      "Processed and saved vector store for 1908.07048\n",
      "Processed and saved vector store for 1908.07611\n",
      "Processed and saved vector store for 1908.08135\n",
      "Processed and saved vector store for 1909.00954\n",
      "Processed and saved vector store for 1909.01735\n",
      "Processed and saved vector store for 1909.02199\n",
      "Processed and saved vector store for 1909.04560\n",
      "Processed and saved vector store for 1909.05198\n",
      "Processed and saved vector store for 1909.07469\n"
     ]
    },
    {
     "name": "stderr",
     "output_type": "stream",
     "text": [
      "Ignoring wrong pointing object 8 0 (offset 0)\n",
      "Ignoring wrong pointing object 10 0 (offset 0)\n",
      "Ignoring wrong pointing object 12 0 (offset 0)\n",
      "Ignoring wrong pointing object 14 0 (offset 0)\n",
      "Ignoring wrong pointing object 16 0 (offset 0)\n",
      "Ignoring wrong pointing object 90 0 (offset 0)\n",
      "Ignoring wrong pointing object 93 0 (offset 0)\n",
      "Ignoring wrong pointing object 136 0 (offset 0)\n",
      "Ignoring wrong pointing object 138 0 (offset 0)\n",
      "Ignoring wrong pointing object 140 0 (offset 0)\n",
      "Ignoring wrong pointing object 142 0 (offset 0)\n",
      "Ignoring wrong pointing object 144 0 (offset 0)\n",
      "Ignoring wrong pointing object 146 0 (offset 0)\n",
      "Ignoring wrong pointing object 173 0 (offset 0)\n",
      "Ignoring wrong pointing object 175 0 (offset 0)\n"
     ]
    },
    {
     "name": "stdout",
     "output_type": "stream",
     "text": [
      "Processed and saved vector store for 1909.10007\n"
     ]
    },
    {
     "name": "stderr",
     "output_type": "stream",
     "text": [
      "Ignoring wrong pointing object 183 0 (offset 0)\n",
      "Ignoring wrong pointing object 185 0 (offset 0)\n",
      "Ignoring wrong pointing object 193 0 (offset 0)\n",
      "Ignoring wrong pointing object 195 0 (offset 0)\n",
      "Ignoring wrong pointing object 203 0 (offset 0)\n",
      "Ignoring wrong pointing object 205 0 (offset 0)\n",
      "Ignoring wrong pointing object 251 0 (offset 0)\n",
      "Ignoring wrong pointing object 253 0 (offset 0)\n",
      "Ignoring wrong pointing object 261 0 (offset 0)\n",
      "Ignoring wrong pointing object 263 0 (offset 0)\n",
      "Ignoring wrong pointing object 370 0 (offset 0)\n",
      "Ignoring wrong pointing object 372 0 (offset 0)\n",
      "Ignoring wrong pointing object 380 0 (offset 0)\n",
      "Ignoring wrong pointing object 382 0 (offset 0)\n",
      "Ignoring wrong pointing object 407 0 (offset 0)\n",
      "Ignoring wrong pointing object 409 0 (offset 0)\n",
      "Ignoring wrong pointing object 417 0 (offset 0)\n",
      "Ignoring wrong pointing object 419 0 (offset 0)\n",
      "Ignoring wrong pointing object 447 0 (offset 0)\n",
      "Ignoring wrong pointing object 449 0 (offset 0)\n",
      "Ignoring wrong pointing object 491 0 (offset 0)\n",
      "Ignoring wrong pointing object 493 0 (offset 0)\n"
     ]
    },
    {
     "name": "stdout",
     "output_type": "stream",
     "text": [
      "Processed and saved vector store for 1909.10580\n",
      "Processed and saved vector store for 1909.10733\n",
      "Processed and saved vector store for 1909.10903\n",
      "Processed and saved vector store for 1909.11447\n",
      "Processed and saved vector store for 1909.11956\n"
     ]
    },
    {
     "name": "stderr",
     "output_type": "stream",
     "text": [
      "Ignoring wrong pointing object 8 0 (offset 0)\n",
      "Ignoring wrong pointing object 10 0 (offset 0)\n",
      "Ignoring wrong pointing object 12 0 (offset 0)\n",
      "Ignoring wrong pointing object 14 0 (offset 0)\n",
      "Ignoring wrong pointing object 30 0 (offset 0)\n",
      "Ignoring wrong pointing object 32 0 (offset 0)\n"
     ]
    },
    {
     "name": "stdout",
     "output_type": "stream",
     "text": [
      "Processed and saved vector store for 1910.01297\n",
      "Processed and saved vector store for 1910.02815\n",
      "Processed and saved vector store for 1910.04868\n",
      "Processed and saved vector store for 1910.06899\n",
      "Processed and saved vector store for 1910.10968\n"
     ]
    },
    {
     "name": "stderr",
     "output_type": "stream",
     "text": [
      "Ignoring wrong pointing object 8 0 (offset 0)\n",
      "Ignoring wrong pointing object 10 0 (offset 0)\n",
      "Ignoring wrong pointing object 13 0 (offset 0)\n",
      "Ignoring wrong pointing object 15 0 (offset 0)\n",
      "Ignoring wrong pointing object 25 0 (offset 0)\n",
      "Ignoring wrong pointing object 27 0 (offset 0)\n",
      "Ignoring wrong pointing object 49 0 (offset 0)\n",
      "Ignoring wrong pointing object 51 0 (offset 0)\n",
      "Ignoring wrong pointing object 53 0 (offset 0)\n",
      "Ignoring wrong pointing object 55 0 (offset 0)\n"
     ]
    },
    {
     "name": "stdout",
     "output_type": "stream",
     "text": [
      "Processed and saved vector store for 1910.11180\n"
     ]
    },
    {
     "name": "stderr",
     "output_type": "stream",
     "text": [
      "Ignoring wrong pointing object 8 0 (offset 0)\n",
      "Ignoring wrong pointing object 10 0 (offset 0)\n",
      "Ignoring wrong pointing object 14 0 (offset 0)\n",
      "Ignoring wrong pointing object 17 0 (offset 0)\n",
      "Ignoring wrong pointing object 19 0 (offset 0)\n",
      "Ignoring wrong pointing object 21 0 (offset 0)\n",
      "Ignoring wrong pointing object 25 0 (offset 0)\n",
      "Ignoring wrong pointing object 39 0 (offset 0)\n",
      "Ignoring wrong pointing object 49 0 (offset 0)\n",
      "Ignoring wrong pointing object 57 0 (offset 0)\n",
      "Ignoring wrong pointing object 61 0 (offset 0)\n"
     ]
    },
    {
     "name": "stdout",
     "output_type": "stream",
     "text": [
      "Processed and saved vector store for 1910.12055\n",
      "Processed and saved vector store for 1911.00863\n",
      "Processed and saved vector store for 1911.01174\n",
      "Processed and saved vector store for 1911.09035\n",
      "Processed and saved vector store for 1911.10617\n",
      "Processed and saved vector store for 1912.02899\n",
      "Processed and saved vector store for 1912.02901\n",
      "Processed and saved vector store for 1912.08163\n",
      "Processed and saved vector store for 1912.08312\n",
      "Processed and saved vector store for 1912.13167\n",
      "Processed and saved vector store for 2001.00209\n",
      "Processed and saved vector store for 2001.03426\n"
     ]
    },
    {
     "name": "stderr",
     "output_type": "stream",
     "text": [
      "Ignoring wrong pointing object 8 0 (offset 0)\n",
      "Ignoring wrong pointing object 10 0 (offset 0)\n",
      "Ignoring wrong pointing object 24 0 (offset 0)\n",
      "Ignoring wrong pointing object 69 0 (offset 0)\n",
      "Ignoring wrong pointing object 112 0 (offset 0)\n",
      "Ignoring wrong pointing object 123 0 (offset 0)\n",
      "Ignoring wrong pointing object 125 0 (offset 0)\n"
     ]
    },
    {
     "name": "stdout",
     "output_type": "stream",
     "text": [
      "Processed and saved vector store for 2001.03561\n",
      "Processed and saved vector store for 2001.06979\n",
      "Processed and saved vector store for 2002.04136\n",
      "Processed and saved vector store for 2002.05592\n",
      "Processed and saved vector store for 2002.06401\n",
      "Processed and saved vector store for 2002.08294\n",
      "Processed and saved vector store for 2002.10430\n",
      "Processed and saved vector store for 2002.12316\n",
      "Processed and saved vector store for 2003.01042\n",
      "Processed and saved vector store for 2003.01053\n"
     ]
    },
    {
     "name": "stderr",
     "output_type": "stream",
     "text": [
      "Ignoring wrong pointing object 8 0 (offset 0)\n",
      "Ignoring wrong pointing object 12 0 (offset 0)\n",
      "Ignoring wrong pointing object 14 0 (offset 0)\n",
      "Ignoring wrong pointing object 16 0 (offset 0)\n",
      "Ignoring wrong pointing object 30 0 (offset 0)\n",
      "Ignoring wrong pointing object 40 0 (offset 0)\n",
      "Ignoring wrong pointing object 52 0 (offset 0)\n",
      "Ignoring wrong pointing object 103 0 (offset 0)\n",
      "Ignoring wrong pointing object 105 0 (offset 0)\n",
      "Ignoring wrong pointing object 141 0 (offset 0)\n",
      "Ignoring wrong pointing object 222 0 (offset 0)\n",
      "Ignoring wrong pointing object 224 0 (offset 0)\n"
     ]
    },
    {
     "name": "stdout",
     "output_type": "stream",
     "text": [
      "Processed and saved vector store for 2003.02510\n",
      "Processed and saved vector store for 2003.03811\n",
      "Processed and saved vector store for 2003.05350\n",
      "Processed and saved vector store for 2003.05776\n",
      "Processed and saved vector store for 2003.07105\n",
      "Processed and saved vector store for 2003.07494\n",
      "Processed and saved vector store for 2003.08518\n",
      "Processed and saved vector store for 2003.10963\n"
     ]
    },
    {
     "name": "stderr",
     "output_type": "stream",
     "text": [
      "Ignoring wrong pointing object 12 0 (offset 0)\n",
      "Ignoring wrong pointing object 14 0 (offset 0)\n",
      "Ignoring wrong pointing object 36 0 (offset 0)\n",
      "Ignoring wrong pointing object 39 0 (offset 0)\n",
      "Ignoring wrong pointing object 55 0 (offset 0)\n",
      "Ignoring wrong pointing object 169 0 (offset 0)\n",
      "Ignoring wrong pointing object 183 0 (offset 0)\n"
     ]
    },
    {
     "name": "stdout",
     "output_type": "stream",
     "text": [
      "Processed and saved vector store for 2003.10965\n",
      "Processed and saved vector store for 2003.13543\n",
      "Processed and saved vector store for 2003.13665\n"
     ]
    },
    {
     "name": "stderr",
     "output_type": "stream",
     "text": [
      "Ignoring wrong pointing object 11 0 (offset 0)\n",
      "Ignoring wrong pointing object 20 0 (offset 0)\n",
      "Ignoring wrong pointing object 22 0 (offset 0)\n",
      "Ignoring wrong pointing object 32 0 (offset 0)\n"
     ]
    },
    {
     "name": "stdout",
     "output_type": "stream",
     "text": [
      "Processed and saved vector store for 2004.00579\n",
      "Processed and saved vector store for 2004.01819\n",
      "Processed and saved vector store for 2004.02631\n",
      "Processed and saved vector store for 2004.04470\n"
     ]
    },
    {
     "name": "stderr",
     "output_type": "stream",
     "text": [
      "Ignoring wrong pointing object 31 0 (offset 0)\n",
      "Ignoring wrong pointing object 41 0 (offset 0)\n"
     ]
    },
    {
     "name": "stdout",
     "output_type": "stream",
     "text": [
      "Processed and saved vector store for 2004.07580\n",
      "Processed and saved vector store for 2004.08491\n",
      "Processed and saved vector store for 2004.13689\n",
      "Processed and saved vector store for 2005.01579\n",
      "Processed and saved vector store for 2005.01798\n",
      "Processed and saved vector store for 2005.04055\n",
      "Processed and saved vector store for 2005.04877\n"
     ]
    },
    {
     "name": "stderr",
     "output_type": "stream",
     "text": [
      "Ignoring wrong pointing object 9 0 (offset 0)\n",
      "Ignoring wrong pointing object 27 0 (offset 0)\n",
      "Ignoring wrong pointing object 106 0 (offset 0)\n",
      "Ignoring wrong pointing object 108 0 (offset 0)\n"
     ]
    },
    {
     "name": "stdout",
     "output_type": "stream",
     "text": [
      "Processed and saved vector store for 2005.05437\n",
      "Processed and saved vector store for 2005.08002\n",
      "Processed and saved vector store for 2005.11082\n",
      "Processed and saved vector store for 2005.11767\n",
      "Processed and saved vector store for 2005.12402\n",
      "Processed and saved vector store for 2005.12425\n",
      "Processed and saved vector store for 2006.01511\n",
      "Processed and saved vector store for 2006.03611\n",
      "Processed and saved vector store for 2006.06435\n",
      "Processed and saved vector store for 2006.10884\n",
      "Processed and saved vector store for 2006.13131\n",
      "Processed and saved vector store for 2006.14930\n",
      "Processed and saved vector store for 2007.00577\n",
      "Processed and saved vector store for 2007.01363\n",
      "Processed and saved vector store for 2007.03774\n",
      "Processed and saved vector store for 2007.05379\n",
      "Processed and saved vector store for 2007.07429\n",
      "Processed and saved vector store for 2007.08464\n",
      "Processed and saved vector store for 2007.08652\n",
      "Processed and saved vector store for 2007.09093\n",
      "Processed and saved vector store for 2007.10458\n",
      "Processed and saved vector store for 2007.14542\n",
      "Processed and saved vector store for 2008.00263\n",
      "Processed and saved vector store for 2008.01126\n",
      "Processed and saved vector store for 2008.01615\n"
     ]
    },
    {
     "name": "stderr",
     "output_type": "stream",
     "text": [
      "Ignoring wrong pointing object 8 0 (offset 0)\n",
      "Ignoring wrong pointing object 10 0 (offset 0)\n",
      "Ignoring wrong pointing object 12 0 (offset 0)\n",
      "Ignoring wrong pointing object 14 0 (offset 0)\n",
      "Ignoring wrong pointing object 16 0 (offset 0)\n",
      "Ignoring wrong pointing object 26 0 (offset 0)\n",
      "Ignoring wrong pointing object 32 0 (offset 0)\n",
      "Ignoring wrong pointing object 44 0 (offset 0)\n",
      "Ignoring wrong pointing object 56 0 (offset 0)\n",
      "Ignoring wrong pointing object 58 0 (offset 0)\n",
      "Ignoring wrong pointing object 60 0 (offset 0)\n",
      "Ignoring wrong pointing object 83 0 (offset 0)\n",
      "Ignoring wrong pointing object 85 0 (offset 0)\n",
      "Ignoring wrong pointing object 87 0 (offset 0)\n",
      "Ignoring wrong pointing object 89 0 (offset 0)\n",
      "Ignoring wrong pointing object 91 0 (offset 0)\n",
      "Ignoring wrong pointing object 95 0 (offset 0)\n",
      "Ignoring wrong pointing object 97 0 (offset 0)\n",
      "Ignoring wrong pointing object 99 0 (offset 0)\n",
      "Ignoring wrong pointing object 129 0 (offset 0)\n",
      "Ignoring wrong pointing object 131 0 (offset 0)\n",
      "Ignoring wrong pointing object 133 0 (offset 0)\n"
     ]
    },
    {
     "name": "stdout",
     "output_type": "stream",
     "text": [
      "Processed and saved vector store for 2008.03557\n"
     ]
    },
    {
     "name": "stderr",
     "output_type": "stream",
     "text": [
      "Ignoring wrong pointing object 8 0 (offset 0)\n",
      "Ignoring wrong pointing object 123 0 (offset 0)\n",
      "Ignoring wrong pointing object 129 0 (offset 0)\n",
      "Ignoring wrong pointing object 131 0 (offset 0)\n",
      "Ignoring wrong pointing object 193 0 (offset 0)\n"
     ]
    },
    {
     "name": "stdout",
     "output_type": "stream",
     "text": [
      "Processed and saved vector store for 2008.05377\n",
      "Processed and saved vector store for 2008.08875\n",
      "Processed and saved vector store for 2008.12684\n",
      "Processed and saved vector store for 2009.10931\n",
      "Processed and saved vector store for 2009.11549\n",
      "Processed and saved vector store for 2009.12983\n",
      "Processed and saved vector store for 2010.03323\n",
      "Processed and saved vector store for 2010.07473\n",
      "Processed and saved vector store for 2010.11124\n",
      "Processed and saved vector store for 2010.11580\n"
     ]
    },
    {
     "name": "stderr",
     "output_type": "stream",
     "text": [
      "Ignoring wrong pointing object 8 0 (offset 0)\n",
      "Ignoring wrong pointing object 10 0 (offset 0)\n",
      "Ignoring wrong pointing object 12 0 (offset 0)\n",
      "Ignoring wrong pointing object 14 0 (offset 0)\n",
      "Ignoring wrong pointing object 22 0 (offset 0)\n",
      "Ignoring wrong pointing object 24 0 (offset 0)\n",
      "Ignoring wrong pointing object 38 0 (offset 0)\n",
      "Ignoring wrong pointing object 57 0 (offset 0)\n",
      "Ignoring wrong pointing object 59 0 (offset 0)\n",
      "Ignoring wrong pointing object 61 0 (offset 0)\n",
      "Ignoring wrong pointing object 63 0 (offset 0)\n",
      "Ignoring wrong pointing object 65 0 (offset 0)\n",
      "Ignoring wrong pointing object 73 0 (offset 0)\n",
      "Ignoring wrong pointing object 94 0 (offset 0)\n",
      "Ignoring wrong pointing object 96 0 (offset 0)\n",
      "Ignoring wrong pointing object 98 0 (offset 0)\n",
      "Ignoring wrong pointing object 100 0 (offset 0)\n",
      "Ignoring wrong pointing object 114 0 (offset 0)\n",
      "Ignoring wrong pointing object 170 0 (offset 0)\n",
      "Ignoring wrong pointing object 189 0 (offset 0)\n",
      "Ignoring wrong pointing object 245 0 (offset 0)\n"
     ]
    },
    {
     "name": "stdout",
     "output_type": "stream",
     "text": [
      "Processed and saved vector store for 2010.12902\n",
      "Processed and saved vector store for 2010.12948\n",
      "Processed and saved vector store for 2011.04172\n",
      "Processed and saved vector store for 2011.05342\n",
      "Processed and saved vector store for 2011.05881\n",
      "Processed and saved vector store for 2011.10301\n",
      "Processed and saved vector store for 2011.10372\n",
      "Processed and saved vector store for 2011.10447\n",
      "Processed and saved vector store for 2011.11099\n",
      "Processed and saved vector store for 2011.13012\n",
      "Processed and saved vector store for 2012.08580\n",
      "Processed and saved vector store for 2012.10167\n",
      "Processed and saved vector store for 2012.10338\n"
     ]
    },
    {
     "name": "stderr",
     "output_type": "stream",
     "text": [
      "Ignoring wrong pointing object 8 0 (offset 0)\n",
      "Ignoring wrong pointing object 11 0 (offset 0)\n",
      "Ignoring wrong pointing object 13 0 (offset 0)\n",
      "Ignoring wrong pointing object 15 0 (offset 0)\n",
      "Ignoring wrong pointing object 17 0 (offset 0)\n",
      "Ignoring wrong pointing object 19 0 (offset 0)\n",
      "Ignoring wrong pointing object 21 0 (offset 0)\n",
      "Ignoring wrong pointing object 23 0 (offset 0)\n",
      "Ignoring wrong pointing object 25 0 (offset 0)\n",
      "Ignoring wrong pointing object 27 0 (offset 0)\n",
      "Ignoring wrong pointing object 29 0 (offset 0)\n",
      "Ignoring wrong pointing object 38 0 (offset 0)\n",
      "Ignoring wrong pointing object 40 0 (offset 0)\n",
      "Ignoring wrong pointing object 47 0 (offset 0)\n",
      "Ignoring wrong pointing object 49 0 (offset 0)\n",
      "Ignoring wrong pointing object 51 0 (offset 0)\n",
      "Ignoring wrong pointing object 65 0 (offset 0)\n",
      "Ignoring wrong pointing object 71 0 (offset 0)\n",
      "Ignoring wrong pointing object 77 0 (offset 0)\n",
      "Ignoring wrong pointing object 79 0 (offset 0)\n",
      "Ignoring wrong pointing object 90 0 (offset 0)\n",
      "Ignoring wrong pointing object 114 0 (offset 0)\n",
      "Ignoring wrong pointing object 116 0 (offset 0)\n",
      "Ignoring wrong pointing object 122 0 (offset 0)\n",
      "Ignoring wrong pointing object 193 0 (offset 0)\n",
      "Ignoring wrong pointing object 195 0 (offset 0)\n",
      "Ignoring wrong pointing object 206 0 (offset 0)\n",
      "Ignoring wrong pointing object 245 0 (offset 0)\n",
      "Ignoring wrong pointing object 247 0 (offset 0)\n"
     ]
    },
    {
     "name": "stdout",
     "output_type": "stream",
     "text": [
      "Processed and saved vector store for 2012.12962\n",
      "Processed and saved vector store for 2101.00570\n",
      "Processed and saved vector store for 2101.05746\n",
      "Processed and saved vector store for 2101.06294\n",
      "Processed and saved vector store for 2101.07350\n"
     ]
    },
    {
     "name": "stderr",
     "output_type": "stream",
     "text": [
      "Ignoring wrong pointing object 8 0 (offset 0)\n",
      "Ignoring wrong pointing object 10 0 (offset 0)\n",
      "Ignoring wrong pointing object 12 0 (offset 0)\n",
      "Ignoring wrong pointing object 22 0 (offset 0)\n",
      "Ignoring wrong pointing object 28 0 (offset 0)\n",
      "Ignoring wrong pointing object 46 0 (offset 0)\n",
      "Ignoring wrong pointing object 94 0 (offset 0)\n",
      "Ignoring wrong pointing object 96 0 (offset 0)\n",
      "Ignoring wrong pointing object 164 0 (offset 0)\n",
      "Ignoring wrong pointing object 182 0 (offset 0)\n",
      "Ignoring wrong pointing object 197 0 (offset 0)\n"
     ]
    },
    {
     "name": "stdout",
     "output_type": "stream",
     "text": [
      "Processed and saved vector store for 2102.00836\n",
      "Processed and saved vector store for 2102.02250\n",
      "Processed and saved vector store for 2102.03253\n"
     ]
    },
    {
     "name": "stderr",
     "output_type": "stream",
     "text": [
      "Ignoring wrong pointing object 8 0 (offset 0)\n",
      "Ignoring wrong pointing object 24 0 (offset 0)\n",
      "Ignoring wrong pointing object 26 0 (offset 0)\n",
      "Ignoring wrong pointing object 33 0 (offset 0)\n",
      "Ignoring wrong pointing object 71 0 (offset 0)\n",
      "Ignoring wrong pointing object 122 0 (offset 0)\n"
     ]
    },
    {
     "name": "stdout",
     "output_type": "stream",
     "text": [
      "Processed and saved vector store for 2102.06178\n",
      "Processed and saved vector store for 2102.06526\n",
      "Processed and saved vector store for 2102.13210\n",
      "Processed and saved vector store for 2103.05431\n",
      "Processed and saved vector store for 2103.06145\n",
      "Processed and saved vector store for 2103.10795\n",
      "Processed and saved vector store for 2103.12187\n",
      "Processed and saved vector store for 2103.14061\n",
      "Processed and saved vector store for 2103.16587\n",
      "Processed and saved vector store for 2104.01469\n",
      "Processed and saved vector store for 2104.01829\n",
      "Processed and saved vector store for 2104.06109\n",
      "Processed and saved vector store for 2104.10210\n",
      "Processed and saved vector store for 2104.13228\n",
      "Processed and saved vector store for 2105.03410\n",
      "Processed and saved vector store for 2105.06535\n",
      "Processed and saved vector store for 2105.06811\n",
      "Processed and saved vector store for 2106.01756\n",
      "Processed and saved vector store for 2106.02953\n",
      "Processed and saved vector store for 2106.06691\n",
      "Processed and saved vector store for 2106.06929\n",
      "Processed and saved vector store for 2106.07610\n",
      "Processed and saved vector store for 2106.12022\n",
      "Processed and saved vector store for 2106.13649\n",
      "Processed and saved vector store for 2106.14362\n",
      "Processed and saved vector store for 2107.01699\n",
      "Processed and saved vector store for 2107.06823\n",
      "Processed and saved vector store for 2107.07090\n",
      "Processed and saved vector store for 2107.07977\n",
      "Processed and saved vector store for 2107.08575\n",
      "Processed and saved vector store for 2107.12901\n"
     ]
    },
    {
     "name": "stderr",
     "output_type": "stream",
     "text": [
      "Ignoring wrong pointing object 6 0 (offset 0)\n",
      "Ignoring wrong pointing object 8 0 (offset 0)\n",
      "Ignoring wrong pointing object 10 0 (offset 0)\n",
      "Ignoring wrong pointing object 12 0 (offset 0)\n",
      "Ignoring wrong pointing object 14 0 (offset 0)\n",
      "Ignoring wrong pointing object 24 0 (offset 0)\n",
      "Ignoring wrong pointing object 66 0 (offset 0)\n",
      "Ignoring wrong pointing object 81 0 (offset 0)\n",
      "Ignoring wrong pointing object 83 0 (offset 0)\n",
      "Ignoring wrong pointing object 85 0 (offset 0)\n",
      "Ignoring wrong pointing object 87 0 (offset 0)\n",
      "Ignoring wrong pointing object 89 0 (offset 0)\n",
      "Ignoring wrong pointing object 135 0 (offset 0)\n",
      "Ignoring wrong pointing object 163 0 (offset 0)\n",
      "Ignoring wrong pointing object 177 0 (offset 0)\n",
      "Ignoring wrong pointing object 179 0 (offset 0)\n",
      "Ignoring wrong pointing object 181 0 (offset 0)\n"
     ]
    },
    {
     "name": "stdout",
     "output_type": "stream",
     "text": [
      "Processed and saved vector store for 2107.13219\n",
      "Processed and saved vector store for 2108.05186\n",
      "Processed and saved vector store for 2108.08214\n",
      "Processed and saved vector store for 2108.11604\n",
      "Processed and saved vector store for 2109.00852\n",
      "Processed and saved vector store for 2109.02041\n",
      "Processed and saved vector store for 2109.02785\n",
      "Processed and saved vector store for 2109.04038\n",
      "Processed and saved vector store for 2109.04261\n",
      "Processed and saved vector store for 2109.05230\n",
      "Processed and saved vector store for 2109.06123\n",
      "Processed and saved vector store for 2109.09801\n",
      "Processed and saved vector store for 2110.01731\n",
      "Processed and saved vector store for 2110.07605\n",
      "Processed and saved vector store for 2110.11347\n",
      "Processed and saved vector store for 2111.02692\n",
      "Processed and saved vector store for 2111.03565\n",
      "Processed and saved vector store for 2111.04866\n",
      "Processed and saved vector store for 2111.04935\n",
      "Processed and saved vector store for 2111.06247\n",
      "Processed and saved vector store for 2111.06279\n",
      "Processed and saved vector store for 2111.11256\n",
      "Processed and saved vector store for 2111.11753\n",
      "Processed and saved vector store for 2111.13612\n",
      "Processed and saved vector store for 2111.13785\n",
      "Processed and saved vector store for 2112.00221\n",
      "Processed and saved vector store for 2112.03259\n",
      "Processed and saved vector store for 2112.07555\n",
      "Processed and saved vector store for 2112.07579\n",
      "Processed and saved vector store for 2112.07760\n",
      "Processed and saved vector store for 2112.08040\n",
      "Processed and saved vector store for 2112.08126\n",
      "Processed and saved vector store for 2112.13271\n",
      "Processed and saved vector store for 2112.13273\n",
      "Processed and saved vector store for 2112.14500\n",
      "Processed and saved vector store for 2112.14852\n",
      "Processed and saved vector store for 2201.01818\n",
      "Processed and saved vector store for 2201.04282\n",
      "Processed and saved vector store for 2201.04983\n",
      "Processed and saved vector store for 2201.05396\n",
      "Processed and saved vector store for 2201.05612\n",
      "Processed and saved vector store for 2201.06687\n",
      "Processed and saved vector store for 2201.08176\n"
     ]
    },
    {
     "name": "stderr",
     "output_type": "stream",
     "text": [
      "Ignoring wrong pointing object 6 0 (offset 0)\n",
      "Ignoring wrong pointing object 8 0 (offset 0)\n",
      "Ignoring wrong pointing object 10 0 (offset 0)\n",
      "Ignoring wrong pointing object 16 0 (offset 0)\n",
      "Ignoring wrong pointing object 21 0 (offset 0)\n",
      "Ignoring wrong pointing object 26 0 (offset 0)\n",
      "Ignoring wrong pointing object 28 0 (offset 0)\n",
      "Ignoring wrong pointing object 30 0 (offset 0)\n"
     ]
    },
    {
     "name": "stdout",
     "output_type": "stream",
     "text": [
      "Processed and saved vector store for 2201.09854\n",
      "Processed and saved vector store for 2202.00143\n",
      "Processed and saved vector store for 2202.01115\n",
      "Processed and saved vector store for 2202.01672\n",
      "Processed and saved vector store for 2202.05158\n"
     ]
    },
    {
     "name": "stderr",
     "output_type": "stream",
     "text": [
      "Ignoring wrong pointing object 8 0 (offset 0)\n",
      "Ignoring wrong pointing object 10 0 (offset 0)\n",
      "Ignoring wrong pointing object 12 0 (offset 0)\n",
      "Ignoring wrong pointing object 14 0 (offset 0)\n",
      "Ignoring wrong pointing object 16 0 (offset 0)\n",
      "Ignoring wrong pointing object 18 0 (offset 0)\n",
      "Ignoring wrong pointing object 20 0 (offset 0)\n",
      "Ignoring wrong pointing object 22 0 (offset 0)\n",
      "Ignoring wrong pointing object 24 0 (offset 0)\n",
      "Ignoring wrong pointing object 77 0 (offset 0)\n",
      "Ignoring wrong pointing object 79 0 (offset 0)\n",
      "Ignoring wrong pointing object 81 0 (offset 0)\n",
      "Ignoring wrong pointing object 100 0 (offset 0)\n",
      "Ignoring wrong pointing object 102 0 (offset 0)\n",
      "Ignoring wrong pointing object 104 0 (offset 0)\n",
      "Ignoring wrong pointing object 106 0 (offset 0)\n",
      "Ignoring wrong pointing object 146 0 (offset 0)\n",
      "Ignoring wrong pointing object 168 0 (offset 0)\n",
      "Ignoring wrong pointing object 208 0 (offset 0)\n"
     ]
    },
    {
     "name": "stdout",
     "output_type": "stream",
     "text": [
      "Processed and saved vector store for 2202.07093\n",
      "Processed and saved vector store for 2202.07171\n",
      "Processed and saved vector store for 2202.09046\n",
      "Processed and saved vector store for 2202.11144\n",
      "Processed and saved vector store for 2203.00864\n",
      "Processed and saved vector store for 2203.05488\n",
      "Processed and saved vector store for 2203.10116\n",
      "Processed and saved vector store for 2203.12113\n",
      "Processed and saved vector store for 2203.14967\n",
      "Processed and saved vector store for 2204.00007\n",
      "Processed and saved vector store for 2204.03348\n",
      "Processed and saved vector store for 2204.03728\n",
      "Processed and saved vector store for 2204.10517\n",
      "Processed and saved vector store for 2204.12440\n",
      "Processed and saved vector store for 2205.03905\n",
      "Processed and saved vector store for 2205.04871\n",
      "Processed and saved vector store for 2205.08308\n",
      "Processed and saved vector store for 2205.10704\n",
      "Processed and saved vector store for 2205.11974\n",
      "Processed and saved vector store for 2206.00293\n",
      "Processed and saved vector store for 2206.08122\n",
      "Processed and saved vector store for 2206.09255\n",
      "Processed and saved vector store for 2207.08975\n",
      "Processed and saved vector store for 2208.00637\n",
      "Processed and saved vector store for 2208.03139\n",
      "Processed and saved vector store for 2208.05884\n",
      "Processed and saved vector store for 2208.06382\n",
      "Processed and saved vector store for 2208.10465\n",
      "Processed and saved vector store for 2208.11192\n",
      "Processed and saved vector store for 2208.13484\n",
      "Processed and saved vector store for 2209.02592\n",
      "Processed and saved vector store for 2209.12149\n",
      "Processed and saved vector store for 2209.13886\n",
      "Processed and saved vector store for 2210.03195\n",
      "Processed and saved vector store for 2210.04479\n"
     ]
    },
    {
     "name": "stderr",
     "output_type": "stream",
     "text": [
      "Ignoring wrong pointing object 6 0 (offset 0)\n",
      "Ignoring wrong pointing object 8 0 (offset 0)\n",
      "Ignoring wrong pointing object 10 0 (offset 0)\n",
      "Ignoring wrong pointing object 12 0 (offset 0)\n",
      "Ignoring wrong pointing object 14 0 (offset 0)\n",
      "Ignoring wrong pointing object 16 0 (offset 0)\n",
      "Ignoring wrong pointing object 18 0 (offset 0)\n",
      "Ignoring wrong pointing object 20 0 (offset 0)\n",
      "Ignoring wrong pointing object 22 0 (offset 0)\n",
      "Ignoring wrong pointing object 28 0 (offset 0)\n",
      "Ignoring wrong pointing object 36 0 (offset 0)\n",
      "Ignoring wrong pointing object 38 0 (offset 0)\n",
      "Ignoring wrong pointing object 46 0 (offset 0)\n",
      "Ignoring wrong pointing object 48 0 (offset 0)\n",
      "Ignoring wrong pointing object 73 0 (offset 0)\n",
      "Ignoring wrong pointing object 85 0 (offset 0)\n",
      "Ignoring wrong pointing object 87 0 (offset 0)\n",
      "Ignoring wrong pointing object 89 0 (offset 0)\n",
      "Ignoring wrong pointing object 91 0 (offset 0)\n",
      "Ignoring wrong pointing object 93 0 (offset 0)\n",
      "Ignoring wrong pointing object 95 0 (offset 0)\n",
      "Ignoring wrong pointing object 97 0 (offset 0)\n",
      "Ignoring wrong pointing object 100 0 (offset 0)\n",
      "Ignoring wrong pointing object 102 0 (offset 0)\n",
      "Ignoring wrong pointing object 106 0 (offset 0)\n",
      "Ignoring wrong pointing object 110 0 (offset 0)\n",
      "Ignoring wrong pointing object 112 0 (offset 0)\n",
      "Ignoring wrong pointing object 114 0 (offset 0)\n",
      "Ignoring wrong pointing object 140 0 (offset 0)\n",
      "Ignoring wrong pointing object 178 0 (offset 0)\n",
      "Ignoring wrong pointing object 180 0 (offset 0)\n",
      "Ignoring wrong pointing object 182 0 (offset 0)\n"
     ]
    },
    {
     "name": "stdout",
     "output_type": "stream",
     "text": [
      "Processed and saved vector store for 2210.05712\n"
     ]
    },
    {
     "name": "stderr",
     "output_type": "stream",
     "text": [
      "Ignoring wrong pointing object 187 0 (offset 0)\n",
      "Ignoring wrong pointing object 198 0 (offset 0)\n",
      "Ignoring wrong pointing object 203 0 (offset 0)\n",
      "Ignoring wrong pointing object 205 0 (offset 0)\n",
      "Ignoring wrong pointing object 214 0 (offset 0)\n",
      "Ignoring wrong pointing object 216 0 (offset 0)\n",
      "Ignoring wrong pointing object 218 0 (offset 0)\n",
      "Ignoring wrong pointing object 220 0 (offset 0)\n",
      "Ignoring wrong pointing object 222 0 (offset 0)\n",
      "Ignoring wrong pointing object 230 0 (offset 0)\n",
      "Ignoring wrong pointing object 239 0 (offset 0)\n",
      "Ignoring wrong pointing object 241 0 (offset 0)\n",
      "Ignoring wrong pointing object 243 0 (offset 0)\n",
      "Ignoring wrong pointing object 245 0 (offset 0)\n",
      "Ignoring wrong pointing object 248 0 (offset 0)\n",
      "Ignoring wrong pointing object 261 0 (offset 0)\n",
      "Ignoring wrong pointing object 263 0 (offset 0)\n",
      "Ignoring wrong pointing object 272 0 (offset 0)\n",
      "Ignoring wrong pointing object 296 0 (offset 0)\n",
      "Ignoring wrong pointing object 368 0 (offset 0)\n",
      "Ignoring wrong pointing object 370 0 (offset 0)\n"
     ]
    },
    {
     "name": "stdout",
     "output_type": "stream",
     "text": [
      "Processed and saved vector store for 2210.05880\n",
      "Processed and saved vector store for 2210.07309\n",
      "Processed and saved vector store for 2210.13925\n",
      "Processed and saved vector store for 2210.16363\n",
      "Processed and saved vector store for 2211.01867\n",
      "Processed and saved vector store for 2211.02430\n",
      "Processed and saved vector store for 2211.02829\n",
      "Processed and saved vector store for 2211.03507\n",
      "Processed and saved vector store for 2211.04125\n",
      "Processed and saved vector store for 2211.04817\n",
      "Processed and saved vector store for 2211.07024\n",
      "Processed and saved vector store for 2211.07311\n",
      "Processed and saved vector store for 2211.07398\n",
      "Processed and saved vector store for 2211.08157\n",
      "Processed and saved vector store for 2211.08982\n",
      "Processed and saved vector store for 2211.14718\n",
      "Processed and saved vector store for 2212.06114\n",
      "Processed and saved vector store for 2212.06529\n",
      "Processed and saved vector store for 2212.06834\n",
      "Processed and saved vector store for 2212.09870\n",
      "Processed and saved vector store for 2212.10362\n",
      "Processed and saved vector store for 2212.10540\n",
      "Processed and saved vector store for 2301.03511\n",
      "Processed and saved vector store for 2301.03964\n",
      "Processed and saved vector store for 2301.05777\n",
      "Processed and saved vector store for 2301.06111\n",
      "Processed and saved vector store for 2301.07459\n",
      "Processed and saved vector store for 2301.08023\n",
      "Processed and saved vector store for 2301.09565\n",
      "Processed and saved vector store for 2301.10397\n",
      "Processed and saved vector store for 2301.11763\n",
      "Processed and saved vector store for 2302.00319\n",
      "Processed and saved vector store for 2302.03211\n",
      "Processed and saved vector store for 2302.05450\n",
      "Processed and saved vector store for 2303.01444\n",
      "Error processing 2303.05856: TextEncodeInput must be Union[TextInputSequence, Tuple[InputSequence, InputSequence]]\n",
      "Processed and saved vector store for 2303.08042\n",
      "Processed and saved vector store for 2303.10221\n",
      "Processed and saved vector store for 2303.13702\n",
      "Processed and saved vector store for 2303.16361\n",
      "Processed and saved vector store for 2304.03131\n",
      "Processed and saved vector store for 2304.05411\n",
      "Processed and saved vector store for 2304.05756\n",
      "Processed and saved vector store for 2304.12963\n",
      "Processed and saved vector store for 2304.14799\n",
      "Processed and saved vector store for 2305.04931\n",
      "Processed and saved vector store for 2305.06808\n",
      "Processed and saved vector store for 2305.11245\n",
      "Processed and saved vector store for 2305.11425\n"
     ]
    },
    {
     "name": "stderr",
     "output_type": "stream",
     "text": [
      "Ignoring wrong pointing object 6 0 (offset 0)\n",
      "Ignoring wrong pointing object 8 0 (offset 0)\n",
      "Ignoring wrong pointing object 10 0 (offset 0)\n",
      "Ignoring wrong pointing object 20 0 (offset 0)\n",
      "Ignoring wrong pointing object 65 0 (offset 0)\n"
     ]
    },
    {
     "name": "stdout",
     "output_type": "stream",
     "text": [
      "Processed and saved vector store for 2306.01689\n",
      "Processed and saved vector store for 2306.05514\n",
      "Processed and saved vector store for 2306.05984\n",
      "Processed and saved vector store for 2306.07789\n",
      "Processed and saved vector store for 2306.08096\n",
      "Processed and saved vector store for 2306.09175\n",
      "Processed and saved vector store for 2306.10040\n",
      "Processed and saved vector store for 2306.10993\n",
      "Processed and saved vector store for 2306.12448\n",
      "Processed and saved vector store for 2306.14556\n",
      "Processed and saved vector store for 2306.15811\n",
      "Processed and saved vector store for 2307.01491\n"
     ]
    },
    {
     "name": "stderr",
     "output_type": "stream",
     "text": [
      "Ignoring wrong pointing object 6 0 (offset 0)\n",
      "Ignoring wrong pointing object 8 0 (offset 0)\n",
      "Ignoring wrong pointing object 10 0 (offset 0)\n",
      "Ignoring wrong pointing object 12 0 (offset 0)\n",
      "Ignoring wrong pointing object 18 0 (offset 0)\n",
      "Ignoring wrong pointing object 20 0 (offset 0)\n",
      "Ignoring wrong pointing object 22 0 (offset 0)\n",
      "Ignoring wrong pointing object 68 0 (offset 0)\n",
      "Ignoring wrong pointing object 83 0 (offset 0)\n",
      "Ignoring wrong pointing object 94 0 (offset 0)\n",
      "Ignoring wrong pointing object 106 0 (offset 0)\n",
      "Ignoring wrong pointing object 111 0 (offset 0)\n",
      "Ignoring wrong pointing object 126 0 (offset 0)\n",
      "Ignoring wrong pointing object 144 0 (offset 0)\n"
     ]
    },
    {
     "name": "stdout",
     "output_type": "stream",
     "text": [
      "Processed and saved vector store for 2307.11273\n",
      "Processed and saved vector store for 2307.14372\n",
      "Processed and saved vector store for 2307.15719\n",
      "Processed and saved vector store for 2307.16167\n",
      "Processed and saved vector store for 2307.16231\n",
      "Processed and saved vector store for 2308.01458\n",
      "Processed and saved vector store for 2308.01495\n"
     ]
    },
    {
     "name": "stderr",
     "output_type": "stream",
     "text": [
      "Ignoring wrong pointing object 6 0 (offset 0)\n",
      "Ignoring wrong pointing object 8 0 (offset 0)\n",
      "Ignoring wrong pointing object 10 0 (offset 0)\n",
      "Ignoring wrong pointing object 12 0 (offset 0)\n",
      "Ignoring wrong pointing object 14 0 (offset 0)\n",
      "Ignoring wrong pointing object 20 0 (offset 0)\n",
      "Ignoring wrong pointing object 25 0 (offset 0)\n",
      "Ignoring wrong pointing object 33 0 (offset 0)\n",
      "Ignoring wrong pointing object 35 0 (offset 0)\n",
      "Ignoring wrong pointing object 37 0 (offset 0)\n",
      "Ignoring wrong pointing object 52 0 (offset 0)\n",
      "Ignoring wrong pointing object 54 0 (offset 0)\n",
      "Ignoring wrong pointing object 56 0 (offset 0)\n",
      "Ignoring wrong pointing object 119 0 (offset 0)\n",
      "Ignoring wrong pointing object 130 0 (offset 0)\n",
      "Ignoring wrong pointing object 148 0 (offset 0)\n",
      "Ignoring wrong pointing object 153 0 (offset 0)\n",
      "Ignoring wrong pointing object 156 0 (offset 0)\n",
      "Ignoring wrong pointing object 158 0 (offset 0)\n",
      "Ignoring wrong pointing object 233 0 (offset 0)\n",
      "Ignoring wrong pointing object 252 0 (offset 0)\n",
      "Ignoring wrong pointing object 268 0 (offset 0)\n"
     ]
    },
    {
     "name": "stdout",
     "output_type": "stream",
     "text": [
      "Processed and saved vector store for 2308.01830\n"
     ]
    },
    {
     "name": "stderr",
     "output_type": "stream",
     "text": [
      "Ignoring wrong pointing object 289 0 (offset 0)\n",
      "Ignoring wrong pointing object 307 0 (offset 0)\n",
      "Ignoring wrong pointing object 323 0 (offset 0)\n",
      "Ignoring wrong pointing object 572 0 (offset 0)\n",
      "Ignoring wrong pointing object 586 0 (offset 0)\n",
      "Ignoring wrong pointing object 612 0 (offset 0)\n",
      "Ignoring wrong pointing object 617 0 (offset 0)\n",
      "Ignoring wrong pointing object 806 0 (offset 0)\n",
      "Ignoring wrong pointing object 809 0 (offset 0)\n",
      "Ignoring wrong pointing object 837 0 (offset 0)\n"
     ]
    },
    {
     "name": "stdout",
     "output_type": "stream",
     "text": [
      "Processed and saved vector store for 2308.08662\n",
      "Processed and saved vector store for 2308.10907\n",
      "Processed and saved vector store for 2308.11671\n",
      "Processed and saved vector store for 2309.00001\n",
      "Processed and saved vector store for 2309.06451\n",
      "Processed and saved vector store for 2309.06886\n",
      "Processed and saved vector store for 2309.07096\n",
      "Processed and saved vector store for 2309.07356\n",
      "Processed and saved vector store for 2309.08064\n",
      "Processed and saved vector store for 2309.10005\n",
      "Processed and saved vector store for 2309.10069\n",
      "Processed and saved vector store for 2309.12055\n",
      "Processed and saved vector store for 2309.14397\n",
      "Processed and saved vector store for 2309.15226\n"
     ]
    },
    {
     "name": "stderr",
     "output_type": "stream",
     "text": [
      "Ignoring wrong pointing object 6 0 (offset 0)\n",
      "Ignoring wrong pointing object 8 0 (offset 0)\n",
      "Ignoring wrong pointing object 10 0 (offset 0)\n",
      "Ignoring wrong pointing object 12 0 (offset 0)\n",
      "Ignoring wrong pointing object 14 0 (offset 0)\n",
      "Ignoring wrong pointing object 16 0 (offset 0)\n",
      "Ignoring wrong pointing object 18 0 (offset 0)\n",
      "Ignoring wrong pointing object 20 0 (offset 0)\n",
      "Ignoring wrong pointing object 22 0 (offset 0)\n",
      "Ignoring wrong pointing object 45 0 (offset 0)\n",
      "Ignoring wrong pointing object 47 0 (offset 0)\n",
      "Ignoring wrong pointing object 57 0 (offset 0)\n",
      "Ignoring wrong pointing object 62 0 (offset 0)\n",
      "Ignoring wrong pointing object 76 0 (offset 0)\n",
      "Ignoring wrong pointing object 81 0 (offset 0)\n",
      "Ignoring wrong pointing object 199 0 (offset 0)\n",
      "Ignoring wrong pointing object 203 0 (offset 0)\n"
     ]
    },
    {
     "name": "stdout",
     "output_type": "stream",
     "text": [
      "Processed and saved vector store for 2309.15838\n",
      "Processed and saved vector store for 2309.15888\n",
      "Processed and saved vector store for 2309.16773\n",
      "Processed and saved vector store for 2309.17106\n",
      "Processed and saved vector store for 2310.01428\n",
      "Processed and saved vector store for 2310.03086\n",
      "Processed and saved vector store for 2310.05822\n",
      "Processed and saved vector store for 2310.07029\n",
      "Processed and saved vector store for 2310.11223\n",
      "Processed and saved vector store for 2310.11635\n",
      "Processed and saved vector store for 2310.19950\n",
      "Processed and saved vector store for 2311.00015\n",
      "Processed and saved vector store for 2311.00330\n",
      "Processed and saved vector store for 2311.00392\n"
     ]
    },
    {
     "name": "stderr",
     "output_type": "stream",
     "text": [
      "Ignoring wrong pointing object 6 0 (offset 0)\n",
      "Ignoring wrong pointing object 8 0 (offset 0)\n",
      "Ignoring wrong pointing object 10 0 (offset 0)\n",
      "Ignoring wrong pointing object 12 0 (offset 0)\n",
      "Ignoring wrong pointing object 18 0 (offset 0)\n",
      "Ignoring wrong pointing object 23 0 (offset 0)\n",
      "Ignoring wrong pointing object 28 0 (offset 0)\n",
      "Ignoring wrong pointing object 33 0 (offset 0)\n",
      "Ignoring wrong pointing object 35 0 (offset 0)\n",
      "Ignoring wrong pointing object 37 0 (offset 0)\n",
      "Ignoring wrong pointing object 39 0 (offset 0)\n",
      "Ignoring wrong pointing object 41 0 (offset 0)\n",
      "Ignoring wrong pointing object 49 0 (offset 0)\n"
     ]
    },
    {
     "name": "stdout",
     "output_type": "stream",
     "text": [
      "Processed and saved vector store for 2311.01042\n",
      "Processed and saved vector store for 2311.01324\n",
      "Processed and saved vector store for 2311.01543\n",
      "Processed and saved vector store for 2311.03421\n",
      "Processed and saved vector store for 2311.04425\n",
      "Processed and saved vector store for 2311.04468\n",
      "Processed and saved vector store for 2311.04570\n",
      "Processed and saved vector store for 2311.06384\n",
      "Processed and saved vector store for 2311.08546\n",
      "Processed and saved vector store for 2311.09561\n",
      "Processed and saved vector store for 2311.09678\n"
     ]
    },
    {
     "name": "stderr",
     "output_type": "stream",
     "text": [
      "Ignoring wrong pointing object 8 0 (offset 0)\n",
      "Ignoring wrong pointing object 10 0 (offset 0)\n",
      "Ignoring wrong pointing object 12 0 (offset 0)\n",
      "Ignoring wrong pointing object 14 0 (offset 0)\n",
      "Ignoring wrong pointing object 16 0 (offset 0)\n",
      "Ignoring wrong pointing object 24 0 (offset 0)\n",
      "Ignoring wrong pointing object 26 0 (offset 0)\n",
      "Ignoring wrong pointing object 48 0 (offset 0)\n",
      "Ignoring wrong pointing object 54 0 (offset 0)\n",
      "Ignoring wrong pointing object 56 0 (offset 0)\n",
      "Ignoring wrong pointing object 67 0 (offset 0)\n",
      "Ignoring wrong pointing object 92 0 (offset 0)\n",
      "Ignoring wrong pointing object 125 0 (offset 0)\n",
      "Ignoring wrong pointing object 131 0 (offset 0)\n",
      "Ignoring wrong pointing object 154 0 (offset 0)\n",
      "Ignoring wrong pointing object 156 0 (offset 0)\n"
     ]
    },
    {
     "name": "stdout",
     "output_type": "stream",
     "text": [
      "Processed and saved vector store for 2311.10403\n",
      "Processed and saved vector store for 2311.11862\n",
      "Processed and saved vector store for 2311.13342\n",
      "Processed and saved vector store for 2311.13501\n",
      "Processed and saved vector store for 2311.17194\n",
      "Processed and saved vector store for 2312.01788\n",
      "Processed and saved vector store for 2312.02193\n",
      "Processed and saved vector store for 2312.05982\n",
      "Processed and saved vector store for 2312.06215\n",
      "Processed and saved vector store for 2312.13302\n",
      "Processed and saved vector store for 2401.04602\n",
      "Processed and saved vector store for 2401.16052\n",
      "Processed and saved vector store for 2401.16190\n",
      "Processed and saved vector store for 2402.07111\n",
      "Processed and saved vector store for 2402.07497\n",
      "Processed and saved vector store for 2402.07684\n",
      "Processed and saved vector store for 2402.09464\n",
      "Processed and saved vector store for 2402.16271\n",
      "Processed and saved vector store for 2402.17182\n",
      "Processed and saved vector store for 2403.04423\n",
      "Processed and saved vector store for 2403.11015\n",
      "Processed and saved vector store for 2403.11753\n",
      "Processed and saved vector store for 2403.14820\n",
      "Processed and saved vector store for 2403.15076\n",
      "Processed and saved vector store for 2403.15926\n",
      "Processed and saved vector store for 2403.18862\n",
      "Processed and saved vector store for 2403.19087\n",
      "Processed and saved vector store for 2404.11761\n",
      "Processed and saved vector store for 2404.13265\n",
      "Processed and saved vector store for 2404.13900\n"
     ]
    },
    {
     "name": "stderr",
     "output_type": "stream",
     "text": [
      "Ignoring wrong pointing object 6 0 (offset 0)\n",
      "Ignoring wrong pointing object 8 0 (offset 0)\n",
      "Ignoring wrong pointing object 10 0 (offset 0)\n",
      "Ignoring wrong pointing object 12 0 (offset 0)\n",
      "Ignoring wrong pointing object 14 0 (offset 0)\n",
      "Ignoring wrong pointing object 16 0 (offset 0)\n",
      "Ignoring wrong pointing object 18 0 (offset 0)\n",
      "Ignoring wrong pointing object 20 0 (offset 0)\n",
      "Ignoring wrong pointing object 26 0 (offset 0)\n",
      "Ignoring wrong pointing object 28 0 (offset 0)\n",
      "Ignoring wrong pointing object 35 0 (offset 0)\n",
      "Ignoring wrong pointing object 37 0 (offset 0)\n",
      "Ignoring wrong pointing object 42 0 (offset 0)\n",
      "Ignoring wrong pointing object 44 0 (offset 0)\n",
      "Ignoring wrong pointing object 54 0 (offset 0)\n"
     ]
    },
    {
     "name": "stdout",
     "output_type": "stream",
     "text": [
      "Processed and saved vector store for 2404.13902\n",
      "Processed and saved vector store for 2404.14353\n",
      "Processed and saved vector store for 2404.15151\n",
      "Processed and saved vector store for 2404.17601\n",
      "Processed and saved vector store for 2404.17952\n",
      "Processed and saved vector store for 2405.07449\n",
      "Processed and saved vector store for 2405.14690\n",
      "Processed and saved vector store for 2405.19057\n",
      "Processed and saved vector store for 2406.01107\n",
      "Processed and saved vector store for 2406.06767\n",
      "Processed and saved vector store for 2406.06969\n",
      "Processed and saved vector store for 2406.10921\n",
      "Processed and saved vector store for 2406.13816\n",
      "Processed and saved vector store for 2407.02673\n"
     ]
    },
    {
     "name": "stderr",
     "output_type": "stream",
     "text": [
      "Ignoring wrong pointing object 6 0 (offset 0)\n",
      "Ignoring wrong pointing object 8 0 (offset 0)\n",
      "Ignoring wrong pointing object 10 0 (offset 0)\n",
      "Ignoring wrong pointing object 12 0 (offset 0)\n",
      "Ignoring wrong pointing object 14 0 (offset 0)\n",
      "Ignoring wrong pointing object 16 0 (offset 0)\n",
      "Ignoring wrong pointing object 22 0 (offset 0)\n",
      "Ignoring wrong pointing object 24 0 (offset 0)\n",
      "Ignoring wrong pointing object 26 0 (offset 0)\n",
      "Ignoring wrong pointing object 31 0 (offset 0)\n"
     ]
    },
    {
     "name": "stdout",
     "output_type": "stream",
     "text": [
      "Processed and saved vector store for 2407.04799\n",
      "Processed and saved vector store for 2407.05226\n",
      "Processed and saved vector store for 2407.06019\n",
      "Processed and saved vector store for 2407.10215\n",
      "Processed and saved vector store for 2407.10411\n"
     ]
    },
    {
     "name": "stderr",
     "output_type": "stream",
     "text": [
      "Ignoring wrong pointing object 6 0 (offset 0)\n",
      "Ignoring wrong pointing object 8 0 (offset 0)\n",
      "Ignoring wrong pointing object 10 0 (offset 0)\n",
      "Ignoring wrong pointing object 12 0 (offset 0)\n",
      "Ignoring wrong pointing object 14 0 (offset 0)\n",
      "Ignoring wrong pointing object 16 0 (offset 0)\n",
      "Ignoring wrong pointing object 22 0 (offset 0)\n",
      "Ignoring wrong pointing object 24 0 (offset 0)\n",
      "Ignoring wrong pointing object 26 0 (offset 0)\n",
      "Ignoring wrong pointing object 28 0 (offset 0)\n",
      "Ignoring wrong pointing object 33 0 (offset 0)\n",
      "Ignoring wrong pointing object 35 0 (offset 0)\n",
      "Ignoring wrong pointing object 44 0 (offset 0)\n",
      "Ignoring wrong pointing object 46 0 (offset 0)\n",
      "Ignoring wrong pointing object 48 0 (offset 0)\n",
      "Ignoring wrong pointing object 59 0 (offset 0)\n",
      "Ignoring wrong pointing object 72 0 (offset 0)\n",
      "Ignoring wrong pointing object 83 0 (offset 0)\n",
      "Ignoring wrong pointing object 122 0 (offset 0)\n",
      "Ignoring wrong pointing object 124 0 (offset 0)\n",
      "Ignoring wrong pointing object 126 0 (offset 0)\n",
      "Ignoring wrong pointing object 134 0 (offset 0)\n"
     ]
    },
    {
     "name": "stdout",
     "output_type": "stream",
     "text": [
      "Processed and saved vector store for 2407.11453\n",
      "Processed and saved vector store for 2407.12060\n",
      "Processed and saved vector store for 2407.12897\n",
      "Processed and saved vector store for 2407.15301\n"
     ]
    },
    {
     "name": "stderr",
     "output_type": "stream",
     "text": [
      "Ignoring wrong pointing object 6 0 (offset 0)\n",
      "Ignoring wrong pointing object 8 0 (offset 0)\n",
      "Ignoring wrong pointing object 10 0 (offset 0)\n",
      "Ignoring wrong pointing object 12 0 (offset 0)\n",
      "Ignoring wrong pointing object 14 0 (offset 0)\n",
      "Ignoring wrong pointing object 16 0 (offset 0)\n",
      "Ignoring wrong pointing object 18 0 (offset 0)\n",
      "Ignoring wrong pointing object 20 0 (offset 0)\n",
      "Ignoring wrong pointing object 22 0 (offset 0)\n",
      "Ignoring wrong pointing object 24 0 (offset 0)\n",
      "Ignoring wrong pointing object 33 0 (offset 0)\n",
      "Ignoring wrong pointing object 40 0 (offset 0)\n",
      "Ignoring wrong pointing object 42 0 (offset 0)\n",
      "Ignoring wrong pointing object 54 0 (offset 0)\n",
      "Ignoring wrong pointing object 56 0 (offset 0)\n",
      "Ignoring wrong pointing object 58 0 (offset 0)\n",
      "Ignoring wrong pointing object 60 0 (offset 0)\n",
      "Ignoring wrong pointing object 62 0 (offset 0)\n",
      "Ignoring wrong pointing object 70 0 (offset 0)\n",
      "Ignoring wrong pointing object 72 0 (offset 0)\n",
      "Ignoring wrong pointing object 79 0 (offset 0)\n",
      "Ignoring wrong pointing object 85 0 (offset 0)\n",
      "Ignoring wrong pointing object 90 0 (offset 0)\n",
      "Ignoring wrong pointing object 95 0 (offset 0)\n",
      "Ignoring wrong pointing object 135 0 (offset 0)\n",
      "Ignoring wrong pointing object 137 0 (offset 0)\n"
     ]
    },
    {
     "name": "stdout",
     "output_type": "stream",
     "text": [
      "Processed and saved vector store for 2407.17601\n",
      "Processed and saved vector store for 2407.21087\n",
      "Processed and saved vector store for 2408.00984\n",
      "Processed and saved vector store for 2408.08832\n"
     ]
    },
    {
     "name": "stderr",
     "output_type": "stream",
     "text": [
      "Ignoring wrong pointing object 6 0 (offset 0)\n",
      "Ignoring wrong pointing object 8 0 (offset 0)\n",
      "Ignoring wrong pointing object 10 0 (offset 0)\n",
      "Ignoring wrong pointing object 12 0 (offset 0)\n",
      "Ignoring wrong pointing object 17 0 (offset 0)\n",
      "Ignoring wrong pointing object 24 0 (offset 0)\n",
      "Ignoring wrong pointing object 77 0 (offset 0)\n"
     ]
    },
    {
     "name": "stdout",
     "output_type": "stream",
     "text": [
      "Processed and saved vector store for 2408.09554\n"
     ]
    },
    {
     "name": "stderr",
     "output_type": "stream",
     "text": [
      "Ignoring wrong pointing object 2373 0 (offset 0)\n",
      "Ignoring wrong pointing object 2389 0 (offset 0)\n",
      "Ignoring wrong pointing object 2516 0 (offset 0)\n",
      "Ignoring wrong pointing object 2518 0 (offset 0)\n",
      "Ignoring wrong pointing object 2520 0 (offset 0)\n",
      "Ignoring wrong pointing object 2522 0 (offset 0)\n",
      "Ignoring wrong pointing object 2524 0 (offset 0)\n",
      "Ignoring wrong pointing object 2542 0 (offset 0)\n"
     ]
    },
    {
     "name": "stdout",
     "output_type": "stream",
     "text": [
      "Processed and saved vector store for 2408.10293\n",
      "Processed and saved vector store for 2408.11884\n",
      "Processed and saved vector store for 2408.14801\n",
      "Processed and saved vector store for 2409.01235\n",
      "Processed and saved vector store for 2409.03353\n",
      "Processed and saved vector store for 2409.05047\n",
      "Processed and saved vector store for 2409.06116\n"
     ]
    },
    {
     "name": "stderr",
     "output_type": "stream",
     "text": [
      "Ignoring wrong pointing object 6 0 (offset 0)\n",
      "Ignoring wrong pointing object 8 0 (offset 0)\n",
      "Ignoring wrong pointing object 10 0 (offset 0)\n",
      "Ignoring wrong pointing object 12 0 (offset 0)\n",
      "Ignoring wrong pointing object 14 0 (offset 0)\n",
      "Ignoring wrong pointing object 18 0 (offset 0)\n",
      "Ignoring wrong pointing object 24 0 (offset 0)\n",
      "Ignoring wrong pointing object 26 0 (offset 0)\n",
      "Ignoring wrong pointing object 31 0 (offset 0)\n",
      "Ignoring wrong pointing object 33 0 (offset 0)\n",
      "Ignoring wrong pointing object 49 0 (offset 0)\n",
      "Ignoring wrong pointing object 55 0 (offset 0)\n",
      "Ignoring wrong pointing object 57 0 (offset 0)\n",
      "Ignoring wrong pointing object 68 0 (offset 0)\n"
     ]
    },
    {
     "name": "stdout",
     "output_type": "stream",
     "text": [
      "Processed and saved vector store for 2409.06861\n",
      "Processed and saved vector store for 2409.08275\n",
      "Processed and saved vector store for 2409.08737\n",
      "Processed and saved vector store for 2409.10714\n",
      "Processed and saved vector store for 2409.11187\n",
      "Processed and saved vector store for 2409.16332\n",
      "Processed and saved vector store for 2409.18221\n",
      "Processed and saved vector store for 2409.18879\n",
      "Processed and saved vector store for 2409.20036\n",
      "Processed and saved vector store for 2410.01853\n",
      "Processed and saved vector store for 2410.02085\n",
      "Processed and saved vector store for 2410.04137\n",
      "Processed and saved vector store for 2410.05325\n",
      "Processed and saved vector store for 2410.05923\n",
      "Processed and saved vector store for 2410.07814\n",
      "Processed and saved vector store for 2410.11046\n",
      "Processed and saved vector store for 2410.12830\n",
      "Processed and saved vector store for 2410.15108\n",
      "Processed and saved vector store for 2410.15367\n",
      "Processed and saved vector store for 2410.16169\n",
      "Processed and saved vector store for 2410.18849\n",
      "Processed and saved vector store for 2410.19508\n",
      "Processed and saved vector store for 2410.19667\n",
      "Processed and saved vector store for 2410.20896\n",
      "Processed and saved vector store for 2410.23595\n"
     ]
    },
    {
     "name": "stderr",
     "output_type": "stream",
     "text": [
      "Ignoring wrong pointing object 6 0 (offset 0)\n",
      "Ignoring wrong pointing object 8 0 (offset 0)\n",
      "Ignoring wrong pointing object 10 0 (offset 0)\n",
      "Ignoring wrong pointing object 12 0 (offset 0)\n",
      "Ignoring wrong pointing object 14 0 (offset 0)\n",
      "Ignoring wrong pointing object 16 0 (offset 0)\n",
      "Ignoring wrong pointing object 20 0 (offset 0)\n",
      "Ignoring wrong pointing object 22 0 (offset 0)\n",
      "Ignoring wrong pointing object 24 0 (offset 0)\n",
      "Ignoring wrong pointing object 39 0 (offset 0)\n",
      "Ignoring wrong pointing object 49 0 (offset 0)\n",
      "Ignoring wrong pointing object 54 0 (offset 0)\n"
     ]
    },
    {
     "name": "stdout",
     "output_type": "stream",
     "text": [
      "Processed and saved vector store for 2411.00063\n",
      "Processed and saved vector store for 2411.00219\n",
      "Processed and saved vector store for 2411.00661\n",
      "Processed and saved vector store for 2411.02354\n",
      "Processed and saved vector store for 2411.02413\n",
      "Processed and saved vector store for 2411.04232\n",
      "Processed and saved vector store for 2411.05017\n",
      "Processed and saved vector store for 2411.05188\n",
      "Processed and saved vector store for 2411.05244\n",
      "Processed and saved vector store for 2411.05795\n",
      "Processed and saved vector store for 2411.10569\n",
      "Processed and saved vector store for 2411.10720\n",
      "Processed and saved vector store for 2411.14130\n",
      "Processed and saved vector store for 2411.19840\n",
      "Processed and saved vector store for 2412.01418\n",
      "Processed and saved vector store for 2412.03614\n",
      "Processed and saved vector store for 2412.06170\n",
      "Processed and saved vector store for 2412.06841\n",
      "Processed and saved vector store for 2412.07136\n",
      "Processed and saved vector store for 2412.09062\n",
      "Processed and saved vector store for 2412.09973\n",
      "Processed and saved vector store for 2412.12815\n",
      "Processed and saved vector store for 2412.13234\n",
      "Processed and saved vector store for 2412.14726\n",
      "Processed and saved vector store for 2412.16391\n",
      "Processed and saved vector store for 2412.18745\n",
      "Processed and saved vector store for 2412.19041\n",
      "Processed and saved vector store for 2501.01198\n",
      "Processed and saved vector store for 2501.01510\n",
      "Processed and saved vector store for 2501.02176\n",
      "Processed and saved vector store for 2501.02401\n",
      "Processed and saved vector store for 2501.07043\n",
      "Processed and saved vector store for 2501.08714\n",
      "Processed and saved vector store for 2501.08911\n",
      "Processed and saved vector store for 2501.09546\n"
     ]
    },
    {
     "name": "stderr",
     "output_type": "stream",
     "text": [
      "Ignoring wrong pointing object 6 0 (offset 0)\n",
      "Ignoring wrong pointing object 8 0 (offset 0)\n",
      "Ignoring wrong pointing object 10 0 (offset 0)\n",
      "Ignoring wrong pointing object 12 0 (offset 0)\n",
      "Ignoring wrong pointing object 14 0 (offset 0)\n",
      "Ignoring wrong pointing object 16 0 (offset 0)\n",
      "Ignoring wrong pointing object 20 0 (offset 0)\n",
      "Ignoring wrong pointing object 29 0 (offset 0)\n",
      "Ignoring wrong pointing object 50 0 (offset 0)\n",
      "Ignoring wrong pointing object 83 0 (offset 0)\n"
     ]
    },
    {
     "name": "stdout",
     "output_type": "stream",
     "text": [
      "Processed and saved vector store for 2501.11271\n",
      "Processed and saved vector store for 2501.11831\n"
     ]
    },
    {
     "name": "stderr",
     "output_type": "stream",
     "text": [
      "Ignoring wrong pointing object 6 0 (offset 0)\n",
      "Ignoring wrong pointing object 8 0 (offset 0)\n",
      "Ignoring wrong pointing object 10 0 (offset 0)\n",
      "Ignoring wrong pointing object 12 0 (offset 0)\n",
      "Ignoring wrong pointing object 14 0 (offset 0)\n",
      "Ignoring wrong pointing object 16 0 (offset 0)\n",
      "Ignoring wrong pointing object 18 0 (offset 0)\n",
      "Ignoring wrong pointing object 30 0 (offset 0)\n",
      "Ignoring wrong pointing object 32 0 (offset 0)\n",
      "Ignoring wrong pointing object 53 0 (offset 0)\n",
      "Ignoring wrong pointing object 55 0 (offset 0)\n",
      "Ignoring wrong pointing object 60 0 (offset 0)\n",
      "Ignoring wrong pointing object 62 0 (offset 0)\n",
      "Ignoring wrong pointing object 64 0 (offset 0)\n",
      "Ignoring wrong pointing object 75 0 (offset 0)\n",
      "Ignoring wrong pointing object 80 0 (offset 0)\n",
      "Ignoring wrong pointing object 121 0 (offset 0)\n",
      "Ignoring wrong pointing object 123 0 (offset 0)\n",
      "Ignoring wrong pointing object 125 0 (offset 0)\n"
     ]
    },
    {
     "name": "stdout",
     "output_type": "stream",
     "text": [
      "Processed and saved vector store for 2501.13657\n",
      "Processed and saved vector store for 2501.15208\n"
     ]
    },
    {
     "name": "stderr",
     "output_type": "stream",
     "text": [
      "Ignoring wrong pointing object 6 0 (offset 0)\n",
      "Ignoring wrong pointing object 8 0 (offset 0)\n",
      "Ignoring wrong pointing object 10 0 (offset 0)\n",
      "Ignoring wrong pointing object 12 0 (offset 0)\n",
      "Ignoring wrong pointing object 14 0 (offset 0)\n",
      "Ignoring wrong pointing object 21 0 (offset 0)\n",
      "Ignoring wrong pointing object 32 0 (offset 0)\n",
      "Ignoring wrong pointing object 34 0 (offset 0)\n",
      "Ignoring wrong pointing object 38 0 (offset 0)\n",
      "Ignoring wrong pointing object 59 0 (offset 0)\n",
      "Ignoring wrong pointing object 89 0 (offset 0)\n",
      "Ignoring wrong pointing object 114 0 (offset 0)\n"
     ]
    },
    {
     "name": "stdout",
     "output_type": "stream",
     "text": [
      "Processed and saved vector store for 2501.17158\n",
      "Processed and saved vector store for 2501.17838\n",
      "Processed and saved vector store for 2501.19030\n",
      "Processed and saved vector store for 2501.19343\n"
     ]
    },
    {
     "name": "stderr",
     "output_type": "stream",
     "text": [
      "Ignoring wrong pointing object 6 0 (offset 0)\n",
      "Ignoring wrong pointing object 8 0 (offset 0)\n",
      "Ignoring wrong pointing object 10 0 (offset 0)\n",
      "Ignoring wrong pointing object 12 0 (offset 0)\n",
      "Ignoring wrong pointing object 14 0 (offset 0)\n",
      "Ignoring wrong pointing object 16 0 (offset 0)\n",
      "Ignoring wrong pointing object 22 0 (offset 0)\n",
      "Ignoring wrong pointing object 42 0 (offset 0)\n",
      "Ignoring wrong pointing object 48 0 (offset 0)\n",
      "Ignoring wrong pointing object 59 0 (offset 0)\n"
     ]
    },
    {
     "name": "stdout",
     "output_type": "stream",
     "text": [
      "Processed and saved vector store for 2502.00696\n"
     ]
    },
    {
     "name": "stderr",
     "output_type": "stream",
     "text": [
      "Ignoring wrong pointing object 501 0 (offset 0)\n",
      "Ignoring wrong pointing object 502 0 (offset 0)\n"
     ]
    },
    {
     "name": "stdout",
     "output_type": "stream",
     "text": [
      "Processed and saved vector store for 2502.00979\n",
      "Processed and saved vector store for 2502.02369\n",
      "Processed and saved vector store for 2502.03499\n",
      "Processed and saved vector store for 2502.05039\n"
     ]
    },
    {
     "name": "stderr",
     "output_type": "stream",
     "text": [
      "Ignoring wrong pointing object 6 0 (offset 0)\n",
      "Ignoring wrong pointing object 9 0 (offset 0)\n",
      "Ignoring wrong pointing object 11 0 (offset 0)\n",
      "Ignoring wrong pointing object 13 0 (offset 0)\n",
      "Ignoring wrong pointing object 15 0 (offset 0)\n",
      "Ignoring wrong pointing object 17 0 (offset 0)\n",
      "Ignoring wrong pointing object 19 0 (offset 0)\n",
      "Ignoring wrong pointing object 21 0 (offset 0)\n",
      "Ignoring wrong pointing object 23 0 (offset 0)\n",
      "Ignoring wrong pointing object 31 0 (offset 0)\n",
      "Ignoring wrong pointing object 38 0 (offset 0)\n",
      "Ignoring wrong pointing object 40 0 (offset 0)\n",
      "Ignoring wrong pointing object 45 0 (offset 0)\n",
      "Ignoring wrong pointing object 47 0 (offset 0)\n",
      "Ignoring wrong pointing object 52 0 (offset 0)\n",
      "Ignoring wrong pointing object 59 0 (offset 0)\n",
      "Ignoring wrong pointing object 77 0 (offset 0)\n",
      "Ignoring wrong pointing object 83 0 (offset 0)\n",
      "Ignoring wrong pointing object 85 0 (offset 0)\n",
      "Ignoring wrong pointing object 105 0 (offset 0)\n"
     ]
    },
    {
     "name": "stdout",
     "output_type": "stream",
     "text": [
      "Processed and saved vector store for 2502.06883\n",
      "Processed and saved vector store for 2502.07836\n",
      "Processed and saved vector store for 2502.08070\n",
      "Processed and saved vector store for 2502.10067\n",
      "Processed and saved vector store for 2502.12186\n",
      "Processed and saved vector store for 2502.12279\n",
      "Processed and saved vector store for 2502.16557\n",
      "Processed and saved vector store for 2502.18864\n",
      "Processed and saved vector store for 2502.19292\n",
      "Processed and saved vector store for 2502.19748\n",
      "Processed and saved vector store for 2503.00197\n",
      "Processed and saved vector store for 2503.02569\n",
      "Processed and saved vector store for 2503.04069\n"
     ]
    },
    {
     "name": "stderr",
     "output_type": "stream",
     "text": [
      "Ignoring wrong pointing object 6 0 (offset 0)\n",
      "Ignoring wrong pointing object 8 0 (offset 0)\n",
      "Ignoring wrong pointing object 10 0 (offset 0)\n",
      "Ignoring wrong pointing object 12 0 (offset 0)\n",
      "Ignoring wrong pointing object 14 0 (offset 0)\n",
      "Ignoring wrong pointing object 32 0 (offset 0)\n",
      "Ignoring wrong pointing object 35 0 (offset 0)\n",
      "Ignoring wrong pointing object 37 0 (offset 0)\n",
      "Ignoring wrong pointing object 43 0 (offset 0)\n",
      "Ignoring wrong pointing object 45 0 (offset 0)\n",
      "Ignoring wrong pointing object 54 0 (offset 0)\n",
      "Ignoring wrong pointing object 63 0 (offset 0)\n",
      "Ignoring wrong pointing object 65 0 (offset 0)\n",
      "Ignoring wrong pointing object 70 0 (offset 0)\n",
      "Ignoring wrong pointing object 72 0 (offset 0)\n",
      "Ignoring wrong pointing object 77 0 (offset 0)\n",
      "Ignoring wrong pointing object 83 0 (offset 0)\n",
      "Ignoring wrong pointing object 88 0 (offset 0)\n",
      "Ignoring wrong pointing object 90 0 (offset 0)\n",
      "Ignoring wrong pointing object 92 0 (offset 0)\n",
      "Ignoring wrong pointing object 94 0 (offset 0)\n",
      "Ignoring wrong pointing object 99 0 (offset 0)\n"
     ]
    },
    {
     "name": "stdout",
     "output_type": "stream",
     "text": [
      "Processed and saved vector store for 2503.06123\n",
      "Processed and saved vector store for 2503.06797\n",
      "Processed and saved vector store for 2503.07283\n",
      "Processed and saved vector store for 2503.07798\n",
      "Processed and saved vector store for 2503.08378\n",
      "Processed and saved vector store for 2503.11282\n",
      "Processed and saved vector store for 2503.12330\n",
      "Processed and saved vector store for 2503.14528\n",
      "Processed and saved vector store for 2503.14706\n",
      "Processed and saved vector store for 2503.16297\n",
      "Processed and saved vector store for 2503.17418\n",
      "Processed and saved vector store for 2503.18701\n"
     ]
    }
   ],
   "source": [
    "# Iterate over all PDF files in the directory\n",
    "#runnning time was 1123 min\n",
    "for file in os.listdir(doc_path):\n",
    "    if file.endswith(\".pdf\"):\n",
    "        file_name = os.path.splitext(file)[0]\n",
    "        file_path = os.path.join(doc_path, file)\n",
    "        process_pdf(file_path, file_name)"
   ]
  }
 ],
 "metadata": {
  "kernelspec": {
   "display_name": ".venv",
   "language": "python",
   "name": "python3"
  },
  "language_info": {
   "codemirror_mode": {
    "name": "ipython",
    "version": 3
   },
   "file_extension": ".py",
   "mimetype": "text/x-python",
   "name": "python",
   "nbconvert_exporter": "python",
   "pygments_lexer": "ipython3",
   "version": "3.11.3"
  }
 },
 "nbformat": 4,
 "nbformat_minor": 5
}
