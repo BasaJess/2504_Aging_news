{
 "cells": [
  {
   "cell_type": "markdown",
   "id": "74240a8e",
   "metadata": {},
   "source": [
    "Here's a Python script that fetches up to 500 documents related to \"longevity\" from the Springer Nature Metadata API and stores them locally. This script adheres to Springer Nature's API usage policies to ensure compliance and avoid potential blacklisting.\n",
    "\n",
    "🔧 Prerequisites\n",
    "API Key:"
   ]
  },
  {
   "cell_type": "code",
   "execution_count": null,
   "id": "6e05524e",
   "metadata": {
    "vscode": {
     "languageId": "plaintext"
    }
   },
   "outputs": [],
   "source": [
    "import os\n",
    "import time\n",
    "import requests\n",
    "import json\n",
    "\n",
    "# Replace with your actual API key\n",
    "API_KEY = 'YOUR_API_KEY'\n",
    "QUERY = 'longevity'\n",
    "MAX_RESULTS = 500\n",
    "PAGE_SIZE = 100  # Maximum allowed by the API\n",
    "OUTPUT_DIR = 'springer_longevity_docs'\n",
    "API_ENDPOINT = 'https://api.springernature.com/metadata/json'\n",
    "\n",
    "# Ensure the output directory exists\n",
    "os.makedirs(OUTPUT_DIR, exist_ok=True)\n",
    "\n",
    "def fetch_documents():\n",
    "    total_fetched = 0\n",
    "    start = 1  # Springer API uses 1-based indexing\n",
    "\n",
    "    while total_fetched < MAX_RESULTS:\n",
    "        params = {\n",
    "            'q': QUERY,\n",
    "            'api_key': API_KEY,\n",
    "            'p': PAGE_SIZE,\n",
    "            's': start\n",
    "        }\n",
    "\n",
    "        try:\n",
    "            response = requests.get(API_ENDPOINT, params=params, timeout=10)\n",
    "            response.raise_for_status()\n",
    "            data = response.json()\n",
    "            records = data.get('records', [])\n",
    "\n",
    "            if not records:\n",
    "                print(\"No more records found.\")\n",
    "                break\n",
    "\n",
    "            for record in records:\n",
    "                doc_id = record.get('identifier', f'doc_{start}')\n",
    "                filename = os.path.join(OUTPUT_DIR, f\"{doc_id.replace('/', '_')}.json\")\n",
    "                with open(filename, 'w', encoding='utf-8') as f:\n",
    "                    json.dump(record, f, ensure_ascii=False, indent=2)\n",
    "\n",
    "            fetched_count = len(records)\n",
    "            total_fetched += fetched_count\n",
    "            print(f\"Fetched {fetched_count} records. Total fetched: {total_fetched}\")\n",
    "\n",
    "            if fetched_count < PAGE_SIZE:\n",
    "                # Fewer records than page size indicates no more data\n",
    "                break\n",
    "\n",
    "            start += PAGE_SIZE\n",
    "\n",
    "            # Respectful delay between requests\n",
    "            time.sleep(1)\n",
    "\n",
    "        except requests.exceptions.RequestException as e:\n",
    "            print(f\"An error occurred: {e}\")\n",
    "            break\n",
    "\n",
    "if __name__ == \"__main__\":\n",
    "    fetch_documents()\n"
   ]
  },
  {
   "cell_type": "markdown",
   "id": "57018c26",
   "metadata": {},
   "source": [
    "​Certainly! To fetch the most recent documents related to \"longevity\" from the Springer Nature Metadata API, you can utilize the sort:date parameter. This parameter sorts the results by publication date in descending order, ensuring that the newest documents are retrieved first. ​\n",
    "dev.springernature.com\n",
    "\n",
    "Here's the modified Python script incorporating this parameter:"
   ]
  },
  {
   "cell_type": "code",
   "execution_count": null,
   "id": "f7850ca0",
   "metadata": {
    "vscode": {
     "languageId": "plaintext"
    }
   },
   "outputs": [],
   "source": [
    "import os\n",
    "import time\n",
    "import requests\n",
    "import json\n",
    "\n",
    "# Replace with your actual API key\n",
    "API_KEY = 'YOUR_API_KEY'\n",
    "QUERY = 'longevity'\n",
    "MAX_RESULTS = 500\n",
    "PAGE_SIZE = 100  # Maximum allowed by the API\n",
    "OUTPUT_DIR = 'springer_longevity_docs'\n",
    "API_ENDPOINT = 'https://api.springernature.com/metadata/json'\n",
    "\n",
    "# Ensure the output directory exists\n",
    "os.makedirs(OUTPUT_DIR, exist_ok=True)\n",
    "\n",
    "def fetch_documents():\n",
    "    total_fetched = 0\n",
    "    start = 1  # Springer API uses 1-based indexing\n",
    "\n",
    "    while total_fetched < MAX_RESULTS:\n",
    "        params = {\n",
    "            'q': f'{QUERY} sort:date',\n",
    "            'api_key': API_KEY,\n",
    "            'p': PAGE_SIZE,\n",
    "            's': start\n",
    "        }\n",
    "\n",
    "        try:\n",
    "            response = requests.get(API_ENDPOINT, params=params, timeout=10)\n",
    "            response.raise_for_status()\n",
    "            data = response.json()\n",
    "            records = data.get('records', [])\n",
    "\n",
    "            if not records:\n",
    "                print(\"No more records found.\")\n",
    "                break\n",
    "\n",
    "            for record in records:\n",
    "                doc_id = record.get('identifier', f'doc_{start}')\n",
    "                filename = os.path.join(OUTPUT_DIR, f\"{doc_id.replace('/', '_')}.json\")\n",
    "                with open(filename, 'w', encoding='utf-8') as f:\n",
    "                    json.dump(record, f, ensure_ascii=False, indent=2)\n",
    "\n",
    "            fetched_count = len(records)\n",
    "            total_fetched += fetched_count\n",
    "            print(f\"Fetched {fetched_count} records. Total fetched: {total_fetched}\")\n",
    "\n",
    "            if fetched_count < PAGE_SIZE:\n",
    "                # Fewer records than page size indicates no more data\n",
    "                break\n",
    "\n",
    "            start += PAGE_SIZE\n",
    "\n",
    "            # Respectful delay between requests\n",
    "            time.sleep(1)\n",
    "\n",
    "        except requests.exceptions.RequestException as e:\n",
    "            print(f\"An error occurred: {e}\")\n",
    "            break\n",
    "\n",
    "if __name__ == \"__main__\":\n",
    "    fetch_documents()\n"
   ]
  },
  {
   "cell_type": "markdown",
   "id": "5c8d9f93",
   "metadata": {},
   "source": [
    "Key Modifications:\n",
    "\n",
    "Sorting by Date: The query parameter 'q': f'{QUERY} sort:date' ensures that the results are sorted by publication date in descending order. ​\n",
    "dev.springernature.com\n",
    "\n",
    "Respecting API Usage Policies: The script includes a 1-second delay between requests (time.sleep(1)) to adhere to Springer Nature's API usage guidelines and avoid potential blacklisting.​\n",
    "\n",
    "Additional Considerations:\n",
    "\n",
    "Filtering by Date Range: If you're interested in documents published within a specific date range, you can utilize the datefrom and dateto parameters. For example:​\n",
    "sprynger.readthedocs.io\n",
    "+1\n",
    "dev.springernature.com\n",
    "+1"
   ]
  },
  {
   "cell_type": "code",
   "execution_count": null,
   "id": "41c1452a",
   "metadata": {
    "vscode": {
     "languageId": "plaintext"
    }
   },
   "outputs": [],
   "source": [
    "params = {\n",
    "    'q': f'{QUERY} sort:date',\n",
    "    'api_key': API_KEY,\n",
    "    'p': PAGE_SIZE,\n",
    "    's': start,\n",
    "    'datefrom': '2024-01-01',\n",
    "    'dateto': '2025-04-23'\n",
    "}\n"
   ]
  },
  {
   "cell_type": "markdown",
   "id": "31ba4661",
   "metadata": {},
   "source": [
    "This will fetch documents published between January 1, 2024, and April 23, 2025. ​\n",
    "dev.springernature.com\n",
    "\n",
    "Handling API Rate Limits: Always ensure that your script complies with the API's rate limits and usage policies. If you plan to make a large number of requests, consider implementing exponential backoff or other rate-limiting strategies.​\n",
    "\n",
    "If you need further assistance or have additional requirements, feel free to ask!"
   ]
  }
 ],
 "metadata": {
  "language_info": {
   "name": "python"
  }
 },
 "nbformat": 4,
 "nbformat_minor": 5
}
