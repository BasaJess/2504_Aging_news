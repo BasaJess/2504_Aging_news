{
 "cells": [
  {
   "cell_type": "code",
   "execution_count": 1,
   "id": "63431aaf",
   "metadata": {},
   "outputs": [],
   "source": [
    "from langchain.prompts.prompt import PromptTemplate\n",
    "from langchain_text_splitters import RecursiveCharacterTextSplitter\n",
    "from langchain_groq import ChatGroq\n",
    "from langchain_huggingface import HuggingFaceEmbeddings\n",
    "from langchain_community.vectorstores import FAISS\n",
    "from langchain import hub\n",
    "from langchain.chains.combine_documents import create_stuff_documents_chain\n",
    "from langchain.chains.retrieval import create_retrieval_chain\n",
    "from langchain_community.document_loaders import PyPDFLoader\n",
    "from dotenv import load_dotenv\n",
    "\n",
    "import os\n",
    "import warnings\n",
    "warnings.filterwarnings(\"ignore\")\n"
   ]
  },
  {
   "cell_type": "code",
   "execution_count": 2,
   "id": "3324e939",
   "metadata": {},
   "outputs": [
    {
     "data": {
      "text/plain": [
       "True"
      ]
     },
     "execution_count": 2,
     "metadata": {},
     "output_type": "execute_result"
    }
   ],
   "source": [
    "load_dotenv()"
   ]
  },
  {
   "cell_type": "code",
   "execution_count": 3,
   "id": "695637ac",
   "metadata": {},
   "outputs": [],
   "source": [
    "model_id = \"llama3-8b-8192\"\n",
    "file_name = \"Episode_2\"\n",
    "doc_ext =\".pdf\"\n",
    "doc_path = \"../data/Training_docs/\"\n",
    "db_path = \"../data/vector_databases/\""
   ]
  },
  {
   "cell_type": "code",
   "execution_count": 4,
   "id": "8eda4444",
   "metadata": {},
   "outputs": [],
   "source": [
    "# Set the model ID and parameters\n",
    "llm = ChatGroq(\n",
    "    model=model_id,\n",
    "    temperature=0,\n",
    "    max_tokens=None,\n",
    "    timeout=None,\n",
    "    max_retries=2\n",
    ")"
   ]
  },
  {
   "cell_type": "code",
   "execution_count": 5,
   "id": "f9d1b7dd",
   "metadata": {},
   "outputs": [],
   "source": [
    "def load_pdf_data(pdf_file_path):\n",
    "    \"\"\"\n",
    "    this function loads text data from pdf file\n",
    "    \"\"\"\n",
    "    loader = PyPDFLoader(file_path=pdf_file_path)\n",
    "    documents = loader.load()\n",
    "    return documents"
   ]
  },
  {
   "cell_type": "code",
   "execution_count": 6,
   "id": "b379fb59",
   "metadata": {},
   "outputs": [],
   "source": [
    "def split_to_chunks(documents, chunk_size=800, chunk_overlap=80):\n",
    "    \"\"\"\n",
    "    this function splits documents into chunks of given size and overlap\n",
    "    \"\"\"\n",
    "    text_splitter = RecursiveCharacterTextSplitter(\n",
    "        chunk_size=chunk_size,\n",
    "        chunk_overlap=chunk_overlap\n",
    "    )\n",
    "    chunks = text_splitter.split_documents(documents=documents)##arning ,may be recursive\n",
    "    return chunks"
   ]
  },
  {
   "cell_type": "code",
   "execution_count": 7,
   "id": "b7f16cda",
   "metadata": {},
   "outputs": [],
   "source": [
    "def create_embedding_vector_db(chunks, file_name, target_directory=f\"\"+db_path):\n",
    "    \"\"\"\n",
    "    this function uses the open-source embedding model HuggingFaceEmbeddings \n",
    "    to create embeddings and store those in a vector database called FAISS, \n",
    "    which allows for efficient similarity search\n",
    "    \"\"\"\n",
    "    # instantiate embedding model\n",
    "    embedding = HuggingFaceEmbeddings(\n",
    "        model_name='sentence-transformers/all-mpnet-base-v2'\n",
    "    )\n",
    "    # create the vector store \n",
    "    vectorstore = FAISS.from_documents(\n",
    "        documents=chunks,\n",
    "        embedding=embedding\n",
    "    )\n",
    "    # save vector database locally\n",
    "    if not os.path.exists(target_directory):\n",
    "        os.makedirs(target_directory)\n",
    "    vectorstore.save_local(f\"{target_directory}/{file_name}_vector_db\")"
   ]
  },
  {
   "cell_type": "code",
   "execution_count": 8,
   "id": "fe644e01",
   "metadata": {},
   "outputs": [],
   "source": [
    "def retrieve_from_vector_db(vector_db_path):\n",
    "    \"\"\"\n",
    "    this function splits out a retriever object from a local vector database\n",
    "    \"\"\"\n",
    "    # instantiate embedding model\n",
    "    embeddings = HuggingFaceEmbeddings(\n",
    "        model_name='sentence-transformers/all-mpnet-base-v2'\n",
    "    )\n",
    "    react_vectorstore = FAISS.load_local(\n",
    "        folder_path=vector_db_path,\n",
    "        embeddings=embeddings,\n",
    "        allow_dangerous_deserialization=True\n",
    "    )\n",
    "    retriever = react_vectorstore.as_retriever()\n",
    "    return retriever"
   ]
  },
  {
   "cell_type": "code",
   "execution_count": 9,
   "id": "1f3ccd24",
   "metadata": {},
   "outputs": [],
   "source": [
    "loaded_pdf =  load_pdf_data(doc_path+file_name+doc_ext)"
   ]
  },
  {
   "cell_type": "code",
   "execution_count": 10,
   "id": "6bd31c90",
   "metadata": {},
   "outputs": [],
   "source": [
    "doc_chunks = split_to_chunks(loaded_pdf)"
   ]
  },
  {
   "cell_type": "code",
   "execution_count": 11,
   "id": "0f40c1aa",
   "metadata": {},
   "outputs": [],
   "source": [
    "create_embedding_vector_db(chunks=doc_chunks, file_name = file_name, target_directory=db_path)"
   ]
  },
  {
   "cell_type": "code",
   "execution_count": 12,
   "id": "f5c541de",
   "metadata": {},
   "outputs": [],
   "source": [
    "doc_retriever = retrieve_from_vector_db(db_path+file_name+\"_vector_db\")\t"
   ]
  },
  {
   "cell_type": "code",
   "execution_count": 13,
   "id": "554f2473",
   "metadata": {},
   "outputs": [],
   "source": [
    "def connect_chains(retriever):\n",
    "    \"\"\"\n",
    "    this function connects stuff_documents_chain with retrieval_chain\n",
    "    \"\"\"\n",
    "    stuff_documents_chain = create_stuff_documents_chain(\n",
    "        llm=llm,\n",
    "        prompt=hub.pull(\"langchain-ai/retrieval-qa-chat\")\n",
    "    )\n",
    "    retrieval_chain = create_retrieval_chain(\n",
    "        retriever=retriever,\n",
    "        combine_docs_chain=stuff_documents_chain\n",
    "    )\n",
    "    return retrieval_chain"
   ]
  },
  {
   "cell_type": "code",
   "execution_count": 14,
   "id": "451fe4b5",
   "metadata": {},
   "outputs": [],
   "source": [
    "doc_retrieval_chain = connect_chains(doc_retriever)"
   ]
  },
  {
   "cell_type": "code",
   "execution_count": 15,
   "id": "09630fb9",
   "metadata": {},
   "outputs": [],
   "source": [
    "def print_output(\n",
    "    inquiry,\n",
    "    retrieval_chain=doc_retrieval_chain\n",
    "):\n",
    "    result = retrieval_chain.invoke({\"input\": inquiry})\n",
    "    print(result['answer'].strip(\"\\n\"))"
   ]
  },
  {
   "cell_type": "code",
   "execution_count": 16,
   "id": "c8a11e69",
   "metadata": {},
   "outputs": [
    {
     "name": "stdout",
     "output_type": "stream",
     "text": [
      "The text discusses the importance of putting one's body in a state of \"want\" to fight diseases and achieve ultimate health and longevity. This can be achieved through certain habits, such as eating patterns and stress-inducing activities like exercise and cold therapy. The text also touches on the topic of childhood eating habits, suggesting that parents should teach children to experience hunger and not rely on sugary snacks and meals.\n"
     ]
    }
   ],
   "source": [
    "print_output(\"Give me the summary the text in 3 sentences.\")"
   ]
  },
  {
   "cell_type": "code",
   "execution_count": 17,
   "id": "f7310cb5",
   "metadata": {},
   "outputs": [
    {
     "name": "stdout",
     "output_type": "stream",
     "text": [
      "Based on the provided context, here are the latest findings for longevity mentioned in the podcast:\n",
      "\n",
      "1. Eat less often: The host, David Sinclair, states that \"eat less often\" is the one starting place for longevity, and that this can have a significant impact on longevity.\n",
      "2. Calorie restriction: While not necessarily eating fewer calories, eating less often can lead to weight loss and a 20-year-old body, according to David Sinclair.\n",
      "3. NAD boosters: David Sinclair mentions that he is involved in clinical studies with NAD boosters at Harvard, which have been tested in humans for two years in a placebo-controlled, double-blind trial.\n",
      "4. Vegan diet: The podcast mentions that vegans have a 15% reduction in death rates, with a mortality rate of 0.85.\n",
      "5. Pesco-vegetarian diet: The best diet for longevity is a Pesco-vegetarian diet, which includes a little bit of meat (from fish) and has a mortality rate of 0.81, a 19% reduction in death rates.\n",
      "\n",
      "It's worth noting that these findings are based on the podcast and may not be the latest or most comprehensive research on longevity.\n"
     ]
    }
   ],
   "source": [
    "print_output(\"Give me the latest findings for longevity.\")"
   ]
  }
 ],
 "metadata": {
  "kernelspec": {
   "display_name": ".venv",
   "language": "python",
   "name": "python3"
  },
  "language_info": {
   "codemirror_mode": {
    "name": "ipython",
    "version": 3
   },
   "file_extension": ".py",
   "mimetype": "text/x-python",
   "name": "python",
   "nbconvert_exporter": "python",
   "pygments_lexer": "ipython3",
   "version": "3.11.3"
  }
 },
 "nbformat": 4,
 "nbformat_minor": 5
}
