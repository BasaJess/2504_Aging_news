{
 "cells": [
  {
   "cell_type": "code",
   "execution_count": 12,
   "id": "63431aaf",
   "metadata": {},
   "outputs": [],
   "source": [
    "from langchain.prompts.prompt import PromptTemplate\n",
    "from langchain_text_splitters import RecursiveCharacterTextSplitter\n",
    "from langchain_groq import ChatGroq\n",
    "from langchain_huggingface import HuggingFaceEmbeddings\n",
    "from langchain_community.vectorstores import FAISS\n",
    "from langchain import hub\n",
    "from langchain.chains.combine_documents import create_stuff_documents_chain\n",
    "from langchain.chains.retrieval import create_retrieval_chain\n",
    "from langchain_community.document_loaders import PyPDFLoader\n",
    "from dotenv import load_dotenv\n",
    "\n",
    "import os\n",
    "import warnings\n",
    "warnings.filterwarnings(\"ignore\")\n"
   ]
  },
  {
   "cell_type": "code",
   "execution_count": 13,
   "id": "3324e939",
   "metadata": {},
   "outputs": [
    {
     "data": {
      "text/plain": [
       "True"
      ]
     },
     "execution_count": 13,
     "metadata": {},
     "output_type": "execute_result"
    }
   ],
   "source": [
    "load_dotenv()"
   ]
  },
  {
   "cell_type": "code",
   "execution_count": 29,
   "id": "695637ac",
   "metadata": {},
   "outputs": [],
   "source": [
    "model_id = \"llama3-8b-8192\"\n",
    "file_name = \"0706.1996\"\n",
    "doc_ext =\".pdf\"\n",
    "doc_path = \"../data/Training_docs/\"\n",
    "db_path = \"../data/vector_databases/AWS/\""
   ]
  },
  {
   "cell_type": "code",
   "execution_count": 30,
   "id": "8eda4444",
   "metadata": {},
   "outputs": [],
   "source": [
    "# Set the model ID and parameters\n",
    "llm = ChatGroq(\n",
    "    model=model_id,\n",
    "    temperature=0,\n",
    "    max_tokens=None,\n",
    "    timeout=None,\n",
    "    max_retries=2\n",
    ")"
   ]
  },
  {
   "cell_type": "code",
   "execution_count": 6,
   "id": "f9d1b7dd",
   "metadata": {},
   "outputs": [],
   "source": [
    "def load_pdf_data(pdf_file_path):\n",
    "    \"\"\"\n",
    "    this function loads text data from pdf file\n",
    "    \"\"\"\n",
    "    loader = PyPDFLoader(file_path=pdf_file_path)\n",
    "    documents = loader.load()\n",
    "    return documents"
   ]
  },
  {
   "cell_type": "code",
   "execution_count": 6,
   "id": "b379fb59",
   "metadata": {},
   "outputs": [],
   "source": [
    "def split_to_chunks(documents, chunk_size=800, chunk_overlap=80):\n",
    "    \"\"\"\n",
    "    this function splits documents into chunks of given size and overlap\n",
    "    \"\"\"\n",
    "    text_splitter = RecursiveCharacterTextSplitter(\n",
    "        chunk_size=chunk_size,\n",
    "        chunk_overlap=chunk_overlap\n",
    "    )\n",
    "    chunks = text_splitter.split_documents(documents=documents)##arning ,may be recursive\n",
    "    return chunks"
   ]
  },
  {
   "cell_type": "code",
   "execution_count": 7,
   "id": "b7f16cda",
   "metadata": {},
   "outputs": [],
   "source": [
    "def create_embedding_vector_db(chunks, file_name, target_directory=f\"\"+db_path):\n",
    "    \"\"\"\n",
    "    this function uses the open-source embedding model HuggingFaceEmbeddings \n",
    "    to create embeddings and store those in a vector database called FAISS, \n",
    "    which allows for efficient similarity search\n",
    "    \"\"\"\n",
    "    # instantiate embedding model\n",
    "    embedding = HuggingFaceEmbeddings(\n",
    "        model_name='sentence-transformers/all-mpnet-base-v2'\n",
    "    )\n",
    "    # create the vector store \n",
    "    vectorstore = FAISS.from_documents(\n",
    "        documents=chunks,\n",
    "        embedding=embedding\n",
    "    )\n",
    "    # save vector database locally\n",
    "    if not os.path.exists(target_directory):\n",
    "        os.makedirs(target_directory)\n",
    "    vectorstore.save_local(f\"{target_directory}/{file_name}_vector_db\")"
   ]
  },
  {
   "cell_type": "code",
   "execution_count": 31,
   "id": "fe644e01",
   "metadata": {},
   "outputs": [],
   "source": [
    "def retrieve_from_vector_db(vector_db_path):\n",
    "    \"\"\"\n",
    "    this function splits out a retriever object from a local vector database\n",
    "    \"\"\"\n",
    "    # instantiate embedding model\n",
    "    embeddings = HuggingFaceEmbeddings(\n",
    "        model_name='sentence-transformers/all-mpnet-base-v2'\n",
    "    )\n",
    "    react_vectorstore = FAISS.load_local(\n",
    "        folder_path=vector_db_path,\n",
    "        embeddings=embeddings,\n",
    "        allow_dangerous_deserialization=True\n",
    "    )\n",
    "    retriever = react_vectorstore.as_retriever()\n",
    "    return retriever"
   ]
  },
  {
   "cell_type": "code",
   "execution_count": 9,
   "id": "1f3ccd24",
   "metadata": {},
   "outputs": [],
   "source": [
    "loaded_pdf =  load_pdf_data(doc_path+file_name+doc_ext)"
   ]
  },
  {
   "cell_type": "code",
   "execution_count": 10,
   "id": "6bd31c90",
   "metadata": {},
   "outputs": [],
   "source": [
    "doc_chunks = split_to_chunks(loaded_pdf)"
   ]
  },
  {
   "cell_type": "code",
   "execution_count": 11,
   "id": "0f40c1aa",
   "metadata": {},
   "outputs": [],
   "source": [
    "create_embedding_vector_db(chunks=doc_chunks, file_name = file_name, target_directory=db_path)"
   ]
  },
  {
   "cell_type": "code",
   "execution_count": 32,
   "id": "f5c541de",
   "metadata": {},
   "outputs": [],
   "source": [
    "doc_retriever = retrieve_from_vector_db(db_path+file_name+\"_vector_db\")\t"
   ]
  },
  {
   "cell_type": "code",
   "execution_count": 33,
   "id": "554f2473",
   "metadata": {},
   "outputs": [],
   "source": [
    "def connect_chains(retriever):\n",
    "    \"\"\"\n",
    "    this function connects stuff_documents_chain with retrieval_chain\n",
    "    \"\"\"\n",
    "    stuff_documents_chain = create_stuff_documents_chain(\n",
    "        llm=llm,\n",
    "        prompt=hub.pull(\"langchain-ai/retrieval-qa-chat\")\n",
    "    )\n",
    "    retrieval_chain = create_retrieval_chain(\n",
    "        retriever=retriever,\n",
    "        combine_docs_chain=stuff_documents_chain\n",
    "    )\n",
    "    return retrieval_chain"
   ]
  },
  {
   "cell_type": "code",
   "execution_count": 34,
   "id": "451fe4b5",
   "metadata": {},
   "outputs": [],
   "source": [
    "doc_retrieval_chain = connect_chains(doc_retriever)"
   ]
  },
  {
   "cell_type": "code",
   "execution_count": 35,
   "id": "09630fb9",
   "metadata": {},
   "outputs": [],
   "source": [
    "def print_output(\n",
    "    inquiry,\n",
    "    retrieval_chain=doc_retrieval_chain\n",
    "):\n",
    "    result = retrieval_chain.invoke({\"input\": inquiry})\n",
    "    print(result['answer'].strip(\"\\n\"))"
   ]
  },
  {
   "cell_type": "code",
   "execution_count": 36,
   "id": "c8a11e69",
   "metadata": {},
   "outputs": [
    {
     "name": "stdout",
     "output_type": "stream",
     "text": [
      "The text appears to be a scientific paper or article discussing the Radulescu Planet RB, which is described as resembling a planet with peaks and valleys. The author, Radulescu, references several of his own publications on topics such as cancer therapy, retinoblastoma protein, and host defense against microbial infection. The text also mentions several peptides and their potential applications in medicine, including MCR peptides and sequences similar to nociceptin/orphanin FQ and ß-endorphin.\n"
     ]
    }
   ],
   "source": [
    "print_output(\"Give me the summary the text in 3 sentences.\")"
   ]
  },
  {
   "cell_type": "code",
   "execution_count": 66,
   "id": "27d3d7c8",
   "metadata": {},
   "outputs": [
    {
     "name": "stdout",
     "output_type": "stream",
     "text": [
      "Radulescu\n"
     ]
    }
   ],
   "source": [
    "print_output(\"Please write only the name of the author of this document, if there is no author mentioned, write only unknown\")"
   ]
  },
  {
   "cell_type": "code",
   "execution_count": 65,
   "id": "acca128d",
   "metadata": {},
   "outputs": [
    {
     "name": "stdout",
     "output_type": "stream",
     "text": [
      "June 2007\n"
     ]
    }
   ],
   "source": [
    "print_output(\"if there is a date of publication of the document, Please write only the date of publication, if there is no date of publication, please write only today's date.\")"
   ]
  },
  {
   "cell_type": "code",
   "execution_count": 59,
   "id": "d78f75c0",
   "metadata": {},
   "outputs": [
    {
     "name": "stdout",
     "output_type": "stream",
     "text": [
      "Unclear\n"
     ]
    }
   ],
   "source": [
    "print_output(\"if there is an indication that this document is peer reviewed, please write yes, otherwise unclear\")\n"
   ]
  },
  {
   "cell_type": "code",
   "execution_count": 60,
   "id": "6a0bc879",
   "metadata": {},
   "outputs": [
    {
     "name": "stdout",
     "output_type": "stream",
     "text": [
      "0.7\n"
     ]
    }
   ],
   "source": [
    "print_output(\"Please assign a relevance between 0 and 1 of this document to longevity, and write only the number\")"
   ]
  },
  {
   "cell_type": "code",
   "execution_count": 62,
   "id": "a2870461",
   "metadata": {},
   "outputs": [
    {
     "name": "stdout",
     "output_type": "stream",
     "text": [
      "Unclear\n"
     ]
    }
   ],
   "source": [
    "print_output(\"Please write just the name of the institution that published this article, if it not clear just write unclear\")"
   ]
  },
  {
   "cell_type": "code",
   "execution_count": 63,
   "id": "bf2ad5f3",
   "metadata": {},
   "outputs": [
    {
     "name": "stdout",
     "output_type": "stream",
     "text": [
      "The document discusses the potential roles of the retinoblastoma protein (RB) in various biological processes, including anti-cancer and anti-aging effects. The author identifies specific regions of the RB protein that may be involved in these processes, including docking sites for other molecules, calcium binding sites, and sequences that resemble other proteins involved in insulin signaling and oxygen binding. The author suggests that RB may play a role in blocking insulin receptor activation, countering neurodegeneration, and promoting cell survival, among other functions.\n"
     ]
    }
   ],
   "source": [
    "print_output(\"Please write a brief summary of the document\")"
   ]
  },
  {
   "cell_type": "code",
   "execution_count": 49,
   "id": "ac802b9d",
   "metadata": {},
   "outputs": [
    {
     "name": "stdout",
     "output_type": "stream",
     "text": [
      "Based on the provided context, here is the list of information you requested:\n",
      "\n",
      "1. File name: Planet RB\n",
      "2. Date of publication: June 2007\n",
      "3. Author: Razvan Tudor Radulescu\n",
      "4. Relevance: The document appears to be a mini-review of the author's research on the retinoblastoma tumor suppressor protein (RB), highlighting various putative or proven roles of RB, including its potential to bind to other molecules, self-associate, and interact with calcium, oxygen, and other molecules. The document also mentions the author's previous research and publications on the topic.\n"
     ]
    }
   ],
   "source": [
    "print_output(\"can you create a list of the name of the file, the date of publication, the author, and the relevance of this document?\")"
   ]
  },
  {
   "cell_type": "code",
   "execution_count": null,
   "id": "94e128f6",
   "metadata": {},
   "outputs": [
    {
     "name": "stdout",
     "output_type": "stream",
     "text": [
      "I'm happy to help! However, I need to clarify that the provided context is a text, not a dataset. But I can help you extract the information and append it to a dataframe if you provide a dataframe structure.\n",
      "\n",
      "Assuming you have a dataframe with columns for \"Residue Number\", \"Putative/Proven Role\", and \"Reference\", you can use the following code to append the information:\n",
      "\n",
      "```\n",
      "import pandas as pd\n",
      "\n",
      "# Create a dataframe\n",
      "df = pd.DataFrame(columns=[\"Residue Number\", \"Putative/Proven Role\", \"Reference\"])\n",
      "\n",
      "# Append the information\n",
      "df = df.append({\"Residue Number\": 1-26, \"Putative/Proven Role\": \"signal peptide\", \"Reference\": 1}, ignore_index=True)\n",
      "df = df.append({\"Residue Number\": 3-5, \"Putative/Proven Role\": \"antineoplastic & anti-aging through block of insulin binding to its receptor\", \"Reference\": 2}, ignore_index=True)\n",
      "df = df.append({\"Residue Number\": 13-18, \"Putative/Proven Role\": \"amyloidogenic hexa-alanine counteracting (prion-associated) neurodegeneration\", \"Reference\": 3, 4}, ignore_index=True)\n",
      "df = df.append({\"Residue Number\": 30-36, \"Putative/Proven Role\": \"calcium binding site\", \"Reference\": 5}, ignore_index=True)\n",
      "df = df.append({\"Residue Number\": 142-145, \"Putative/Proven Role\": \"IgG1 constant region-like fragment\", \"Reference\": 6}, ignore_index=True)\n",
      "df = df.append({\"Residue Number\": 148-152, \"Putative/Proven Role\": \"oxygen-mimicking peptide\", \"Reference\": 7}, ignore_index=True)\n",
      "df = df.append({\"Residue Number\": 254-257, \"Putative/Proven Role\": \"β-endorphin COOH-terminus-like\", \"Reference\": 8}, ignore_index=True)\n",
      "df = df.append({\"Residue Number\": 276-280, \"Putative/Proven Role\": \"LXCXE-like anti-apoptotic cell survival amino acid motif\", \"Reference\": 9}, ignore_index=True)\n",
      "df = df.append({\"Residue Number\": 649-654, \"Putative/Proven Role\": \"insulin-binding and thus antineoplastic as well as anti-aging\", \"Reference\": 10-23}, ignore_index=True)\n",
      "df = df.append({\"Residue Number\": 673-678, \"Putative/Proven Role\": \"insulin-degrading enzyme (IDE) zinc binding site-like sequence\", \"Reference\": 26}, ignore_index=True)\n",
      "df = df.append({\"Residue Number\": 675-678, \"Putative/Proven Role\": \"oxygen binding site\", \"Reference\": 27}, ignore_index=True)\n",
      "df = df.append({\"Residue Number\": His673, Asp718 & Ser811, \"Putative/Proven Role\": \"serine protease catalytic triad-like\", \"Reference\": 28}, ignore_index=True)\n",
      "df = df.append({\"Residue Number\": 10, \"Putative/Proven Role\": \"potential glycosylation sites\", \"Reference\": 29}, ignore_index=True)\n",
      "\n",
      "print(df)\n",
      "```\n",
      "\n",
      "This code will create a dataframe with the provided information and print it to the console. You can modify the code to append the information to an existing dataframe or to a file.\n"
     ]
    }
   ],
   "source": [
    "import pandas as pd\n",
    "cols = \"File_Name\",\"Relevance_for_longevity\",\"Date_of_publication\", \"Author\",\"Institution\",\"Peer Reviewed\",\"Summary\"\n",
    "\n",
    "df = pd.DataFrame(columns=cols)\n",
    "print_output(\"can you append the info required to the datafrae df?\")"
   ]
  }
 ],
 "metadata": {
  "kernelspec": {
   "display_name": ".venv",
   "language": "python",
   "name": "python3"
  },
  "language_info": {
   "codemirror_mode": {
    "name": "ipython",
    "version": 3
   },
   "file_extension": ".py",
   "mimetype": "text/x-python",
   "name": "python",
   "nbconvert_exporter": "python",
   "pygments_lexer": "ipython3",
   "version": "3.11.3"
  }
 },
 "nbformat": 4,
 "nbformat_minor": 5
}
