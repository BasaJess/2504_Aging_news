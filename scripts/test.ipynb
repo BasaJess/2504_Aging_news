{
 "cells": [
  {
   "cell_type": "code",
   "execution_count": 2,
   "id": "e046eae1",
   "metadata": {},
   "outputs": [],
   "source": [
    "import importlib\n",
    "import pandas as pd"
   ]
  },
  {
   "cell_type": "code",
   "execution_count": 3,
   "id": "5302fa84",
   "metadata": {},
   "outputs": [],
   "source": [
    "#import from a py file\n",
    "load_other_file = importlib.import_module(\"34_Most_relevant_docs_list_maker\")\n",
    "retrieve_most_relevant_docs_for_streamlit = load_other_file.retrieve_most_relevant_docs_for_streamlit\n",
    "#extract_parent_path = load_other_file.extract_parent_path\n",
    "\n"
   ]
  },
  {
   "cell_type": "code",
   "execution_count": 4,
   "id": "9a9d3e7a",
   "metadata": {},
   "outputs": [],
   "source": [
    "df = retrieve_most_relevant_docs_for_streamlit()"
   ]
  },
  {
   "cell_type": "code",
   "execution_count": 5,
   "id": "18c63a1d",
   "metadata": {},
   "outputs": [
    {
     "data": {
      "text/html": [
       "<div>\n",
       "<style scoped>\n",
       "    .dataframe tbody tr th:only-of-type {\n",
       "        vertical-align: middle;\n",
       "    }\n",
       "\n",
       "    .dataframe tbody tr th {\n",
       "        vertical-align: top;\n",
       "    }\n",
       "\n",
       "    .dataframe thead th {\n",
       "        text-align: right;\n",
       "    }\n",
       "</style>\n",
       "<table border=\"1\" class=\"dataframe\">\n",
       "  <thead>\n",
       "    <tr style=\"text-align: right;\">\n",
       "      <th></th>\n",
       "      <th>Author</th>\n",
       "      <th>Date</th>\n",
       "      <th>Institution</th>\n",
       "      <th>Peer_Reviewed</th>\n",
       "      <th>Relevance_for_longevity</th>\n",
       "      <th>Summary</th>\n",
       "    </tr>\n",
       "  </thead>\n",
       "  <tbody>\n",
       "    <tr>\n",
       "      <th>0</th>\n",
       "      <td>Unknown</td>\n",
       "      <td>2023-04-13</td>\n",
       "      <td>Please provide the article title or DOI, and I...</td>\n",
       "      <td>Based on the provided context, I would say \"un...</td>\n",
       "      <td>1.0</td>\n",
       "      <td>The document appears to be an article or repor...</td>\n",
       "    </tr>\n",
       "    <tr>\n",
       "      <th>1</th>\n",
       "      <td>Unknown</td>\n",
       "      <td>2025-04-26</td>\n",
       "      <td>Unclear</td>\n",
       "      <td>Unclear</td>\n",
       "      <td>0.9</td>\n",
       "      <td>The document discusses the longevity record of...</td>\n",
       "    </tr>\n",
       "    <tr>\n",
       "      <th>2</th>\n",
       "      <td>Unknown</td>\n",
       "      <td>2025-04-13</td>\n",
       "      <td>Based on the provided context, here are the na...</td>\n",
       "      <td>Unclear</td>\n",
       "      <td>0.9</td>\n",
       "      <td>Unfortunately, there is no document provided, ...</td>\n",
       "    </tr>\n",
       "    <tr>\n",
       "      <th>3</th>\n",
       "      <td>Unknown</td>\n",
       "      <td>2025-04-13</td>\n",
       "      <td>Based on the provided context, here are the na...</td>\n",
       "      <td>Unclear</td>\n",
       "      <td>0.9</td>\n",
       "      <td>The document discusses the use of databases to...</td>\n",
       "    </tr>\n",
       "    <tr>\n",
       "      <th>4</th>\n",
       "      <td>Unknown</td>\n",
       "      <td>2025-04-13</td>\n",
       "      <td>Unclear</td>\n",
       "      <td>Unclear</td>\n",
       "      <td>0.9</td>\n",
       "      <td>The document appears to be a research paper di...</td>\n",
       "    </tr>\n",
       "  </tbody>\n",
       "</table>\n",
       "</div>"
      ],
      "text/plain": [
       "    Author        Date                                        Institution   \n",
       "0  Unknown  2023-04-13  Please provide the article title or DOI, and I...  \\\n",
       "1  Unknown  2025-04-26                                            Unclear   \n",
       "2  Unknown  2025-04-13  Based on the provided context, here are the na...   \n",
       "3  Unknown  2025-04-13  Based on the provided context, here are the na...   \n",
       "4  Unknown  2025-04-13                                            Unclear   \n",
       "\n",
       "                                       Peer_Reviewed  Relevance_for_longevity   \n",
       "0  Based on the provided context, I would say \"un...                      1.0  \\\n",
       "1                                            Unclear                      0.9   \n",
       "2                                            Unclear                      0.9   \n",
       "3                                            Unclear                      0.9   \n",
       "4                                            Unclear                      0.9   \n",
       "\n",
       "                                             Summary  \n",
       "0  The document appears to be an article or repor...  \n",
       "1  The document discusses the longevity record of...  \n",
       "2  Unfortunately, there is no document provided, ...  \n",
       "3  The document discusses the use of databases to...  \n",
       "4  The document appears to be a research paper di...  "
      ]
     },
     "execution_count": 5,
     "metadata": {},
     "output_type": "execute_result"
    }
   ],
   "source": [
    "df.head()"
   ]
  },
  {
   "cell_type": "code",
   "execution_count": 3,
   "id": "09ad1849",
   "metadata": {},
   "outputs": [],
   "source": [
    "df = pd.read_csv(\"../data/results/cleaned_docs_info.csv\")"
   ]
  },
  {
   "cell_type": "code",
   "execution_count": null,
   "id": "576c47dd",
   "metadata": {},
   "outputs": [],
   "source": [
    "top_docs_df, top_docs_json = most_relevant_docs_list(df)\n",
    "\n",
    "# Display\n",
    "print(top_docs_df)      # For console/table preview\n",
    "print(top_docs_json)    # For API or web output\n",
    "\n",
    "\n"
   ]
  },
  {
   "cell_type": "code",
   "execution_count": 5,
   "id": "7687e298",
   "metadata": {},
   "outputs": [],
   "source": [
    "top_docs_df.to_csv(\"topdocs.csv\")"
   ]
  }
 ],
 "metadata": {
  "kernelspec": {
   "display_name": ".venv",
   "language": "python",
   "name": "python3"
  },
  "language_info": {
   "codemirror_mode": {
    "name": "ipython",
    "version": 3
   },
   "file_extension": ".py",
   "mimetype": "text/x-python",
   "name": "python",
   "nbconvert_exporter": "python",
   "pygments_lexer": "ipython3",
   "version": "3.11.3"
  }
 },
 "nbformat": 4,
 "nbformat_minor": 5
}
