{
 "cells": [
  {
   "cell_type": "code",
   "execution_count": 1,
   "id": "5302fa84",
   "metadata": {},
   "outputs": [
    {
     "name": "stderr",
     "output_type": "stream",
     "text": [
      "c:\\Users\\email\\Desktop\\2504_Aging_news\\2504_Aging_news\\.venv\\Lib\\site-packages\\tqdm\\auto.py:21: TqdmWarning: IProgress not found. Please update jupyter and ipywidgets. See https://ipywidgets.readthedocs.io/en/stable/user_install.html\n",
      "  from .autonotebook import tqdm as notebook_tqdm\n"
     ]
    }
   ],
   "source": [
    "#from LLMver00 import return_my_question\n",
    "import importlib\n",
    "load_other_file = importlib.import_module(\"30_create_vectorDB\")\n",
    "createvector_from_file = load_other_file.createvector_from_file\n",
    "createvector_from_directory = load_other_file.createvector_from_directory"
   ]
  },
  {
   "cell_type": "code",
   "execution_count": null,
   "id": "2db27d76",
   "metadata": {},
   "outputs": [],
   "source": [
    "createvector_from_file(\"..\\data\\Training_docs\", \"Lifespan_section_1.pdf\")"
   ]
  }
 ],
 "metadata": {
  "kernelspec": {
   "display_name": ".venv",
   "language": "python",
   "name": "python3"
  },
  "language_info": {
   "codemirror_mode": {
    "name": "ipython",
    "version": 3
   },
   "file_extension": ".py",
   "mimetype": "text/x-python",
   "name": "python",
   "nbconvert_exporter": "python",
   "pygments_lexer": "ipython3",
   "version": "3.11.3"
  }
 },
 "nbformat": 4,
 "nbformat_minor": 5
}
