{
 "cells": [
  {
   "cell_type": "code",
   "execution_count": 4,
   "id": "5302fa84",
   "metadata": {},
   "outputs": [],
   "source": [
    "#from LLMver00 import return_my_question\n",
    "import importlib\n",
    "import pandas as pd\n",
    "load_other_file = importlib.import_module(\"30_LLM_Assistant\")\n",
    "make_list_from_vectordb = load_other_file.make_list_from_vectordb\n",
    "extract_parent_path = load_other_file.extract_parent_path\n",
    "build_dataframe_from_vector_dbs = load_other_file.build_dataframe_from_vector_dbs\n",
    "#extract_document_info_from_faiss = load_other_file.extract_document_info_from_faiss\n"
   ]
  },
  {
   "cell_type": "code",
   "execution_count": null,
   "id": "97737058",
   "metadata": {},
   "outputs": [],
   "source": [
    "retriever = load_vector_store(\"../data/vector_databases/Lifespan_section_10_vector_db\")"
   ]
  },
  {
   "cell_type": "code",
   "execution_count": null,
   "id": "2481ff96",
   "metadata": {},
   "outputs": [],
   "source": [
    "from langchain_community.vectorstores import FAISS\n",
    "from langchain_community.embeddings import OpenAIEmbeddings\n",
    "\n",
    "# Define the path to the folder containing your index files\n",
    "folder_path = \"../data/vector_databases/Lifespan_section_10_vector_db\"\n",
    "\n",
    "# Initialize the embedding function (ensure it matches the one used during indexing)\n",
    "embeddings = OpenAIEmbeddings()\n",
    "\n",
    "# Load the FAISS vector store with deserialization allowed\n",
    "faiss_vector_store = FAISS.load_local(\n",
    "    folder_path, \n",
    "    embeddings,\n",
    "    allow_dangerous_deserialization=True\n",
    ")"
   ]
  },
  {
   "cell_type": "code",
   "execution_count": null,
   "id": "285e0d1c",
   "metadata": {},
   "outputs": [],
   "source": [
    "\n",
    "document_info_list = extract_document_info_from_faiss(faiss_vector_store)\n",
    "print(document_info_list)\n"
   ]
  }
 ],
 "metadata": {
  "kernelspec": {
   "display_name": ".venv",
   "language": "python",
   "name": "python3"
  },
  "language_info": {
   "codemirror_mode": {
    "name": "ipython",
    "version": 3
   },
   "file_extension": ".py",
   "mimetype": "text/x-python",
   "name": "python",
   "nbconvert_exporter": "python",
   "pygments_lexer": "ipython3",
   "version": "3.11.3"
  }
 },
 "nbformat": 4,
 "nbformat_minor": 5
}
