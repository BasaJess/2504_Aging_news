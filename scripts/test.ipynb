{
 "cells": [
  {
   "cell_type": "code",
   "execution_count": 1,
   "id": "5302fa84",
   "metadata": {},
   "outputs": [],
   "source": [
    "#from LLMver00 import return_my_question\n",
    "import importlib\n",
    "load_other_file = importlib.import_module(\"30_LLM_Assistant\")\n",
    "make_list_from_vectordb = load_other_file.make_list_from_vectordb\n",
    "extract_parent_path = load_other_file.extract_parent_path\n",
    "#extract_document_info_from_faiss = load_other_file.extract_document_info_from_faiss\n"
   ]
  },
  {
   "cell_type": "code",
   "execution_count": null,
   "id": "b1295b37",
   "metadata": {},
   "outputs": [],
   "source": [
    "# Example usage\n",
    "try:\n",
    "    path = r\"..\\data\\vector_databases\\Lifespan_section_3_vector_db\"\n",
    "    parent = extract_parent_path(path)\n",
    "    print(f\"Parent path: {parent}\")\n",
    "except Exception as e:\n",
    "    print(f\"Error: {e}\")"
   ]
  },
  {
   "cell_type": "code",
   "execution_count": null,
   "id": "97737058",
   "metadata": {},
   "outputs": [],
   "source": [
    "retriever = load_vector_store(\"../data/vector_databases/Lifespan_section_10_vector_db\")"
   ]
  },
  {
   "cell_type": "code",
   "execution_count": null,
   "id": "2481ff96",
   "metadata": {},
   "outputs": [],
   "source": [
    "from langchain_community.vectorstores import FAISS\n",
    "from langchain_community.embeddings import OpenAIEmbeddings\n",
    "\n",
    "# Define the path to the folder containing your index files\n",
    "folder_path = \"../data/vector_databases/Lifespan_section_10_vector_db\"\n",
    "\n",
    "# Initialize the embedding function (ensure it matches the one used during indexing)\n",
    "embeddings = OpenAIEmbeddings()\n",
    "\n",
    "# Load the FAISS vector store with deserialization allowed\n",
    "faiss_vector_store = FAISS.load_local(\n",
    "    folder_path, \n",
    "    embeddings,\n",
    "    allow_dangerous_deserialization=True\n",
    ")"
   ]
  },
  {
   "cell_type": "code",
   "execution_count": null,
   "id": "285e0d1c",
   "metadata": {},
   "outputs": [],
   "source": [
    "\n",
    "document_info_list = extract_document_info_from_faiss(faiss_vector_store)\n",
    "print(document_info_list)\n"
   ]
  },
  {
   "cell_type": "code",
   "execution_count": 6,
   "id": "3f804b8e",
   "metadata": {},
   "outputs": [
    {
     "name": "stdout",
     "output_type": "stream",
     "text": [
      "Extracted file name: 1302.6197\n"
     ]
    },
    {
     "data": {
      "text/plain": [
       "[{'File_Name': '1302.6197',\n",
       "  'Relevance_for_longevity': '0.4',\n",
       "  'Date_of_publication': \"There is no date of publication mentioned in the context. Therefore, I will write today's date:\\n\\nMarch 22, 2023\",\n",
       "  'Author': 'Unknown',\n",
       "  'Institution': 'Based on the provided context, the names of the institutions that published the articles are:\\n\\n* Mem. Entomol. Soc. Can. (Canadian Entomological Society)\\n* SIAM Review (Society for Industrial and Applied Mathematics)\\n* Ecol. Lett. (Ecological Letters, published by the British Ecological Society)\\n* Philos. T. Roy. Soc. B (Philosophical Transactions of the Royal Society B, published by the Royal Society)\\n* J. Theor. Biol. (Journal of Theoretical Biology, published by Elsevier)\\n* J. Plankton Res. (Journal of Plankton Research, published by Oxford University Press)\\n* Oecologia (Oecologia, published by Springer)\\n* Aquat. Microb. Ecol. (Aquatic Microbial Ecology, published by Inter-Research)\\n* Ecology (Ecology, published by the Ecological Society of America)\\n\\nThe institution for the other articles is unclear.',\n",
       "  'Peer Reviewed': 'Unclear',\n",
       "  'Summary': \"The document appears to be a scientific paper discussing the dynamics of ecological systems, particularly in the context of Lake Constance. It mentions the impact of human activities on the lake's productivity and the resulting changes in species composition. The paper also touches on the concept of trade-offs between different species and how they adapt to changing environmental conditions. Additionally, it references various scientific studies and papers on the topic of ecological systems and biodiversity.\"}]"
      ]
     },
     "execution_count": 6,
     "metadata": {},
     "output_type": "execute_result"
    }
   ],
   "source": [
    "make_list_from_vectordb(\"../data/vector_databases/AWS/1302.6197_vector_db\")"
   ]
  }
 ],
 "metadata": {
  "kernelspec": {
   "display_name": ".venv",
   "language": "python",
   "name": "python3"
  },
  "language_info": {
   "codemirror_mode": {
    "name": "ipython",
    "version": 3
   },
   "file_extension": ".py",
   "mimetype": "text/x-python",
   "name": "python",
   "nbconvert_exporter": "python",
   "pygments_lexer": "ipython3",
   "version": "3.11.3"
  }
 },
 "nbformat": 4,
 "nbformat_minor": 5
}
