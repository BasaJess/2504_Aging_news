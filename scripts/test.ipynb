{
 "cells": [
  {
   "cell_type": "code",
   "execution_count": 4,
   "id": "5302fa84",
   "metadata": {},
   "outputs": [],
   "source": [
    "#from LLMver00 import return_my_question\n",
    "import importlib\n",
    "import pandas as pd\n",
    "load_other_file = importlib.import_module(\"30_LLM_Assistant\")\n",
    "make_list_from_vectordb = load_other_file.make_list_from_vectordb\n",
    "extract_parent_path = load_other_file.extract_parent_path\n",
    "build_dataframe_from_vector_dbs = load_other_file.build_dataframe_from_vector_dbs\n",
    "#extract_document_info_from_faiss = load_other_file.extract_document_info_from_faiss\n"
   ]
  },
  {
   "cell_type": "code",
   "execution_count": null,
   "id": "97737058",
   "metadata": {},
   "outputs": [],
   "source": [
    "retriever = load_vector_store(\"../data/vector_databases/Lifespan_section_10_vector_db\")"
   ]
  },
  {
   "cell_type": "code",
   "execution_count": null,
   "id": "2481ff96",
   "metadata": {},
   "outputs": [],
   "source": [
    "from langchain_community.vectorstores import FAISS\n",
    "from langchain_community.embeddings import OpenAIEmbeddings\n",
    "\n",
    "# Define the path to the folder containing your index files\n",
    "folder_path = \"../data/vector_databases/Lifespan_section_10_vector_db\"\n",
    "\n",
    "# Initialize the embedding function (ensure it matches the one used during indexing)\n",
    "embeddings = OpenAIEmbeddings()\n",
    "\n",
    "# Load the FAISS vector store with deserialization allowed\n",
    "faiss_vector_store = FAISS.load_local(\n",
    "    folder_path, \n",
    "    embeddings,\n",
    "    allow_dangerous_deserialization=True\n",
    ")"
   ]
  },
  {
   "cell_type": "code",
   "execution_count": null,
   "id": "285e0d1c",
   "metadata": {},
   "outputs": [],
   "source": [
    "\n",
    "document_info_list = extract_document_info_from_faiss(faiss_vector_store)\n",
    "print(document_info_list)\n",
    "\n"
   ]
  },
  {
   "cell_type": "code",
   "execution_count": 16,
   "id": "c78cdc1f",
   "metadata": {},
   "outputs": [],
   "source": [
    "df = pd.read_csv(\"../data/results/papers_info.csv\")"
   ]
  },
  {
   "cell_type": "code",
   "execution_count": 17,
   "id": "03e81fe1",
   "metadata": {},
   "outputs": [
    {
     "data": {
      "text/html": [
       "<div>\n",
       "<style scoped>\n",
       "    .dataframe tbody tr th:only-of-type {\n",
       "        vertical-align: middle;\n",
       "    }\n",
       "\n",
       "    .dataframe tbody tr th {\n",
       "        vertical-align: top;\n",
       "    }\n",
       "\n",
       "    .dataframe thead th {\n",
       "        text-align: right;\n",
       "    }\n",
       "</style>\n",
       "<table border=\"1\" class=\"dataframe\">\n",
       "  <thead>\n",
       "    <tr style=\"text-align: right;\">\n",
       "      <th></th>\n",
       "      <th>File_Name</th>\n",
       "      <th>Relevance_for_longevity</th>\n",
       "      <th>Date_of_publication</th>\n",
       "      <th>Author</th>\n",
       "      <th>Institution</th>\n",
       "      <th>Peer Reviewed</th>\n",
       "      <th>Summary</th>\n",
       "    </tr>\n",
       "  </thead>\n",
       "  <tbody>\n",
       "    <tr>\n",
       "      <th>0</th>\n",
       "      <td>706.1996</td>\n",
       "      <td>0.7</td>\n",
       "      <td>June 2007</td>\n",
       "      <td>Radulescu</td>\n",
       "      <td>Unclear</td>\n",
       "      <td>Unclear</td>\n",
       "      <td>The document discusses the potential roles of ...</td>\n",
       "    </tr>\n",
       "    <tr>\n",
       "      <th>1</th>\n",
       "      <td>1102.0933</td>\n",
       "      <td>0.2</td>\n",
       "      <td>There is no date of publication mentioned in t...</td>\n",
       "      <td>Unknown</td>\n",
       "      <td>I apologize, but there is no article mentioned...</td>\n",
       "      <td>Based on the context, I would say \"unclear\". T...</td>\n",
       "      <td>The document appears to be a research paper or...</td>\n",
       "    </tr>\n",
       "    <tr>\n",
       "      <th>2</th>\n",
       "      <td>1102.3369</td>\n",
       "      <td>0.0</td>\n",
       "      <td>There is no date of publication mentioned in t...</td>\n",
       "      <td>Unknown</td>\n",
       "      <td>Here are the names of the institutions that pu...</td>\n",
       "      <td>Unclear</td>\n",
       "      <td>The document appears to be a scientific paper ...</td>\n",
       "    </tr>\n",
       "    <tr>\n",
       "      <th>3</th>\n",
       "      <td>1109.1296</td>\n",
       "      <td>0.2</td>\n",
       "      <td>The date of publication is not specified in th...</td>\n",
       "      <td>Unknown</td>\n",
       "      <td>Unclear</td>\n",
       "      <td>Unclear</td>\n",
       "      <td>The document appears to be a mathematical mode...</td>\n",
       "    </tr>\n",
       "    <tr>\n",
       "      <th>4</th>\n",
       "      <td>1201.2900</td>\n",
       "      <td>0.0</td>\n",
       "      <td>There is no date of publication mentioned in t...</td>\n",
       "      <td>Unknown</td>\n",
       "      <td>Unclear</td>\n",
       "      <td>Unclear</td>\n",
       "      <td>The document appears to be an academic or tech...</td>\n",
       "    </tr>\n",
       "  </tbody>\n",
       "</table>\n",
       "</div>"
      ],
      "text/plain": [
       "   File_Name  Relevance_for_longevity   \n",
       "0   706.1996                      0.7  \\\n",
       "1  1102.0933                      0.2   \n",
       "2  1102.3369                      0.0   \n",
       "3  1109.1296                      0.2   \n",
       "4  1201.2900                      0.0   \n",
       "\n",
       "                                 Date_of_publication     Author   \n",
       "0                                          June 2007  Radulescu  \\\n",
       "1  There is no date of publication mentioned in t...    Unknown   \n",
       "2  There is no date of publication mentioned in t...    Unknown   \n",
       "3  The date of publication is not specified in th...    Unknown   \n",
       "4  There is no date of publication mentioned in t...    Unknown   \n",
       "\n",
       "                                         Institution   \n",
       "0                                            Unclear  \\\n",
       "1  I apologize, but there is no article mentioned...   \n",
       "2  Here are the names of the institutions that pu...   \n",
       "3                                            Unclear   \n",
       "4                                            Unclear   \n",
       "\n",
       "                                       Peer Reviewed   \n",
       "0                                            Unclear  \\\n",
       "1  Based on the context, I would say \"unclear\". T...   \n",
       "2                                            Unclear   \n",
       "3                                            Unclear   \n",
       "4                                            Unclear   \n",
       "\n",
       "                                             Summary  \n",
       "0  The document discusses the potential roles of ...  \n",
       "1  The document appears to be a research paper or...  \n",
       "2  The document appears to be a scientific paper ...  \n",
       "3  The document appears to be a mathematical mode...  \n",
       "4  The document appears to be an academic or tech...  "
      ]
     },
     "execution_count": 17,
     "metadata": {},
     "output_type": "execute_result"
    }
   ],
   "source": [
    "df.head()"
   ]
  },
  {
   "cell_type": "code",
   "execution_count": 18,
   "id": "3aa12f77",
   "metadata": {},
   "outputs": [
    {
     "name": "stdout",
     "output_type": "stream",
     "text": [
      "<class 'pandas.core.frame.DataFrame'>\n",
      "RangeIndex: 728 entries, 0 to 727\n",
      "Data columns (total 7 columns):\n",
      " #   Column                   Non-Null Count  Dtype  \n",
      "---  ------                   --------------  -----  \n",
      " 0   File_Name                728 non-null    float64\n",
      " 1   Relevance_for_longevity  728 non-null    float64\n",
      " 2   Date_of_publication      728 non-null    object \n",
      " 3   Author                   728 non-null    object \n",
      " 4   Institution              728 non-null    object \n",
      " 5   Peer Reviewed            728 non-null    object \n",
      " 6   Summary                  728 non-null    object \n",
      "dtypes: float64(2), object(5)\n",
      "memory usage: 39.9+ KB\n"
     ]
    }
   ],
   "source": [
    "df.info()"
   ]
  },
  {
   "cell_type": "code",
   "execution_count": 19,
   "id": "825cb53f",
   "metadata": {},
   "outputs": [
    {
     "data": {
      "text/html": [
       "<div>\n",
       "<style scoped>\n",
       "    .dataframe tbody tr th:only-of-type {\n",
       "        vertical-align: middle;\n",
       "    }\n",
       "\n",
       "    .dataframe tbody tr th {\n",
       "        vertical-align: top;\n",
       "    }\n",
       "\n",
       "    .dataframe thead th {\n",
       "        text-align: right;\n",
       "    }\n",
       "</style>\n",
       "<table border=\"1\" class=\"dataframe\">\n",
       "  <thead>\n",
       "    <tr style=\"text-align: right;\">\n",
       "      <th></th>\n",
       "      <th>File_Name</th>\n",
       "      <th>Relevance_for_longevity</th>\n",
       "    </tr>\n",
       "  </thead>\n",
       "  <tbody>\n",
       "    <tr>\n",
       "      <th>count</th>\n",
       "      <td>728.000000</td>\n",
       "      <td>728.000000</td>\n",
       "    </tr>\n",
       "    <tr>\n",
       "      <th>mean</th>\n",
       "      <td>2067.035847</td>\n",
       "      <td>0.423034</td>\n",
       "    </tr>\n",
       "    <tr>\n",
       "      <th>std</th>\n",
       "      <td>333.114360</td>\n",
       "      <td>0.286816</td>\n",
       "    </tr>\n",
       "    <tr>\n",
       "      <th>min</th>\n",
       "      <td>706.199600</td>\n",
       "      <td>0.000000</td>\n",
       "    </tr>\n",
       "    <tr>\n",
       "      <th>25%</th>\n",
       "      <td>1904.107498</td>\n",
       "      <td>0.200000</td>\n",
       "    </tr>\n",
       "    <tr>\n",
       "      <th>50%</th>\n",
       "      <td>2109.056765</td>\n",
       "      <td>0.400000</td>\n",
       "    </tr>\n",
       "    <tr>\n",
       "      <th>75%</th>\n",
       "      <td>2311.107678</td>\n",
       "      <td>0.700000</td>\n",
       "    </tr>\n",
       "    <tr>\n",
       "      <th>max</th>\n",
       "      <td>2503.187010</td>\n",
       "      <td>1.000000</td>\n",
       "    </tr>\n",
       "  </tbody>\n",
       "</table>\n",
       "</div>"
      ],
      "text/plain": [
       "         File_Name  Relevance_for_longevity\n",
       "count   728.000000               728.000000\n",
       "mean   2067.035847                 0.423034\n",
       "std     333.114360                 0.286816\n",
       "min     706.199600                 0.000000\n",
       "25%    1904.107498                 0.200000\n",
       "50%    2109.056765                 0.400000\n",
       "75%    2311.107678                 0.700000\n",
       "max    2503.187010                 1.000000"
      ]
     },
     "execution_count": 19,
     "metadata": {},
     "output_type": "execute_result"
    }
   ],
   "source": [
    "df.describe()"
   ]
  },
  {
   "cell_type": "code",
   "execution_count": 28,
   "id": "204f2540",
   "metadata": {},
   "outputs": [
    {
     "data": {
      "text/plain": [
       "'Unclear'"
      ]
     },
     "execution_count": 28,
     "metadata": {},
     "output_type": "execute_result"
    }
   ],
   "source": [
    "random_summary = df.sample(n=1)[\"Peer Reviewed\"].values[0]\n",
    "random_summary"
   ]
  },
  {
   "cell_type": "code",
   "execution_count": null,
   "id": "6ed5306d",
   "metadata": {},
   "outputs": [
    {
     "data": {
      "text/plain": [
       "'Unclear'"
      ]
     },
     "execution_count": 24,
     "metadata": {},
     "output_type": "execute_result"
    }
   ],
   "source": []
  }
 ],
 "metadata": {
  "kernelspec": {
   "display_name": ".venv",
   "language": "python",
   "name": "python3"
  },
  "language_info": {
   "codemirror_mode": {
    "name": "ipython",
    "version": 3
   },
   "file_extension": ".py",
   "mimetype": "text/x-python",
   "name": "python",
   "nbconvert_exporter": "python",
   "pygments_lexer": "ipython3",
   "version": "3.11.3"
  }
 },
 "nbformat": 4,
 "nbformat_minor": 5
}
