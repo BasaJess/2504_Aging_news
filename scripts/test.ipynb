{
 "cells": [
  {
   "cell_type": "code",
   "execution_count": 1,
   "id": "e046eae1",
   "metadata": {},
   "outputs": [],
   "source": [
    "import importlib\n",
    "import pandas as pd"
   ]
  },
  {
   "cell_type": "code",
   "execution_count": 5,
   "id": "5302fa84",
   "metadata": {},
   "outputs": [],
   "source": [
    "#import from a py file\n",
    "load_other_file = importlib.import_module(\"34_Most_relevant_docs_list_maker\")\n",
    "retrieve_most_relevant_docs_for_streamlit = load_other_file.retrieve_most_relevant_docs_for_streamlit\n",
    "#extract_parent_path = load_other_file.extract_parent_path\n",
    "most_relevant_docs_list = load_other_file.most_relevant_docs_list\n",
    "\n"
   ]
  },
  {
   "cell_type": "code",
   "execution_count": null,
   "id": "9a9d3e7a",
   "metadata": {},
   "outputs": [],
   "source": [
    "df = retrieve_most_relevant_docs_for_streamlit()"
   ]
  },
  {
   "cell_type": "code",
   "execution_count": null,
   "id": "18c63a1d",
   "metadata": {},
   "outputs": [],
   "source": [
    "df.head()"
   ]
  },
  {
   "cell_type": "code",
   "execution_count": 3,
   "id": "09ad1849",
   "metadata": {},
   "outputs": [],
   "source": [
    "df = pd.read_csv(\"../data/results/cleaned_docs_info.csv\")"
   ]
  },
  {
   "cell_type": "code",
   "execution_count": 6,
   "id": "576c47dd",
   "metadata": {},
   "outputs": [
    {
     "name": "stdout",
     "output_type": "stream",
     "text": [
      "                    Author        Date   \n",
      "0                  Unknown  2023-04-13  \\\n",
      "1                  Unknown  2025-04-26   \n",
      "2                  Unknown  2025-04-13   \n",
      "3                  Unknown  2025-04-13   \n",
      "4                  Unknown  2025-04-13   \n",
      "5                  Unknown  2025-03-22   \n",
      "6                  Unknown  2025-03-22   \n",
      "7                  Unknown  2025-03-22   \n",
      "8  Ch Skiadas & C. Skiadas  2025-03-22   \n",
      "9                  Unknown  2025-03-22   \n",
      "\n",
      "                                         Institution   \n",
      "0  Please provide the article title or DOI, and I...  \\\n",
      "1                                            Unclear   \n",
      "2  Based on the provided context, here are the na...   \n",
      "3  Based on the provided context, here are the na...   \n",
      "4                                            Unclear   \n",
      "5                                            Unclear   \n",
      "6  Based on the provided context, here are the na...   \n",
      "7                                            Unclear   \n",
      "8                                              arXiv   \n",
      "9  The name of the institution that published thi...   \n",
      "\n",
      "                                       Peer_Reviewed  Relevance_for_longevity   \n",
      "0  Based on the provided context, I would say \"un...                      1.0  \\\n",
      "1                                            Unclear                      0.9   \n",
      "2                                            Unclear                      0.9   \n",
      "3                                            Unclear                      0.9   \n",
      "4                                            Unclear                      0.9   \n",
      "5  Based on the context, I would say \"unclear\". T...                      0.9   \n",
      "6  Based on the context, I would say \"unclear\". T...                      0.9   \n",
      "7                                            Unclear                      0.9   \n",
      "8                                            Unclear                      0.9   \n",
      "9                                            Unclear                      0.9   \n",
      "\n",
      "                                             Summary  \n",
      "0  The document appears to be an article or repor...  \n",
      "1  The document discusses the longevity record of...  \n",
      "2  Unfortunately, there is no document provided, ...  \n",
      "3  The document discusses the use of databases to...  \n",
      "4  The document appears to be a research paper di...  \n",
      "5  The document discusses a study on brain activi...  \n",
      "6  The document discusses the concept of informat...  \n",
      "7  The document discusses the relationship betwee...  \n",
      "8  The document appears to be a collection of dat...  \n",
      "9  The document appears to be a research paper or...  \n",
      "[{\"Author\":\"Unknown\",\"Date\":\"2023-04-13\",\"Institution\":\"Please provide the article title or DOI, and I'll do my best to extract the name of the institution that published it.\",\"Peer_Reviewed\":\"Based on the provided context, I would say \\\"unclear\\\". The documents cited are research articles and reviews, but there is no explicit indication that the document itself is peer-reviewed.\",\"Relevance_for_longevity\":1.0,\"Summary\":\"The document appears to be an article or report about the development of a bioinformatics project called Just-DNA-Seq. The project was co-founded by Anton Kulaga and others, and involved a team of researchers and developers who contributed to various aspects of the project, including bioinformatic pipeline development, architecture development, team management, and article writing. The report describes the architecture of the Just-DNA-Seq platform, which uses Open Cravat module naming rules and design patterns to create a report pipeline. The platform uses post-aggregators to process data and save results in a SQLite database, and then uses a templating engine to generate reports. The document also includes acknowledgments and information about the availability of the source code.\"},{\"Author\":\"Unknown\",\"Date\":\"2025-04-26\",\"Institution\":\"Unclear\",\"Peer_Reviewed\":\"Unclear\",\"Relevance_for_longevity\":0.9,\"Summary\":\"The document discusses the longevity record of Jeanne Louise Calment, who lived 122.45 years, making her the longest-lived person with a reliably documented age. The author argues that her record does not provide evidence that human longevity is approaching a biological limit, and that progress in increasing lifespans has been due to reductions in death rates and the postponement of high mortality rates to higher ages. The author also notes that the inclusion criteria for lists of supercentenarians, such as the Gerontology Research Group and Epstein lists, are not as strict as those of the International Database on Longevity (IDL) list.\"},{\"Author\":\"Unknown\",\"Date\":\"2025-04-13\",\"Institution\":\"Based on the provided context, here are the names of the institutions that published the articles:\\n\\n1. PLoS ONE (Public Library of Science)\\n2. Population Studies ( unclear )\\n3. Proc Natl Acad Sci U S A (National Academy of Sciences)\\n4. Hum Reprod ( unclear )\\n5. Journal of Computational Physics ( unclear )\\n6. Cambridge University Press ( unclear )\\n7. Aldine De Gruyter ( unclear )\\n8. Am J Primatol ( unclear )\\n9. J Hum Evol ( unclear )\\n10. Evol Hum Behav ( unclear )\\n\\nNote that some of the institutions may not be explicitly mentioned in the context, so I've marked those as \\\"unclear\\\".\",\"Peer_Reviewed\":\"Unclear\",\"Relevance_for_longevity\":0.9,\"Summary\":\"Unfortunately, there is no document provided, only a context with references to various scientific papers and articles. Therefore, I cannot write a summary of the document as there is no document to summarize. If you would like to provide the actual document, I would be happy to assist you in summarizing it.\"},{\"Author\":\"Unknown\",\"Date\":\"2025-04-13\",\"Institution\":\"Based on the provided context, here are the names of the institutions that published the articles:\\n\\n1. Proc. R. Soc. B - unclear (Royal Society)\\n2. Philos. Trans. R. Soc. B Biol. Sci. - unclear (Royal Society)\\n3. Front. Immunol. - unclear (Frontiers)\\n4. Trends Ecol. Evol. - unclear (Elsevier)\\n5. Nat. Educ. - unclear (Nature)\\n6. MOJ Anat. Physiol. - unclear (MedCrave)\\n7. N. Engl. J. Med. - unclear (Massachusetts Medical Society)\\n8. Bioinformatics - unclear (Oxford University Press)\\n9. Nat. Protoc. - unclear (Nature)\\n10. Mol. Biol. Evol. - unclear (Oxford University Press)\\n11. Curr. Sci. - unclear (Indian Academy of Sciences)\\n12. Nature - unclear (Macmillan Publishers Limited)\\n13. J. Genet. - unclear (Indian Academy of Sciences)\\n\\nPlease note that some of these institutions may be unclear due to the lack of information provided in the context.\",\"Peer_Reviewed\":\"Unclear\",\"Relevance_for_longevity\":0.9,\"Summary\":\"The document discusses the use of databases to calculate the number of gene copy numbers across species, rather than performing pairwise or multiple genome alignment for ortholog identification. It also presents the results of regression analyses for tumor suppressor genes (TSGs), gatekeepers, and caretakers, which show significant correlations between gene copy numbers and cancer risk. The document also references several scientific papers and R packages used in the analysis.\"},{\"Author\":\"Unknown\",\"Date\":\"2025-04-13\",\"Institution\":\"Unclear\",\"Peer_Reviewed\":\"Unclear\",\"Relevance_for_longevity\":0.9,\"Summary\":\"The document appears to be a research paper discussing the concept of Neuroscientific Performance-Enhancing Agents (NSPAN) and its potential benefits and risks. The authors argue that NSPAN, which focuses on individual health and collective welfare, may be more acceptable to the public than traditional Performance-Enhancing Cognitive Enhancers (PCE), which prioritize short-term gains and are often associated with negative attitudes. The paper also touches on the regulation of PCE and the importance of balancing benefits and risks. Additionally, it mentions the role of polyphenols in neurodegenerative diseases and the potential benefits of sirtuins in maintaining healthy brain function.\"},{\"Author\":\"Unknown\",\"Date\":\"2025-03-22\",\"Institution\":\"Unclear\",\"Peer_Reviewed\":\"Based on the context, I would say \\\"unclear\\\". The document appears to be a research article published in the journal \\\"Scientific Reports\\\", but it does not explicitly state that it has undergone peer review.\",\"Relevance_for_longevity\":0.9,\"Summary\":\"The document discusses a study on brain activity in children and young adults, aged 6-18 years old, using functional magnetic resonance imaging (fMRI). The study aimed to investigate the relationship between brain activity and age, and how it changes over time. The researchers used a dataset of 241 samples, with 134 males, and found that the mean age was 11.84 years. The study also included a dataset of elderly people, aged over 18 years old, for comparison. The results showed that brain activity changes significantly with age, and the study used functional entropy to quantify and visualize these changes.\"},{\"Author\":\"Unknown\",\"Date\":\"2025-03-22\",\"Institution\":\"Based on the provided context, here are the names of the institutions that published the articles:\\n\\n1. Academic Press\\n2. unclear\\n3. Med Sci Sports Exerc\\n4. Proc Biol Sci\\n5. Pediatr Res\\n6. Med Hypotheses\\n7. Neuroreport\\n8. Cell Rep\\n9. Genomics Inform\\n10. Aging Cell\\n11. Q Rev Biol\\n12. Ageing Res Rev\\n13. Bell System Tech J\\n\\nNote that some of these may not be traditional institutions, but rather journals or publications.\",\"Peer_Reviewed\":\"Based on the context, I would say \\\"unclear\\\". The references provided are from various sources, including academic journals, books, and conference proceedings, but there is no explicit indication that the document itself has undergone peer review.\",\"Relevance_for_longevity\":0.9,\"Summary\":\"The document discusses the concept of information-rich environments and their potential impact on biological parameters and senescence. It defines information as a meaningful set of data or patterns that influence the formation or transformation of other data or patterns to reduce uncertainty and achieve a goal. The author suggests that an information-rich environment can affect biological parameters and lead to a reduced rate of senescence. The document also touches on the idea that evolution through natural selection is driven by a perpetual conflict of individuals competing for limited resources, and that somatic death is a germ cell-triggered event.\"},{\"Author\":\"Unknown\",\"Date\":\"2025-03-22\",\"Institution\":\"Unclear\",\"Peer_Reviewed\":\"Unclear\",\"Relevance_for_longevity\":0.9,\"Summary\":\"The document discusses the relationship between the structural complexity of an organism and its potential for longevity, functionality, and development. It argues that an organism's structural complexity determines its potential for longevity, as well as its capacity for basic functionality and functional compensation. The document also notes that the time required for an organism's development is directly related to its structural complexity, and that a higher structural complexity does not necessarily translate to a higher level of functionality. The document uses examples, such as the comparison between the human brain and that of a cow, to illustrate these points.\"},{\"Author\":\"Ch Skiadas & C. Skiadas\",\"Date\":\"2025-03-22\",\"Institution\":\"arXiv\",\"Peer_Reviewed\":\"Unclear\",\"Relevance_for_longevity\":0.9,\"Summary\":\"The document appears to be a collection of data and research related to Healthy Life Years Lost (HALE) estimates for various countries in Europe. It includes data from the World Health Organization (WHO) and Eurostat, as well as research papers and methodologies used to estimate HALE. The document provides tables and charts showing HALE estimates for males and females in different age groups, as well as comparisons between WHO estimates and those obtained using a direct method. The research papers discussed in the document explore the relationship between the Weibull shape parameter and HALE estimates, as well as the estimation of HALE using simple models based on mortality rates.\"},{\"Author\":\"Unknown\",\"Date\":\"2025-03-22\",\"Institution\":\"The name of the institution that published this article is unclear.\",\"Peer_Reviewed\":\"Unclear\",\"Relevance_for_longevity\":0.9,\"Summary\":\"The document appears to be a research paper or article that discusses the application of various machine learning and statistical techniques to analyze and predict patient outcomes in a medical context. The paper presents the results of several experiments that combine different features and algorithms to improve the accuracy of survival analysis models. The features used include region-based, parcellation, and radiomic features, which are combined in different ways to create various models. The results are presented in the form of tables and statistical analyses, including p-values and confidence intervals. The paper also references several other research papers and articles in the field of survival analysis and machine learning.\"}]\n"
     ]
    }
   ],
   "source": [
    "top_docs_df, top_docs_json = most_relevant_docs_list(df)\n",
    "\n",
    "# Display\n",
    "print(top_docs_df)      # For console/table preview\n",
    "print(top_docs_json)    # For API or web output\n",
    "\n",
    "\n"
   ]
  },
  {
   "cell_type": "code",
   "execution_count": 7,
   "id": "7687e298",
   "metadata": {},
   "outputs": [],
   "source": [
    "top_docs_df.to_csv(\"topdocs.csv\")"
   ]
  },
  {
   "cell_type": "code",
   "execution_count": 11,
   "id": "25f7d7b5",
   "metadata": {},
   "outputs": [],
   "source": [
    "with open(\"top_10_docs.json\", \"w\", encoding=\"utf-8\") as f:\n",
    "    f.write(top_docs_json)\n"
   ]
  },
  {
   "cell_type": "code",
   "execution_count": null,
   "id": "51faeac5",
   "metadata": {},
   "outputs": [
    {
     "name": "stdout",
     "output_type": "stream",
     "text": [
      "File path : c:\\Users\\email\\Desktop\\2504_Aging_news\\2504_Aging_news\\scripts\n"
     ]
    },
    {
     "ename": "",
     "evalue": "",
     "output_type": "error",
     "traceback": [
      "\u001b[1;31mThe Kernel crashed while executing code in the current cell or a previous cell. \n",
      "\u001b[1;31mPlease review the code in the cell(s) to identify a possible cause of the failure. \n",
      "\u001b[1;31mClick <a href='https://aka.ms/vscodeJupyterKernelCrash'>here</a> for more info. \n",
      "\u001b[1;31mView Jupyter <a href='command:jupyter.viewOutput'>log</a> for further details."
     ]
    }
   ],
   "source": [
    "from pathlib import Path\n",
    "#print(\"File path :\" , Path(__file__).absolute() )\n",
    "print(\"File path :\" , Path().absolute() )"
   ]
  }
 ],
 "metadata": {
  "kernelspec": {
   "display_name": ".venv",
   "language": "python",
   "name": "python3"
  },
  "language_info": {
   "codemirror_mode": {
    "name": "ipython",
    "version": 3
   },
   "file_extension": ".py",
   "mimetype": "text/x-python",
   "name": "python",
   "nbconvert_exporter": "python",
   "pygments_lexer": "ipython3",
   "version": "3.11.3"
  }
 },
 "nbformat": 4,
 "nbformat_minor": 5
}
