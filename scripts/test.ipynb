{
 "cells": [
  {
   "cell_type": "code",
   "execution_count": 1,
   "id": "e046eae1",
   "metadata": {},
   "outputs": [],
   "source": [
    "import importlib\n",
    "import pandas as pd"
   ]
  },
  {
   "cell_type": "code",
   "execution_count": 2,
   "id": "5302fa84",
   "metadata": {},
   "outputs": [],
   "source": [
    "#import from a py file\n",
    "load_other_file = importlib.import_module(\"31_Data_cleaner\")\n",
    "extract_date_from_text = load_other_file.extract_date_from_text\n",
    "#extract_parent_path = load_other_file.extract_parent_path\n",
    "\n"
   ]
  },
  {
   "cell_type": "code",
   "execution_count": 3,
   "id": "576c47dd",
   "metadata": {},
   "outputs": [],
   "source": [
    "import random\n",
    "\n"
   ]
  },
  {
   "cell_type": "code",
   "execution_count": 4,
   "id": "09ad1849",
   "metadata": {},
   "outputs": [],
   "source": [
    "df = pd.read_csv(\"../data/results/papers_info.csv\")"
   ]
  },
  {
   "cell_type": "code",
   "execution_count": 42,
   "id": "f886714c",
   "metadata": {},
   "outputs": [
    {
     "name": "stdout",
     "output_type": "stream",
     "text": [
      "2003-04-13\n"
     ]
    }
   ],
   "source": [
    "print(extract_date_from_text(df[\"Date_of_publication\"].dropna().sample(1).values[0]))"
   ]
  },
  {
   "cell_type": "code",
   "execution_count": null,
   "id": "5d0cc744",
   "metadata": {},
   "outputs": [],
   "source": [
    "random_date = df[\"Date_of_publication\"].dropna().sample(1).values[0]\n",
    "random_date"
   ]
  }
 ],
 "metadata": {
  "kernelspec": {
   "display_name": ".venv",
   "language": "python",
   "name": "python3"
  },
  "language_info": {
   "codemirror_mode": {
    "name": "ipython",
    "version": 3
   },
   "file_extension": ".py",
   "mimetype": "text/x-python",
   "name": "python",
   "nbconvert_exporter": "python",
   "pygments_lexer": "ipython3",
   "version": "3.11.3"
  }
 },
 "nbformat": 4,
 "nbformat_minor": 5
}
