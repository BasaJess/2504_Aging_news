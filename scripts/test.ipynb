{
 "cells": [
  {
   "cell_type": "code",
   "execution_count": 1,
   "id": "e046eae1",
   "metadata": {},
   "outputs": [],
   "source": [
    "import importlib\n",
    "import pandas as pd"
   ]
  },
  {
   "cell_type": "code",
   "execution_count": 2,
   "id": "5302fa84",
   "metadata": {},
   "outputs": [],
   "source": [
    "#import from a py file\n",
    "load_other_file = importlib.import_module(\"31_Data_cleaner\")\n",
    "clean_and_save_docs_df = load_other_file.clean_and_save_docs_df\n",
    "#extract_parent_path = load_other_file.extract_parent_path\n",
    "\n"
   ]
  },
  {
   "cell_type": "code",
   "execution_count": null,
   "id": "576c47dd",
   "metadata": {},
   "outputs": [],
   "source": [
    "import random\n",
    "\n"
   ]
  },
  {
   "cell_type": "code",
   "execution_count": 3,
   "id": "09ad1849",
   "metadata": {},
   "outputs": [],
   "source": [
    "df = pd.read_csv(\"../data/results/papers_info.csv\")"
   ]
  },
  {
   "cell_type": "code",
   "execution_count": 4,
   "id": "f886714c",
   "metadata": {},
   "outputs": [],
   "source": [
    "df = clean_and_save_docs_df(df)"
   ]
  },
  {
   "cell_type": "code",
   "execution_count": null,
   "id": "a3074145",
   "metadata": {},
   "outputs": [],
   "source": [
    "num_nat_values = df['Date_of_publication'].isna().sum()\n",
    "print(f\"Number of NaT values: {num_nat_values}\")\n"
   ]
  },
  {
   "cell_type": "code",
   "execution_count": null,
   "id": "715a1b92",
   "metadata": {},
   "outputs": [],
   "source": [
    "nat_rows = df[df['Date_of_publication'].isna()]\n",
    "print(nat_rows)\n"
   ]
  },
  {
   "cell_type": "code",
   "execution_count": null,
   "id": "879bba27",
   "metadata": {},
   "outputs": [],
   "source": [
    "df_sorted = df.sort_values(by=\"Date_of_publication\", ascending=False)\n",
    "print(df_sorted.head())\n"
   ]
  },
  {
   "cell_type": "code",
   "execution_count": null,
   "id": "cb325d8a",
   "metadata": {},
   "outputs": [],
   "source": [
    "df_sorted.head(50)"
   ]
  },
  {
   "cell_type": "code",
   "execution_count": null,
   "id": "5d0cc744",
   "metadata": {},
   "outputs": [],
   "source": [
    "random_date = df[\"Date_of_publication\"].dropna().sample(1).values[0]\n",
    "random_date"
   ]
  }
 ],
 "metadata": {
  "kernelspec": {
   "display_name": ".venv",
   "language": "python",
   "name": "python3"
  },
  "language_info": {
   "codemirror_mode": {
    "name": "ipython",
    "version": 3
   },
   "file_extension": ".py",
   "mimetype": "text/x-python",
   "name": "python",
   "nbconvert_exporter": "python",
   "pygments_lexer": "ipython3",
   "version": "3.11.3"
  }
 },
 "nbformat": 4,
 "nbformat_minor": 5
}
